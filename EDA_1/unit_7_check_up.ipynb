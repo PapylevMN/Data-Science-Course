{
  "cells": [
    {
      "cell_type": "markdown",
      "metadata": {},
      "source": [
        "## Винные обзоры"
      ]
    },
    {
      "cell_type": "markdown",
      "metadata": {},
      "source": [
        "+ country - страна-производитель вина\n",
        "+ description - подробное описание\n",
        "+ designation - название виноградника, где выращивают виноград для вина\n",
        "+ points - количество баллов, которое WineEnthusiast оценил вино по шкале от 1 до 100\n",
        "+ price - стоимость бутылки вина\n",
        "+ province - провинция или штат \n",
        "+ region_1 - винодельческий район в провинции или штате (например, Напа)\n",
        "+ region_2 - конкретный регион. Иногда в пределах винодельческой зоны указываются более конкретные регионы (например, Резерфорд в долине Напа), но это значение иногда может быть пустым.\n",
        "+ taster_name - имя дегустатора\n",
        "+ taster_twitter_handle - твиттер дегустатора\n",
        "+ title - название вина, который часто содержит годи др подробную информацию\n",
        "+ variety -  сорт винограда, из которого изготовлено вино (например, Пино Нуар).\n",
        "+ winery - винодельня, которая производила вино"
      ]
    },
    {
      "cell_type": "code",
      "execution_count": 1,
      "metadata": {},
      "outputs": [],
      "source": [
        "# импортируем необходимые пакеты\n",
        "\n",
        "import pandas as pd\n",
        "import seaborn as sns"
      ]
    },
    {
      "cell_type": "code",
      "execution_count": 3,
      "metadata": {},
      "outputs": [],
      "source": [
        "df = pd.read_csv('data/wine.csv') # чтение данных"
      ]
    },
    {
      "cell_type": "markdown",
      "metadata": {},
      "source": [
        "### Задание 5.1"
      ]
    },
    {
      "cell_type": "markdown",
      "metadata": {},
      "source": [
        "Составьте чек-лист всех этапов жизненного цикла модели машинного обучения для создания ИИ-сомелье. \n",
        "Подробно раскройте процесс разведывательного анализа данных с подэтапами. \n"
      ]
    },
    {
      "cell_type": "markdown",
      "metadata": {},
      "source": [
        "* Определение бизнес-проблемы\n",
        "* Сбор данных\n",
        "* Очистка данных от пропусков/выбросов/аномалий\n",
        "* Разведывательный анализ данных\n",
        "    + проектирование признаков (генерация из внешних источников данных, из признаков датасета)\n",
        "    + кодирование признаков\n",
        "    + проверка статистических гипотез\n",
        "    + отбор признаков\n",
        "* Разработка модели\n",
        "* Вывод модели в продакшн\n"
      ]
    },
    {
      "cell_type": "markdown",
      "metadata": {},
      "source": [
        "### Задание 5.2"
      ]
    },
    {
      "cell_type": "markdown",
      "metadata": {},
      "source": [
        "Проанализируйте представленный датасет и перечислите все числовые признаки"
      ]
    },
    {
      "cell_type": "code",
      "execution_count": 4,
      "metadata": {},
      "outputs": [
        {
          "data": {
            "text/plain": [
              "country                      43\n",
              "description              119955\n",
              "designation               37979\n",
              "points                       21\n",
              "price                       390\n",
              "province                    425\n",
              "region_1                   1229\n",
              "region_2                     17\n",
              "taster_name                  19\n",
              "taster_twitter_handle        15\n",
              "title                    118840\n",
              "variety                     707\n",
              "winery                    16757\n",
              "dtype: int64"
            ]
          },
          "execution_count": 4,
          "metadata": {},
          "output_type": "execute_result"
        }
      ],
      "source": [
        "df.nunique() # смотрим на кол-во уникальных признаков"
      ]
    },
    {
      "cell_type": "code",
      "execution_count": 5,
      "metadata": {},
      "outputs": [
        {
          "name": "stdout",
          "output_type": "stream",
          "text": [
            "<class 'pandas.core.frame.DataFrame'>\n",
            "RangeIndex: 129971 entries, 0 to 129970\n",
            "Data columns (total 13 columns):\n",
            " #   Column                 Non-Null Count   Dtype  \n",
            "---  ------                 --------------   -----  \n",
            " 0   country                129908 non-null  object \n",
            " 1   description            129971 non-null  object \n",
            " 2   designation            92506 non-null   object \n",
            " 3   points                 129971 non-null  int64  \n",
            " 4   price                  120975 non-null  float64\n",
            " 5   province               129908 non-null  object \n",
            " 6   region_1               108724 non-null  object \n",
            " 7   region_2               50511 non-null   object \n",
            " 8   taster_name            103727 non-null  object \n",
            " 9   taster_twitter_handle  98758 non-null   object \n",
            " 10  title                  129971 non-null  object \n",
            " 11  variety                129970 non-null  object \n",
            " 12  winery                 129971 non-null  object \n",
            "dtypes: float64(1), int64(1), object(11)\n",
            "memory usage: 12.9+ MB\n"
          ]
        }
      ],
      "source": [
        "df.info() # посмотрим на типы признаков. Претендента всего 2: points, price"
      ]
    },
    {
      "cell_type": "markdown",
      "metadata": {},
      "source": [
        "Смотрим на описание признаков и на распределение, чтобы точно убедиться, что они числовые:"
      ]
    },
    {
      "cell_type": "code",
      "execution_count": 6,
      "metadata": {},
      "outputs": [
        {
          "data": {
            "text/plain": [
              "array([[<AxesSubplot: title={'center': 'points'}>,\n",
              "        <AxesSubplot: title={'center': 'price'}>]], dtype=object)"
            ]
          },
          "execution_count": 6,
          "metadata": {},
          "output_type": "execute_result"
        },
        {
          "data": {
            "image/png": "[encoded data removed]",
            "text/plain": [
              "<Figure size 432x288 with 2 Axes>"
            ]
          },
          "metadata": {
            "needs_background": "light"
          },
          "output_type": "display_data"
        }
      ],
      "source": [
        "# построим распеределение всех возможных признаков быстрой просто визуализацией\n",
        "hist = df.hist()\n",
        "hist"
      ]
    },
    {
      "cell_type": "markdown",
      "metadata": {},
      "source": [
        "Ответ: points, price"
      ]
    },
    {
      "cell_type": "markdown",
      "metadata": {},
      "source": [
        "### Задание 5.3"
      ]
    },
    {
      "cell_type": "markdown",
      "metadata": {},
      "source": [
        "Проанализируйте датасет на наличие дублирующихся винных обзоров. Если дублирующиеся записи есть, удалите их. \n",
        "В поле ниже введите, сколько дублирующихся записей вам удалось обнаружить. \n"
      ]
    },
    {
      "cell_type": "code",
      "execution_count": 7,
      "metadata": {},
      "outputs": [
        {
          "name": "stdout",
          "output_type": "stream",
          "text": [
            "Число найденных дубликатов: 9983\n"
          ]
        }
      ],
      "source": [
        "mask = df.duplicated(subset=df.columns) # маска для фильтрации\n",
        "data_duplicates = df[mask] # фильтруем наш датасет\n",
        "print(f'Число найденных дубликатов: {data_duplicates.shape[0]}')"
      ]
    },
    {
      "cell_type": "code",
      "execution_count": 8,
      "metadata": {},
      "outputs": [],
      "source": [
        "df= df.drop_duplicates()"
      ]
    },
    {
      "cell_type": "markdown",
      "metadata": {},
      "source": [
        "### Задание 5.4"
      ]
    },
    {
      "cell_type": "markdown",
      "metadata": {},
      "source": [
        "Проверьте датасет на наличие пропусков в данных.\n",
        "В каких из представленных признаках были обнаружены пропуски?\n"
      ]
    },
    {
      "cell_type": "code",
      "execution_count": 9,
      "metadata": {},
      "outputs": [
        {
          "name": "stdout",
          "output_type": "stream",
          "text": [
            "<class 'pandas.core.frame.DataFrame'>\n",
            "Int64Index: 119988 entries, 0 to 129970\n",
            "Data columns (total 13 columns):\n",
            " #   Column                 Non-Null Count   Dtype  \n",
            "---  ------                 --------------   -----  \n",
            " 0   country                119929 non-null  object \n",
            " 1   description            119988 non-null  object \n",
            " 2   designation            85443 non-null   object \n",
            " 3   points                 119988 non-null  int64  \n",
            " 4   price                  111593 non-null  float64\n",
            " 5   province               119929 non-null  object \n",
            " 6   region_1               100428 non-null  object \n",
            " 7   region_2               46769 non-null   object \n",
            " 8   taster_name            95071 non-null   object \n",
            " 9   taster_twitter_handle  90542 non-null   object \n",
            " 10  title                  119988 non-null  object \n",
            " 11  variety                119987 non-null  object \n",
            " 12  winery                 119988 non-null  object \n",
            "dtypes: float64(1), int64(1), object(11)\n",
            "memory usage: 12.8+ MB\n"
          ]
        }
      ],
      "source": [
        "df.info() # смотрим краткую информацию о наборе данных и даем ответ"
      ]
    },
    {
      "cell_type": "markdown",
      "metadata": {},
      "source": [
        "### Задание 5.5"
      ]
    },
    {
      "cell_type": "markdown",
      "metadata": {},
      "source": [
        "Обработайте пропущенные значения в наборе данных любым известным вам способом, который вы изучили в  PYTHON-14. Очистка данных:\n",
        "\n",
        "Воспользуйтесь правилами:\n",
        "    \n",
        "+ Если какой-то из признаков имеет более 30-40 % пропусков, лучше избавьтесь от него: его заполнение может привести к сильному искажению общего распределения, а удаление записей — к большой утрате данных.\n",
        "+ Заполняйте данные с умом! Если перед вами количественный признак, то использование нецелого числа в качестве константы является как минимум нелогичным.\n",
        "+ Вы можете оставить пропуски как есть, просто заменив их на какой-то специальный символ. Например, для числовых неотрицательных признаков можно использовать число -1, а для категориальных — строку 'unknown'.\n"
      ]
    },
    {
      "cell_type": "code",
      "execution_count": 10,
      "metadata": {},
      "outputs": [
        {
          "data": {
            "text/plain": [
              "<AxesSubplot: >"
            ]
          },
          "execution_count": 10,
          "metadata": {},
          "output_type": "execute_result"
        },
        {
          "data": {
            "image/png": "[encoded data removed]",
            "text/plain": [
              "<Figure size 432x288 with 2 Axes>"
            ]
          },
          "metadata": {
            "needs_background": "light"
          },
          "output_type": "display_data"
        }
      ],
      "source": [
        "sns.heatmap(df.isnull()) # наглядная карта пропусков"
      ]
    },
    {
      "cell_type": "code",
      "execution_count": 11,
      "metadata": {},
      "outputs": [],
      "source": [
        "df = df.drop(['region_2'], axis=1) # имеет порядка 60% пропусков, лучше избавиться от такого признака"
      ]
    },
    {
      "cell_type": "code",
      "execution_count": 12,
      "metadata": {},
      "outputs": [
        {
          "data": {
            "text/plain": [
              "<AxesSubplot: >"
            ]
          },
          "execution_count": 12,
          "metadata": {},
          "output_type": "execute_result"
        },
        {
          "data": {
            "image/png": "[encoded data removed]",
            "text/plain": [
              "<Figure size 432x288 with 2 Axes>"
            ]
          },
          "metadata": {
            "needs_background": "light"
          },
          "output_type": "display_data"
        }
      ],
      "source": [
        "sns.heatmap(df.isnull()) # смотрим, какие признаки остались"
      ]
    },
    {
      "cell_type": "code",
      "execution_count": 13,
      "metadata": {},
      "outputs": [
        {
          "data": {
            "text/html": [
              "<div>\n",
              "<style scoped>\n",
              "    .dataframe tbody tr th:only-of-type {\n",
              "        vertical-align: middle;\n",
              "    }\n",
              "\n",
              "    .dataframe tbody tr th {\n",
              "        vertical-align: top;\n",
              "    }\n",
              "\n",
              "    .dataframe thead th {\n",
              "        text-align: right;\n",
              "    }\n",
              "</style>\n",
              "<table border=\"1\" class=\"dataframe\">\n",
              "  <thead>\n",
              "    <tr style=\"text-align: right;\">\n",
              "      <th></th>\n",
              "      <th>country</th>\n",
              "      <th>description</th>\n",
              "      <th>designation</th>\n",
              "      <th>points</th>\n",
              "      <th>price</th>\n",
              "      <th>province</th>\n",
              "      <th>region_1</th>\n",
              "      <th>taster_name</th>\n",
              "      <th>taster_twitter_handle</th>\n",
              "      <th>title</th>\n",
              "      <th>variety</th>\n",
              "      <th>winery</th>\n",
              "    </tr>\n",
              "  </thead>\n",
              "  <tbody>\n",
              "    <tr>\n",
              "      <th>0</th>\n",
              "      <td>Italy</td>\n",
              "      <td>Aromas include tropical fruit, broom, brimston...</td>\n",
              "      <td>Vulkà Bianco</td>\n",
              "      <td>87</td>\n",
              "      <td>NaN</td>\n",
              "      <td>Sicily &amp; Sardinia</td>\n",
              "      <td>Etna</td>\n",
              "      <td>Kerin O’Keefe</td>\n",
              "      <td>@kerinokeefe</td>\n",
              "      <td>Nicosia 2013 Vulkà Bianco  (Etna)</td>\n",
              "      <td>White Blend</td>\n",
              "      <td>Nicosia</td>\n",
              "    </tr>\n",
              "    <tr>\n",
              "      <th>1</th>\n",
              "      <td>Portugal</td>\n",
              "      <td>This is ripe and fruity, a wine that is smooth...</td>\n",
              "      <td>Avidagos</td>\n",
              "      <td>87</td>\n",
              "      <td>15.0</td>\n",
              "      <td>Douro</td>\n",
              "      <td>NaN</td>\n",
              "      <td>Roger Voss</td>\n",
              "      <td>@vossroger</td>\n",
              "      <td>Quinta dos Avidagos 2011 Avidagos Red (Douro)</td>\n",
              "      <td>Portuguese Red</td>\n",
              "      <td>Quinta dos Avidagos</td>\n",
              "    </tr>\n",
              "    <tr>\n",
              "      <th>2</th>\n",
              "      <td>US</td>\n",
              "      <td>Tart and snappy, the flavors of lime flesh and...</td>\n",
              "      <td>NaN</td>\n",
              "      <td>87</td>\n",
              "      <td>14.0</td>\n",
              "      <td>Oregon</td>\n",
              "      <td>Willamette Valley</td>\n",
              "      <td>Paul Gregutt</td>\n",
              "      <td>@paulgwine</td>\n",
              "      <td>Rainstorm 2013 Pinot Gris (Willamette Valley)</td>\n",
              "      <td>Pinot Gris</td>\n",
              "      <td>Rainstorm</td>\n",
              "    </tr>\n",
              "    <tr>\n",
              "      <th>3</th>\n",
              "      <td>US</td>\n",
              "      <td>Pineapple rind, lemon pith and orange blossom ...</td>\n",
              "      <td>Reserve Late Harvest</td>\n",
              "      <td>87</td>\n",
              "      <td>13.0</td>\n",
              "      <td>Michigan</td>\n",
              "      <td>Lake Michigan Shore</td>\n",
              "      <td>Alexander Peartree</td>\n",
              "      <td>NaN</td>\n",
              "      <td>St. Julian 2013 Reserve Late Harvest Riesling ...</td>\n",
              "      <td>Riesling</td>\n",
              "      <td>St. Julian</td>\n",
              "    </tr>\n",
              "    <tr>\n",
              "      <th>4</th>\n",
              "      <td>US</td>\n",
              "      <td>Much like the regular bottling from 2012, this...</td>\n",
              "      <td>Vintner's Reserve Wild Child Block</td>\n",
              "      <td>87</td>\n",
              "      <td>65.0</td>\n",
              "      <td>Oregon</td>\n",
              "      <td>Willamette Valley</td>\n",
              "      <td>Paul Gregutt</td>\n",
              "      <td>@paulgwine</td>\n",
              "      <td>Sweet Cheeks 2012 Vintner's Reserve Wild Child...</td>\n",
              "      <td>Pinot Noir</td>\n",
              "      <td>Sweet Cheeks</td>\n",
              "    </tr>\n",
              "  </tbody>\n",
              "</table>\n",
              "</div>"
            ],
            "text/plain": [
              "    country                                        description  \\\n",
              "0     Italy  Aromas include tropical fruit, broom, brimston...   \n",
              "1  Portugal  This is ripe and fruity, a wine that is smooth...   \n",
              "2        US  Tart and snappy, the flavors of lime flesh and...   \n",
              "3        US  Pineapple rind, lemon pith and orange blossom ...   \n",
              "4        US  Much like the regular bottling from 2012, this...   \n",
              "\n",
              "                          designation  points  price           province  \\\n",
              "0                        Vulkà Bianco      87    NaN  Sicily & Sardinia   \n",
              "1                            Avidagos      87   15.0              Douro   \n",
              "2                                 NaN      87   14.0             Oregon   \n",
              "3                Reserve Late Harvest      87   13.0           Michigan   \n",
              "4  Vintner's Reserve Wild Child Block      87   65.0             Oregon   \n",
              "\n",
              "              region_1         taster_name taster_twitter_handle  \\\n",
              "0                 Etna       Kerin O’Keefe          @kerinokeefe   \n",
              "1                  NaN          Roger Voss            @vossroger   \n",
              "2    Willamette Valley        Paul Gregutt           @paulgwine    \n",
              "3  Lake Michigan Shore  Alexander Peartree                   NaN   \n",
              "4    Willamette Valley        Paul Gregutt           @paulgwine    \n",
              "\n",
              "                                               title         variety  \\\n",
              "0                  Nicosia 2013 Vulkà Bianco  (Etna)     White Blend   \n",
              "1      Quinta dos Avidagos 2011 Avidagos Red (Douro)  Portuguese Red   \n",
              "2      Rainstorm 2013 Pinot Gris (Willamette Valley)      Pinot Gris   \n",
              "3  St. Julian 2013 Reserve Late Harvest Riesling ...        Riesling   \n",
              "4  Sweet Cheeks 2012 Vintner's Reserve Wild Child...      Pinot Noir   \n",
              "\n",
              "                winery  \n",
              "0              Nicosia  \n",
              "1  Quinta dos Avidagos  \n",
              "2            Rainstorm  \n",
              "3           St. Julian  \n",
              "4         Sweet Cheeks  "
            ]
          },
          "execution_count": 13,
          "metadata": {},
          "output_type": "execute_result"
        }
      ],
      "source": [
        "df.head()"
      ]
    },
    {
      "cell_type": "code",
      "execution_count": 14,
      "metadata": {},
      "outputs": [
        {
          "data": {
            "text/html": [
              "<div>\n",
              "<style scoped>\n",
              "    .dataframe tbody tr th:only-of-type {\n",
              "        vertical-align: middle;\n",
              "    }\n",
              "\n",
              "    .dataframe tbody tr th {\n",
              "        vertical-align: top;\n",
              "    }\n",
              "\n",
              "    .dataframe thead th {\n",
              "        text-align: right;\n",
              "    }\n",
              "</style>\n",
              "<table border=\"1\" class=\"dataframe\">\n",
              "  <thead>\n",
              "    <tr style=\"text-align: right;\">\n",
              "      <th></th>\n",
              "      <th>country</th>\n",
              "      <th>description</th>\n",
              "      <th>designation</th>\n",
              "      <th>points</th>\n",
              "      <th>price</th>\n",
              "      <th>province</th>\n",
              "      <th>region_1</th>\n",
              "      <th>taster_name</th>\n",
              "      <th>taster_twitter_handle</th>\n",
              "      <th>title</th>\n",
              "      <th>variety</th>\n",
              "      <th>winery</th>\n",
              "    </tr>\n",
              "  </thead>\n",
              "  <tbody>\n",
              "    <tr>\n",
              "      <th>count</th>\n",
              "      <td>119929</td>\n",
              "      <td>119988</td>\n",
              "      <td>85443</td>\n",
              "      <td>119988.000000</td>\n",
              "      <td>111593.000000</td>\n",
              "      <td>119929</td>\n",
              "      <td>100428</td>\n",
              "      <td>95071</td>\n",
              "      <td>90542</td>\n",
              "      <td>119988</td>\n",
              "      <td>119987</td>\n",
              "      <td>119988</td>\n",
              "    </tr>\n",
              "    <tr>\n",
              "      <th>unique</th>\n",
              "      <td>43</td>\n",
              "      <td>119955</td>\n",
              "      <td>37979</td>\n",
              "      <td>NaN</td>\n",
              "      <td>NaN</td>\n",
              "      <td>425</td>\n",
              "      <td>1229</td>\n",
              "      <td>19</td>\n",
              "      <td>15</td>\n",
              "      <td>118840</td>\n",
              "      <td>707</td>\n",
              "      <td>16757</td>\n",
              "    </tr>\n",
              "    <tr>\n",
              "      <th>top</th>\n",
              "      <td>US</td>\n",
              "      <td>This opens with subtle aromas of wild flower a...</td>\n",
              "      <td>Reserve</td>\n",
              "      <td>NaN</td>\n",
              "      <td>NaN</td>\n",
              "      <td>California</td>\n",
              "      <td>Napa Valley</td>\n",
              "      <td>Roger Voss</td>\n",
              "      <td>@vossroger</td>\n",
              "      <td>Gloria Ferrer NV Sonoma Brut Sparkling (Sonoma...</td>\n",
              "      <td>Pinot Noir</td>\n",
              "      <td>Wines &amp; Winemakers</td>\n",
              "    </tr>\n",
              "    <tr>\n",
              "      <th>freq</th>\n",
              "      <td>50457</td>\n",
              "      <td>2</td>\n",
              "      <td>1871</td>\n",
              "      <td>NaN</td>\n",
              "      <td>NaN</td>\n",
              "      <td>33656</td>\n",
              "      <td>4174</td>\n",
              "      <td>23560</td>\n",
              "      <td>23560</td>\n",
              "      <td>9</td>\n",
              "      <td>12278</td>\n",
              "      <td>211</td>\n",
              "    </tr>\n",
              "    <tr>\n",
              "      <th>mean</th>\n",
              "      <td>NaN</td>\n",
              "      <td>NaN</td>\n",
              "      <td>NaN</td>\n",
              "      <td>88.442236</td>\n",
              "      <td>35.620747</td>\n",
              "      <td>NaN</td>\n",
              "      <td>NaN</td>\n",
              "      <td>NaN</td>\n",
              "      <td>NaN</td>\n",
              "      <td>NaN</td>\n",
              "      <td>NaN</td>\n",
              "      <td>NaN</td>\n",
              "    </tr>\n",
              "    <tr>\n",
              "      <th>std</th>\n",
              "      <td>NaN</td>\n",
              "      <td>NaN</td>\n",
              "      <td>NaN</td>\n",
              "      <td>3.092915</td>\n",
              "      <td>42.103728</td>\n",
              "      <td>NaN</td>\n",
              "      <td>NaN</td>\n",
              "      <td>NaN</td>\n",
              "      <td>NaN</td>\n",
              "      <td>NaN</td>\n",
              "      <td>NaN</td>\n",
              "      <td>NaN</td>\n",
              "    </tr>\n",
              "    <tr>\n",
              "      <th>min</th>\n",
              "      <td>NaN</td>\n",
              "      <td>NaN</td>\n",
              "      <td>NaN</td>\n",
              "      <td>80.000000</td>\n",
              "      <td>4.000000</td>\n",
              "      <td>NaN</td>\n",
              "      <td>NaN</td>\n",
              "      <td>NaN</td>\n",
              "      <td>NaN</td>\n",
              "      <td>NaN</td>\n",
              "      <td>NaN</td>\n",
              "      <td>NaN</td>\n",
              "    </tr>\n",
              "    <tr>\n",
              "      <th>25%</th>\n",
              "      <td>NaN</td>\n",
              "      <td>NaN</td>\n",
              "      <td>NaN</td>\n",
              "      <td>86.000000</td>\n",
              "      <td>17.000000</td>\n",
              "      <td>NaN</td>\n",
              "      <td>NaN</td>\n",
              "      <td>NaN</td>\n",
              "      <td>NaN</td>\n",
              "      <td>NaN</td>\n",
              "      <td>NaN</td>\n",
              "      <td>NaN</td>\n",
              "    </tr>\n",
              "    <tr>\n",
              "      <th>50%</th>\n",
              "      <td>NaN</td>\n",
              "      <td>NaN</td>\n",
              "      <td>NaN</td>\n",
              "      <td>88.000000</td>\n",
              "      <td>25.000000</td>\n",
              "      <td>NaN</td>\n",
              "      <td>NaN</td>\n",
              "      <td>NaN</td>\n",
              "      <td>NaN</td>\n",
              "      <td>NaN</td>\n",
              "      <td>NaN</td>\n",
              "      <td>NaN</td>\n",
              "    </tr>\n",
              "    <tr>\n",
              "      <th>75%</th>\n",
              "      <td>NaN</td>\n",
              "      <td>NaN</td>\n",
              "      <td>NaN</td>\n",
              "      <td>91.000000</td>\n",
              "      <td>42.000000</td>\n",
              "      <td>NaN</td>\n",
              "      <td>NaN</td>\n",
              "      <td>NaN</td>\n",
              "      <td>NaN</td>\n",
              "      <td>NaN</td>\n",
              "      <td>NaN</td>\n",
              "      <td>NaN</td>\n",
              "    </tr>\n",
              "    <tr>\n",
              "      <th>max</th>\n",
              "      <td>NaN</td>\n",
              "      <td>NaN</td>\n",
              "      <td>NaN</td>\n",
              "      <td>100.000000</td>\n",
              "      <td>3300.000000</td>\n",
              "      <td>NaN</td>\n",
              "      <td>NaN</td>\n",
              "      <td>NaN</td>\n",
              "      <td>NaN</td>\n",
              "      <td>NaN</td>\n",
              "      <td>NaN</td>\n",
              "      <td>NaN</td>\n",
              "    </tr>\n",
              "  </tbody>\n",
              "</table>\n",
              "</div>"
            ],
            "text/plain": [
              "       country                                        description designation  \\\n",
              "count   119929                                             119988       85443   \n",
              "unique      43                                             119955       37979   \n",
              "top         US  This opens with subtle aromas of wild flower a...     Reserve   \n",
              "freq     50457                                                  2        1871   \n",
              "mean       NaN                                                NaN         NaN   \n",
              "std        NaN                                                NaN         NaN   \n",
              "min        NaN                                                NaN         NaN   \n",
              "25%        NaN                                                NaN         NaN   \n",
              "50%        NaN                                                NaN         NaN   \n",
              "75%        NaN                                                NaN         NaN   \n",
              "max        NaN                                                NaN         NaN   \n",
              "\n",
              "               points          price    province     region_1 taster_name  \\\n",
              "count   119988.000000  111593.000000      119929       100428       95071   \n",
              "unique            NaN            NaN         425         1229          19   \n",
              "top               NaN            NaN  California  Napa Valley  Roger Voss   \n",
              "freq              NaN            NaN       33656         4174       23560   \n",
              "mean        88.442236      35.620747         NaN          NaN         NaN   \n",
              "std          3.092915      42.103728         NaN          NaN         NaN   \n",
              "min         80.000000       4.000000         NaN          NaN         NaN   \n",
              "25%         86.000000      17.000000         NaN          NaN         NaN   \n",
              "50%         88.000000      25.000000         NaN          NaN         NaN   \n",
              "75%         91.000000      42.000000         NaN          NaN         NaN   \n",
              "max        100.000000    3300.000000         NaN          NaN         NaN   \n",
              "\n",
              "       taster_twitter_handle  \\\n",
              "count                  90542   \n",
              "unique                    15   \n",
              "top               @vossroger   \n",
              "freq                   23560   \n",
              "mean                     NaN   \n",
              "std                      NaN   \n",
              "min                      NaN   \n",
              "25%                      NaN   \n",
              "50%                      NaN   \n",
              "75%                      NaN   \n",
              "max                      NaN   \n",
              "\n",
              "                                                    title     variety  \\\n",
              "count                                              119988      119987   \n",
              "unique                                             118840         707   \n",
              "top     Gloria Ferrer NV Sonoma Brut Sparkling (Sonoma...  Pinot Noir   \n",
              "freq                                                    9       12278   \n",
              "mean                                                  NaN         NaN   \n",
              "std                                                   NaN         NaN   \n",
              "min                                                   NaN         NaN   \n",
              "25%                                                   NaN         NaN   \n",
              "50%                                                   NaN         NaN   \n",
              "75%                                                   NaN         NaN   \n",
              "max                                                   NaN         NaN   \n",
              "\n",
              "                    winery  \n",
              "count               119988  \n",
              "unique               16757  \n",
              "top     Wines & Winemakers  \n",
              "freq                   211  \n",
              "mean                   NaN  \n",
              "std                    NaN  \n",
              "min                    NaN  \n",
              "25%                    NaN  \n",
              "50%                    NaN  \n",
              "75%                    NaN  \n",
              "max                    NaN  "
            ]
          },
          "execution_count": 14,
          "metadata": {},
          "output_type": "execute_result"
        }
      ],
      "source": [
        "df.describe(include='all')"
      ]
    },
    {
      "cell_type": "code",
      "execution_count": 15,
      "metadata": {},
      "outputs": [],
      "source": [
        "# обрабатываем пропуски в категориальных признаках самым простым вариантом, замена на unknown\n",
        "\n",
        "df['designation'] = df['designation'].fillna('unknown')\n",
        "df['region_1'] = df['region_1'].fillna('unknown')\n",
        "df['taster_name'] = df['taster_name'].fillna('unknown')\n",
        "df['taster_twitter_handle'] = df['taster_twitter_handle'].fillna('unknown')\n",
        "\n",
        "# признаки с маленьким количеством пропусков заменим на самые частовречающиеся значения\n",
        "df['country'] = df['country'].fillna('US')\n",
        "df['price'] = df['price'].fillna(df['price'].mean())\n",
        "df['province'] = df['province'].fillna('California')\n",
        "df['variety'] = df['variety'].fillna('Pinot Noir')"
      ]
    },
    {
      "cell_type": "code",
      "execution_count": 16,
      "metadata": {},
      "outputs": [
        {
          "name": "stdout",
          "output_type": "stream",
          "text": [
            "<class 'pandas.core.frame.DataFrame'>\n",
            "Int64Index: 119988 entries, 0 to 129970\n",
            "Data columns (total 12 columns):\n",
            " #   Column                 Non-Null Count   Dtype  \n",
            "---  ------                 --------------   -----  \n",
            " 0   country                119988 non-null  object \n",
            " 1   description            119988 non-null  object \n",
            " 2   designation            119988 non-null  object \n",
            " 3   points                 119988 non-null  int64  \n",
            " 4   price                  119988 non-null  float64\n",
            " 5   province               119988 non-null  object \n",
            " 6   region_1               119988 non-null  object \n",
            " 7   taster_name            119988 non-null  object \n",
            " 8   taster_twitter_handle  119988 non-null  object \n",
            " 9   title                  119988 non-null  object \n",
            " 10  variety                119988 non-null  object \n",
            " 11  winery                 119988 non-null  object \n",
            "dtypes: float64(1), int64(1), object(10)\n",
            "memory usage: 11.9+ MB\n"
          ]
        }
      ],
      "source": [
        "df.info()"
      ]
    },
    {
      "cell_type": "code",
      "execution_count": 17,
      "metadata": {},
      "outputs": [],
      "source": [
        "# в числовом признаке выберем метод замены средним значением\n",
        "df['price'] = df['price'].fillna(df['price'].mean())"
      ]
    },
    {
      "cell_type": "code",
      "execution_count": 18,
      "metadata": {},
      "outputs": [
        {
          "data": {
            "text/plain": [
              "<AxesSubplot: >"
            ]
          },
          "execution_count": 18,
          "metadata": {},
          "output_type": "execute_result"
        },
        {
          "data": {
            "image/png": "[encoded data removed]",
            "text/plain": [
              "<Figure size 432x288 with 2 Axes>"
            ]
          },
          "metadata": {
            "needs_background": "light"
          },
          "output_type": "display_data"
        }
      ],
      "source": [
        "sns.heatmap(df.isnull()) # убеждаемся, что датасет без пропусков"
      ]
    },
    {
      "cell_type": "code",
      "execution_count": 19,
      "metadata": {},
      "outputs": [],
      "source": [
        "df = df.to_csv('data/wine_cleared.csv', index=False) # сохраняем очищенный датасет для дальнейшей работы"
      ]
    }
  ],
  "metadata": {
    "kernelspec": {
      "display_name": "Python 3",
      "language": "python",
      "name": "python3"
    },
    "language_info": {
      "codemirror_mode": {
        "name": "ipython",
        "version": 3
      },
      "file_extension": ".py",
      "mimetype": "text/x-python",
      "name": "python",
      "nbconvert_exporter": "python",
      "pygments_lexer": "ipython3",
      "version": "3.10.4"
    },
    "nteract": {
      "version": "0.28.0"
    },
    "vscode": {
      "interpreter": {
        "hash": "6debc895ac216c1c1888166230f3285e62381ccfd500c05510dce770611dfa9a"
      }
    }
  },
  "nbformat": 4,
  "nbformat_minor": 2
}
