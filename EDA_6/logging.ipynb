{
  "cells": [
    {
      "cell_type": "code",
      "execution_count": 1,
      "metadata": {
        "id": "lXinfUuSL6Og"
      },
      "outputs": [
        {
          "name": "stderr",
          "output_type": "stream",
          "text": [
            "WARNING:root:This message is a warning\n",
            "ERROR:root:This is an error message\n",
            "CRITICAL:root:This is a critical message\n"
          ]
        }
      ],
      "source": [
        "import logging\n",
        "logging.debug('This is a debug message')\n",
        "logging.info('This is an informational message')\n",
        "logging.warning('This message is a warning')\n",
        "logging.error('This is an error message')\n",
        "logging.critical('This is a critical message')"
      ]
    },
    {
      "cell_type": "code",
      "execution_count": 2,
      "metadata": {},
      "outputs": [
        {
          "data": {
            "text/plain": [
              "<module 'logging' from 'c:\\\\Users\\\\Администратор.000\\\\AppData\\\\Local\\\\Programs\\\\Python\\\\Python310\\\\lib\\\\logging\\\\__init__.py'>"
            ]
          },
          "execution_count": 2,
          "metadata": {},
          "output_type": "execute_result"
        }
      ],
      "source": [
        "from importlib import reload\n",
        "import logging\n",
        "reload(logging)"
      ]
    },
    {
      "cell_type": "code",
      "execution_count": 3,
      "metadata": {},
      "outputs": [],
      "source": [
        "logging.basicConfig(level=logging.DEBUG)"
      ]
    },
    {
      "cell_type": "code",
      "execution_count": 4,
      "metadata": {},
      "outputs": [
        {
          "name": "stderr",
          "output_type": "stream",
          "text": [
            "DEBUG:root:This is a debug message\n",
            "INFO:root:This is an informational message\n",
            "WARNING:root:This message is a warning\n",
            "ERROR:root:This is an error message\n",
            "CRITICAL:root:This is a critical message\n"
          ]
        }
      ],
      "source": [
        "logging.debug('This is a debug message')\n",
        "logging.info('This is an informational message')\n",
        "logging.warning('This message is a warning')\n",
        "logging.error('This is an error message')\n",
        "logging.critical('This is a critical message')"
      ]
    },
    {
      "attachments": {},
      "cell_type": "markdown",
      "metadata": {},
      "source": [
        "УСТАНОВКА ОБРАБОТЧИКА ЛОГИРОВАНИЯ"
      ]
    },
    {
      "cell_type": "code",
      "execution_count": 5,
      "metadata": {},
      "outputs": [
        {
          "data": {
            "text/plain": [
              "<FileHandler d:\\По работе\\SkillFactory\\Data_Science_Course\\EDA_6\\log_file.log (NOTSET)>"
            ]
          },
          "execution_count": 5,
          "metadata": {},
          "output_type": "execute_result"
        }
      ],
      "source": [
        "logging.FileHandler('log_file.log')"
      ]
    },
    {
      "attachments": {},
      "cell_type": "markdown",
      "metadata": {},
      "source": [
        "УСТАНОВКА ФОРМАТА ЛОГИРОВАНИЯ"
      ]
    },
    {
      "cell_type": "code",
      "execution_count": 6,
      "metadata": {},
      "outputs": [
        {
          "name": "stderr",
          "output_type": "stream",
          "text": [
            "INFO: 2023-02-13 21:39:05,460: Check\n"
          ]
        }
      ],
      "source": [
        "from importlib import reload\n",
        "import logging\n",
        "reload(logging)\n",
        " \n",
        "logging.basicConfig(\n",
        "    format=\"%(levelname)s: %(asctime)s: %(message)s\",\n",
        "    level=logging.DEBUG\n",
        ")\n",
        "logging.info('Check')"
      ]
    }
  ],
  "metadata": {
    "colab": {
      "collapsed_sections": [],
      "name": "noshowappointments.ipynb",
      "provenance": []
    },
    "kernelspec": {
      "display_name": "Python 3",
      "language": "python",
      "name": "python3"
    },
    "language_info": {
      "codemirror_mode": {
        "name": "ipython",
        "version": 3
      },
      "file_extension": ".py",
      "mimetype": "text/x-python",
      "name": "python",
      "nbconvert_exporter": "python",
      "pygments_lexer": "ipython3",
      "version": "3.10.4"
    },
    "vscode": {
      "interpreter": {
        "hash": "6debc895ac216c1c1888166230f3285e62381ccfd500c05510dce770611dfa9a"
      }
    }
  },
  "nbformat": 4,
  "nbformat_minor": 0
}
