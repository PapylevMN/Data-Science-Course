{
 "cells": [
  {
   "cell_type": "code",
   "execution_count": 9,
   "metadata": {},
   "outputs": [],
   "source": [
    "import sympy\n",
    "from sympy import diff, sin, exp, log, Symbol\n"
   ]
  },
  {
   "cell_type": "code",
   "execution_count": 10,
   "metadata": {},
   "outputs": [
    {
     "data": {
      "text/latex": [
       "$\\displaystyle 4 x^{3} + 9 x^{2} + 8 x$"
      ],
      "text/plain": [
       "4*x**3 + 9*x**2 + 8*x"
      ]
     },
     "execution_count": 10,
     "metadata": {},
     "output_type": "execute_result"
    }
   ],
   "source": [
    "x = sympy.Symbol(\"x\")\n",
    "expr = x**4 + 3*x**3 + 4*x**2 + 8\n",
    "expr.diff(x)"
   ]
  },
  {
   "cell_type": "code",
   "execution_count": 11,
   "metadata": {},
   "outputs": [
    {
     "data": {
      "text/latex": [
       "$\\displaystyle \\frac{2 x + 5}{x^{2} + 5 x} + e^{\\sin{\\left(x \\right)}} \\cos{\\left(x \\right)}$"
      ],
      "text/plain": [
       "(2*x + 5)/(x**2 + 5*x) + exp(sin(x))*cos(x)"
      ]
     },
     "execution_count": 11,
     "metadata": {},
     "output_type": "execute_result"
    }
   ],
   "source": [
    "x = sympy.Symbol(\"x\")\n",
    "expr = log(x**2 + 5*x) + exp(sin(x))\n",
    "expr.diff(x)"
   ]
  },
  {
   "cell_type": "code",
   "execution_count": 12,
   "metadata": {},
   "outputs": [
    {
     "data": {
      "text/latex": [
       "$\\displaystyle - \\frac{0.25}{x^{1.5}}$"
      ],
      "text/plain": [
       "-0.25/x**1.5"
      ]
     },
     "execution_count": 12,
     "metadata": {},
     "output_type": "execute_result"
    }
   ],
   "source": [
    "x = sympy.Symbol(\"x\")\n",
    "expr = x**0.5\n",
    "expr.diff(x,2)"
   ]
  },
  {
   "cell_type": "code",
   "execution_count": 13,
   "metadata": {},
   "outputs": [
    {
     "data": {
      "text/latex": [
       "$\\displaystyle - e^{\\sin{\\left(x \\right)}} \\sin{\\left(x \\right)} + e^{\\sin{\\left(x \\right)}} \\cos^{2}{\\left(x \\right)} + \\frac{2}{x \\left(x + 5\\right)} - \\frac{\\left(2 x + 5\\right)^{2}}{x^{2} \\left(x + 5\\right)^{2}}$"
      ],
      "text/plain": [
       "-exp(sin(x))*sin(x) + exp(sin(x))*cos(x)**2 + 2/(x*(x + 5)) - (2*x + 5)**2/(x**2*(x + 5)**2)"
      ]
     },
     "execution_count": 13,
     "metadata": {},
     "output_type": "execute_result"
    }
   ],
   "source": [
    "x = sympy.Symbol(\"x\")\n",
    "expr = log(x**2 + 5*x) + exp(sin(x))\n",
    "expr.diff(x,2)"
   ]
  },
  {
   "attachments": {},
   "cell_type": "markdown",
   "metadata": {},
   "source": [
    "### Частные производные"
   ]
  },
  {
   "cell_type": "code",
   "execution_count": 14,
   "metadata": {},
   "outputs": [
    {
     "name": "stdout",
     "output_type": "stream",
     "text": [
      "2*a + 5*b - cos(c)\n"
     ]
    }
   ],
   "source": [
    "from sympy import symbols, cos, diff\n",
    "\n",
    "a, b, c = symbols('a b c', real=True)\n",
    "f = 5*a*b - a*cos(c) + a**2 + c**8*b\n",
    "\n",
    "print(diff(f, a))"
   ]
  }
 ],
 "metadata": {
  "kernelspec": {
   "display_name": "Python 3",
   "language": "python",
   "name": "python3"
  },
  "language_info": {
   "codemirror_mode": {
    "name": "ipython",
    "version": 3
   },
   "file_extension": ".py",
   "mimetype": "text/x-python",
   "name": "python",
   "nbconvert_exporter": "python",
   "pygments_lexer": "ipython3",
   "version": "3.10.4"
  },
  "orig_nbformat": 4
 },
 "nbformat": 4,
 "nbformat_minor": 2
}
