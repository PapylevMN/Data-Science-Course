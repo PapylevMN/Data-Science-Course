{
 "cells": [
  {
   "cell_type": "code",
   "execution_count": 1,
   "metadata": {},
   "outputs": [],
   "source": [
    "import numpy as np"
   ]
  },
  {
   "cell_type": "code",
   "execution_count": 2,
   "metadata": {},
   "outputs": [],
   "source": [
    "values = [4, 2, 1, 7, 3, 6] #стоимости товаров\n",
    "weights = [5, 9, 8, 2, 6, 5] #вес товаров\n",
    "C = 15 #вместимость сумки\n",
    "n = 6 #количество товаров"
   ]
  },
  {
   "cell_type": "code",
   "execution_count": 3,
   "metadata": {},
   "outputs": [
    {
     "data": {
      "text/plain": [
       "array([15])"
      ]
     },
     "execution_count": 3,
     "metadata": {},
     "output_type": "execute_result"
    }
   ],
   "source": [
    "c = - np.array(values) #изменяем знак, чтобы перейти от задачи максимизации к задаче минимизации\n",
    "A = np.array(weights)  #конвертируем список с весами в массив\n",
    "A = np.expand_dims(A, 0) #преобразуем размерность массива\n",
    "b = np.array([C]) #конвертируем вместимость в массив\n",
    "b"
   ]
  },
  {
   "cell_type": "code",
   "execution_count": 4,
   "metadata": {},
   "outputs": [
    {
     "data": {
      "text/plain": [
       "           con: array([], dtype=float64)\n",
       " crossover_nit: 0\n",
       "         eqlin:  marginals: array([], dtype=float64)\n",
       "  residual: array([], dtype=float64)\n",
       "           fun: -52.5\n",
       "       ineqlin:  marginals: array([-3.5])\n",
       "  residual: array([0.])\n",
       "         lower:  marginals: array([13.5, 29.5, 27. ,  0. , 18. , 11.5])\n",
       "  residual: array([0. , 0. , 0. , 7.5, 0. , 0. ])\n",
       "       message: 'Optimization terminated successfully. (HiGHS Status 7: Optimal)'\n",
       "           nit: 0\n",
       "         slack: array([0.])\n",
       "        status: 0\n",
       "       success: True\n",
       "         upper:  marginals: array([0., 0., 0., 0., 0., 0.])\n",
       "  residual: array([inf, inf, inf, inf, inf, inf])\n",
       "             x: array([0. , 0. , 0. , 7.5, 0. , 0. ])"
      ]
     },
     "execution_count": 4,
     "metadata": {},
     "output_type": "execute_result"
    }
   ],
   "source": [
    "from scipy.optimize import linprog\n",
    "linprog(c=c, A_ub=A, b_ub=b)"
   ]
  },
  {
   "attachments": {},
   "cell_type": "markdown",
   "metadata": {},
   "source": [
    "### PULP"
   ]
  },
  {
   "cell_type": "code",
   "execution_count": 5,
   "metadata": {},
   "outputs": [],
   "source": [
    "from pulp import *"
   ]
  },
  {
   "cell_type": "code",
   "execution_count": 6,
   "metadata": {},
   "outputs": [
    {
     "name": "stdout",
     "output_type": "stream",
     "text": [
      "Количество автомобилей модели А:  1.0\n",
      "Количество автомобилей модели В:  4.0\n",
      "Суммарный доход:  200000.0\n"
     ]
    },
    {
     "name": "stderr",
     "output_type": "stream",
     "text": [
      "c:\\Users\\Администратор.000\\AppData\\Local\\Programs\\Python\\Python310\\lib\\site-packages\\pulp\\pulp.py:1352: UserWarning: Spaces are not permitted in the name. Converted to '_'\n",
      "  warnings.warn(\"Spaces are not permitted in the name. Converted to '_'\")\n"
     ]
    }
   ],
   "source": [
    "problem = LpProblem('Производство машин', LpMaximize)\n",
    "A = LpVariable('Автомобиль A', lowBound=0 , cat=LpInteger)\n",
    "B = LpVariable('Автомобиль B', lowBound=0 , cat=LpInteger)\n",
    "#Целевая функция\n",
    "problem += 20000*A + 45000*B \n",
    "#Ограничения\n",
    "problem += 4*A + 5*B <= 30 \n",
    "problem += 3*A + 6*B <=30\n",
    "problem += 2*A + 7*B <=30\n",
    "problem.solve()\n",
    "print(\"Количество автомобилей модели А: \", A.varValue)\n",
    "print(\"Количество автомобилей модели В: \", B.varValue)\n",
    "print(\"Суммарный доход: \", value(problem.objective))"
   ]
  },
  {
   "cell_type": "code",
   "execution_count": 7,
   "metadata": {},
   "outputs": [
    {
     "name": "stdout",
     "output_type": "stream",
     "text": [
      "Суммарный доход:  1900.0\n",
      "S1 M1:  110.0\n",
      "S2 M1:  0.0\n",
      "S1 M2:  0.0\n",
      "S2 M2:  150.0\n",
      "S1 M3:  70.0\n",
      "S2 M3:  70.0\n"
     ]
    }
   ],
   "source": [
    "problem = LpProblem('Transport from stock', LpMinimize)\n",
    "W1M1 = LpVariable('Stok1 to Mall1', lowBound=0 , cat=LpInteger)\n",
    "W1M2 = LpVariable('Stok1 to Mall2', lowBound=0 , cat=LpInteger)\n",
    "W1M3 = LpVariable('Stok1 to Mall3', lowBound=0 , cat=LpInteger)\n",
    "W2M1 = LpVariable('Stok2 to Mall1', lowBound=0 , cat=LpInteger)\n",
    "W2M2 = LpVariable('Stok2 to Mall2', lowBound=0 , cat=LpInteger)\n",
    "W2M3 = LpVariable('Stok2 to Mall3', lowBound=0 , cat=LpInteger)\n",
    "\n",
    "#Целевая функция\n",
    "problem += W1M1*2 + W1M2*5 + W1M3*3 + W2M1*7 + W2M2*7 + W2M3*6 \n",
    "#Ограничения\n",
    "problem += W1M1 + W2M1 >= 110\n",
    "problem += W1M2 + W2M2 >= 150\n",
    "problem += W1M3 + W2M3 >= 140\n",
    "problem += W1M1 + W1M2 + W1M3 <= 180\n",
    "problem += W2M1 + W2M2 + W2M3 <= 220\n",
    "\n",
    "problem.solve()\n",
    "print(\"Суммарный доход: \", value(problem.objective))\n",
    "print(\"S1 M1: \", W1M1.varValue)\n",
    "print(\"S2 M1: \", W2M1.varValue)\n",
    "print(\"S1 M2: \", W1M2.varValue)\n",
    "print(\"S2 M2: \", W2M2.varValue)\n",
    "print(\"S1 M3: \", W1M3.varValue)\n",
    "print(\"S2 M3: \", W2M3.varValue)\n"
   ]
  },
  {
   "attachments": {},
   "cell_type": "markdown",
   "metadata": {},
   "source": [
    "### Task 6.3"
   ]
  },
  {
   "cell_type": "code",
   "execution_count": 8,
   "metadata": {},
   "outputs": [
    {
     "name": "stdout",
     "output_type": "stream",
     "text": [
      "[0, 1, 4, 3, 2]\n",
      "32\n"
     ]
    }
   ],
   "source": [
    "from python_tsp.exact import solve_tsp_dynamic_programming\n",
    "\n",
    "dist = np.array([[0,10,8,19,12],\n",
    "                 [10,0,20,6,3],\n",
    "                 [8,20,0,4,2],\n",
    "                 [19,6,4,0,7],\n",
    "                 [12,3,2,7,0]])\n",
    "\n",
    "path, distance = solve_tsp_dynamic_programming(dist)\n",
    "print(path)\n",
    "print(distance)"
   ]
  }
 ],
 "metadata": {
  "kernelspec": {
   "display_name": "Python 3",
   "language": "python",
   "name": "python3"
  },
  "language_info": {
   "codemirror_mode": {
    "name": "ipython",
    "version": 3
   },
   "file_extension": ".py",
   "mimetype": "text/x-python",
   "name": "python",
   "nbconvert_exporter": "python",
   "pygments_lexer": "ipython3",
   "version": "3.10.4"
  },
  "orig_nbformat": 4
 },
 "nbformat": 4,
 "nbformat_minor": 2
}
