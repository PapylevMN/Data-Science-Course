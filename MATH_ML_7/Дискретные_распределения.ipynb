{
 "cells": [
  {
   "cell_type": "markdown",
   "id": "caa69e48",
   "metadata": {},
   "source": [
    "## Равномерное распределение"
   ]
  },
  {
   "cell_type": "code",
   "execution_count": 1,
   "id": "75770dc8",
   "metadata": {},
   "outputs": [],
   "source": [
    "import warnings\n",
    "warnings.filterwarnings('ignore')"
   ]
  },
  {
   "cell_type": "code",
   "execution_count": 2,
   "id": "5d82762e",
   "metadata": {},
   "outputs": [],
   "source": [
    "import numpy as np\n",
    "from scipy.stats import randint"
   ]
  },
  {
   "cell_type": "code",
   "execution_count": 3,
   "id": "0d458ebe",
   "metadata": {},
   "outputs": [
    {
     "name": "stdout",
     "output_type": "stream",
     "text": [
      "[0.16666667 0.16666667 0.16666667 0.16666667 0.16666667 0.16666667]\n"
     ]
    }
   ],
   "source": [
    "x = np.arange(1, 7)\n",
    "disc_uni_dist = randint(1, 7)\n",
    "pmf = disc_uni_dist.pmf(x)\n",
    "print(pmf)"
   ]
  },
  {
   "cell_type": "code",
   "execution_count": 4,
   "id": "69722968",
   "metadata": {},
   "outputs": [
    {
     "name": "stdout",
     "output_type": "stream",
     "text": [
      "[0.16666667 0.33333333 0.5        0.66666667 0.83333333 1.        ]\n"
     ]
    }
   ],
   "source": [
    "cdf = disc_uni_dist.cdf(x)\n",
    "print(cdf)"
   ]
  },
  {
   "cell_type": "code",
   "execution_count": 5,
   "id": "6ec7339a",
   "metadata": {},
   "outputs": [
    {
     "name": "stdout",
     "output_type": "stream",
     "text": [
      "0.2\n"
     ]
    }
   ],
   "source": [
    "x = np.arange(1, 251)\n",
    "disc_uni_dist = randint(1,251)\n",
    "cdf = disc_uni_dist.cdf(x)\n",
    "print(cdf[49])"
   ]
  },
  {
   "cell_type": "markdown",
   "id": "ebf75db7",
   "metadata": {},
   "source": [
    "## Распределение Бернулли"
   ]
  },
  {
   "cell_type": "code",
   "execution_count": 6,
   "id": "ed7c63fe",
   "metadata": {},
   "outputs": [],
   "source": [
    "from scipy.stats import bernoulli\n",
    "import seaborn as sns"
   ]
  },
  {
   "cell_type": "code",
   "execution_count": 7,
   "id": "f5542d42",
   "metadata": {},
   "outputs": [
    {
     "data": {
      "text/plain": [
       "[Text(0.5, 0, 'Значение случайной величины'), Text(0, 0.5, 'Частота')]"
      ]
     },
     "execution_count": 7,
     "metadata": {},
     "output_type": "execute_result"
    },
    {
     "data": {
      "image/png": "[encoded data removed]",
      "text/plain": [
       "<Figure size 432x288 with 1 Axes>"
      ]
     },
     "metadata": {
      "needs_background": "light"
     },
     "output_type": "display_data"
    }
   ],
   "source": [
    "data = bernoulli.rvs(size=500,p=0.6)\n",
    "ax = sns.distplot(data,\n",
    "                  kde = False,\n",
    "                  color='dodgerblue')\n",
    "ax.set(xlabel='Значение случайной величины', ylabel='Частота')"
   ]
  },
  {
   "cell_type": "code",
   "execution_count": 8,
   "id": "5c71bb29",
   "metadata": {},
   "outputs": [
    {
     "name": "stdout",
     "output_type": "stream",
     "text": [
      "[[  0 203]\n",
      " [  1 297]]\n"
     ]
    }
   ],
   "source": [
    "unique, counts = np.unique(data, return_counts=True)\n",
    "print(np.asarray((unique, counts)).T)"
   ]
  },
  {
   "cell_type": "markdown",
   "id": "5844fa7d",
   "metadata": {},
   "source": [
    "## Биномиальное распределение"
   ]
  },
  {
   "cell_type": "code",
   "execution_count": 9,
   "id": "0334b40e",
   "metadata": {},
   "outputs": [],
   "source": [
    "from numpy import random"
   ]
  },
  {
   "cell_type": "code",
   "execution_count": 10,
   "id": "a1ae6a02",
   "metadata": {},
   "outputs": [
    {
     "data": {
      "text/plain": [
       "<Axes: >"
      ]
     },
     "execution_count": 10,
     "metadata": {},
     "output_type": "execute_result"
    },
    {
     "data": {
      "image/png": "[encoded data removed]",
      "text/plain": [
       "<Figure size 432x288 with 1 Axes>"
      ]
     },
     "metadata": {
      "needs_background": "light"
     },
     "output_type": "display_data"
    }
   ],
   "source": [
    "x = random.binomial(n=10, p=0.5, size=10)\n",
    "sns.distplot(random.binomial(n=10, p=0.5, size=1000), hist=True, kde=False)"
   ]
  },
  {
   "cell_type": "markdown",
   "id": "89bb2a58",
   "metadata": {},
   "source": [
    "## Распределение Пуассона"
   ]
  },
  {
   "cell_type": "code",
   "execution_count": 11,
   "id": "17138263",
   "metadata": {},
   "outputs": [],
   "source": [
    "import scipy"
   ]
  },
  {
   "cell_type": "code",
   "execution_count": 12,
   "id": "6b01eb18",
   "metadata": {},
   "outputs": [
    {
     "data": {
      "text/plain": [
       "0.17082685848611215"
      ]
     },
     "execution_count": 12,
     "metadata": {},
     "output_type": "execute_result"
    }
   ],
   "source": [
    "scipy.stats.distributions.poisson.pmf(5, 4.5)"
   ]
  },
  {
   "cell_type": "code",
   "execution_count": 13,
   "id": "5b64c785",
   "metadata": {},
   "outputs": [
    {
     "data": {
      "text/plain": [
       "<Axes: >"
      ]
     },
     "execution_count": 13,
     "metadata": {},
     "output_type": "execute_result"
    },
    {
     "data": {
      "image/png": "[encoded data removed]",
      "text/plain": [
       "<Figure size 432x288 with 1 Axes>"
      ]
     },
     "metadata": {
      "needs_background": "light"
     },
     "output_type": "display_data"
    }
   ],
   "source": [
    "sns.distplot(random.poisson(lam=3, size=1000), kde=False)"
   ]
  },
  {
   "cell_type": "code",
   "execution_count": 14,
   "id": "277fb5b8",
   "metadata": {},
   "outputs": [
    {
     "data": {
      "text/plain": [
       "0.09921753162215541"
      ]
     },
     "execution_count": 14,
     "metadata": {},
     "output_type": "execute_result"
    }
   ],
   "source": [
    "scipy.stats.distributions.poisson.pmf(16, 16)"
   ]
  }
 ],
 "metadata": {
  "kernelspec": {
   "display_name": "Python 3 (ipykernel)",
   "language": "python",
   "name": "python3"
  },
  "language_info": {
   "codemirror_mode": {
    "name": "ipython",
    "version": 3
   },
   "file_extension": ".py",
   "mimetype": "text/x-python",
   "name": "python",
   "nbconvert_exporter": "python",
   "pygments_lexer": "ipython3",
   "version": "3.10.4"
  }
 },
 "nbformat": 4,
 "nbformat_minor": 5
}
