{
  "cells": [
    {
      "cell_type": "markdown",
      "source": [
        "# Отток клиентов\n",
        "\n",
        "Булыгин Олег:  \n",
        "* [LinkedIn](linkedin.com/in/obulygin)  \n",
        "* [Мой канал в ТГ по Python](https://t.me/pythontalk_ru)\n",
        "* [Чат канала](https://t.me/pythontalk_chat)\n",
        "* [Блог в Телетайпе](https://teletype.in/@pythontalk)\n",
        "* [PythonTalk на Кью](https://yandex.ru/q/loves/pythontalk/)"
      ],
      "metadata": {
        "id": "ez6_yZjTE7Tb"
      }
    },
    {
      "cell_type": "markdown",
      "source": [
        "Описание данных: https://archive.ics.uci.edu/ml/datasets/Credit+Approval\n"
      ],
      "metadata": {
        "id": "_4HqAslRFFQ8"
      }
    },
    {
      "cell_type": "code",
      "execution_count": null,
      "metadata": {
        "id": "3IGI3bDYDTkh"
      },
      "outputs": [],
      "source": [
        "import pandas as pd\n",
        "import numpy as np\n",
        "import warnings\n",
        "warnings.simplefilter('ignore')\n",
        "pd.options.display.max_colwidth = 500\n",
        "pd.options.display.max_columns = 100\n",
        "pd.options.display.max_rows = 100"
      ]
    },
    {
      "cell_type": "code",
      "execution_count": null,
      "metadata": {
        "id": "10pDkTU4DTkm"
      },
      "outputs": [],
      "source": [
        "RANDOM = 4281"
      ]
    },
    {
      "cell_type": "code",
      "execution_count": null,
      "metadata": {
        "id": "j21BEfRaDTkm"
      },
      "outputs": [],
      "source": [
        "df = pd.read_csv(\"https://raw.githubusercontent.com/obulygin/SkillFactory/main/crx.data\", header=None)"
      ]
    },
    {
      "cell_type": "code",
      "execution_count": null,
      "metadata": {
        "id": "X2TjaQDdDTkn",
        "outputId": "7cdd1552-56c8-49fd-c6fa-7df7cfd58d3b",
        "colab": {
          "base_uri": "https://localhost:8080/",
          "height": 206
        }
      },
      "outputs": [
        {
          "output_type": "execute_result",
          "data": {
            "text/plain": [
              "  0      1      2  3  4  5  6     7  8  9   10 11 12     13   14 15\n",
              "0  b  30.83  0.000  u  g  w  v  1.25  t  t   1  f  g  00202    0  +\n",
              "1  a  58.67  4.460  u  g  q  h  3.04  t  t   6  f  g  00043  560  +\n",
              "2  a  24.50  0.500  u  g  q  h  1.50  t  f   0  f  g  00280  824  +\n",
              "3  b  27.83  1.540  u  g  w  v  3.75  t  t   5  t  g  00100    3  +\n",
              "4  b  20.17  5.625  u  g  w  v  1.71  t  f   0  f  s  00120    0  +"
            ],
            "text/html": [
              "\n",
              "  <div id=\"df-6a68ef17-e956-4adf-a6fa-65c9a8a9b98a\">\n",
              "    <div class=\"colab-df-container\">\n",
              "      <div>\n",
              "<style scoped>\n",
              "    .dataframe tbody tr th:only-of-type {\n",
              "        vertical-align: middle;\n",
              "    }\n",
              "\n",
              "    .dataframe tbody tr th {\n",
              "        vertical-align: top;\n",
              "    }\n",
              "\n",
              "    .dataframe thead th {\n",
              "        text-align: right;\n",
              "    }\n",
              "</style>\n",
              "<table border=\"1\" class=\"dataframe\">\n",
              "  <thead>\n",
              "    <tr style=\"text-align: right;\">\n",
              "      <th></th>\n",
              "      <th>0</th>\n",
              "      <th>1</th>\n",
              "      <th>2</th>\n",
              "      <th>3</th>\n",
              "      <th>4</th>\n",
              "      <th>5</th>\n",
              "      <th>6</th>\n",
              "      <th>7</th>\n",
              "      <th>8</th>\n",
              "      <th>9</th>\n",
              "      <th>10</th>\n",
              "      <th>11</th>\n",
              "      <th>12</th>\n",
              "      <th>13</th>\n",
              "      <th>14</th>\n",
              "      <th>15</th>\n",
              "    </tr>\n",
              "  </thead>\n",
              "  <tbody>\n",
              "    <tr>\n",
              "      <th>0</th>\n",
              "      <td>b</td>\n",
              "      <td>30.83</td>\n",
              "      <td>0.000</td>\n",
              "      <td>u</td>\n",
              "      <td>g</td>\n",
              "      <td>w</td>\n",
              "      <td>v</td>\n",
              "      <td>1.25</td>\n",
              "      <td>t</td>\n",
              "      <td>t</td>\n",
              "      <td>1</td>\n",
              "      <td>f</td>\n",
              "      <td>g</td>\n",
              "      <td>00202</td>\n",
              "      <td>0</td>\n",
              "      <td>+</td>\n",
              "    </tr>\n",
              "    <tr>\n",
              "      <th>1</th>\n",
              "      <td>a</td>\n",
              "      <td>58.67</td>\n",
              "      <td>4.460</td>\n",
              "      <td>u</td>\n",
              "      <td>g</td>\n",
              "      <td>q</td>\n",
              "      <td>h</td>\n",
              "      <td>3.04</td>\n",
              "      <td>t</td>\n",
              "      <td>t</td>\n",
              "      <td>6</td>\n",
              "      <td>f</td>\n",
              "      <td>g</td>\n",
              "      <td>00043</td>\n",
              "      <td>560</td>\n",
              "      <td>+</td>\n",
              "    </tr>\n",
              "    <tr>\n",
              "      <th>2</th>\n",
              "      <td>a</td>\n",
              "      <td>24.50</td>\n",
              "      <td>0.500</td>\n",
              "      <td>u</td>\n",
              "      <td>g</td>\n",
              "      <td>q</td>\n",
              "      <td>h</td>\n",
              "      <td>1.50</td>\n",
              "      <td>t</td>\n",
              "      <td>f</td>\n",
              "      <td>0</td>\n",
              "      <td>f</td>\n",
              "      <td>g</td>\n",
              "      <td>00280</td>\n",
              "      <td>824</td>\n",
              "      <td>+</td>\n",
              "    </tr>\n",
              "    <tr>\n",
              "      <th>3</th>\n",
              "      <td>b</td>\n",
              "      <td>27.83</td>\n",
              "      <td>1.540</td>\n",
              "      <td>u</td>\n",
              "      <td>g</td>\n",
              "      <td>w</td>\n",
              "      <td>v</td>\n",
              "      <td>3.75</td>\n",
              "      <td>t</td>\n",
              "      <td>t</td>\n",
              "      <td>5</td>\n",
              "      <td>t</td>\n",
              "      <td>g</td>\n",
              "      <td>00100</td>\n",
              "      <td>3</td>\n",
              "      <td>+</td>\n",
              "    </tr>\n",
              "    <tr>\n",
              "      <th>4</th>\n",
              "      <td>b</td>\n",
              "      <td>20.17</td>\n",
              "      <td>5.625</td>\n",
              "      <td>u</td>\n",
              "      <td>g</td>\n",
              "      <td>w</td>\n",
              "      <td>v</td>\n",
              "      <td>1.71</td>\n",
              "      <td>t</td>\n",
              "      <td>f</td>\n",
              "      <td>0</td>\n",
              "      <td>f</td>\n",
              "      <td>s</td>\n",
              "      <td>00120</td>\n",
              "      <td>0</td>\n",
              "      <td>+</td>\n",
              "    </tr>\n",
              "  </tbody>\n",
              "</table>\n",
              "</div>\n",
              "      <button class=\"colab-df-convert\" onclick=\"convertToInteractive('df-6a68ef17-e956-4adf-a6fa-65c9a8a9b98a')\"\n",
              "              title=\"Convert this dataframe to an interactive table.\"\n",
              "              style=\"display:none;\">\n",
              "        \n",
              "  <svg xmlns=\"http://www.w3.org/2000/svg\" height=\"24px\"viewBox=\"0 0 24 24\"\n",
              "       width=\"24px\">\n",
              "    <path d=\"M0 0h24v24H0V0z\" fill=\"none\"/>\n",
              "    <path d=\"M18.56 5.44l.94 2.06.94-2.06 2.06-.94-2.06-.94-.94-2.06-.94 2.06-2.06.94zm-11 1L8.5 8.5l.94-2.06 2.06-.94-2.06-.94L8.5 2.5l-.94 2.06-2.06.94zm10 10l.94 2.06.94-2.06 2.06-.94-2.06-.94-.94-2.06-.94 2.06-2.06.94z\"/><path d=\"M17.41 7.96l-1.37-1.37c-.4-.4-.92-.59-1.43-.59-.52 0-1.04.2-1.43.59L10.3 9.45l-7.72 7.72c-.78.78-.78 2.05 0 2.83L4 21.41c.39.39.9.59 1.41.59.51 0 1.02-.2 1.41-.59l7.78-7.78 2.81-2.81c.8-.78.8-2.07 0-2.86zM5.41 20L4 18.59l7.72-7.72 1.47 1.35L5.41 20z\"/>\n",
              "  </svg>\n",
              "      </button>\n",
              "      \n",
              "  <style>\n",
              "    .colab-df-container {\n",
              "      display:flex;\n",
              "      flex-wrap:wrap;\n",
              "      gap: 12px;\n",
              "    }\n",
              "\n",
              "    .colab-df-convert {\n",
              "      background-color: #E8F0FE;\n",
              "      border: none;\n",
              "      border-radius: 50%;\n",
              "      cursor: pointer;\n",
              "      display: none;\n",
              "      fill: #1967D2;\n",
              "      height: 32px;\n",
              "      padding: 0 0 0 0;\n",
              "      width: 32px;\n",
              "    }\n",
              "\n",
              "    .colab-df-convert:hover {\n",
              "      background-color: #E2EBFA;\n",
              "      box-shadow: 0px 1px 2px rgba(60, 64, 67, 0.3), 0px 1px 3px 1px rgba(60, 64, 67, 0.15);\n",
              "      fill: #174EA6;\n",
              "    }\n",
              "\n",
              "    [theme=dark] .colab-df-convert {\n",
              "      background-color: #3B4455;\n",
              "      fill: #D2E3FC;\n",
              "    }\n",
              "\n",
              "    [theme=dark] .colab-df-convert:hover {\n",
              "      background-color: #434B5C;\n",
              "      box-shadow: 0px 1px 3px 1px rgba(0, 0, 0, 0.15);\n",
              "      filter: drop-shadow(0px 1px 2px rgba(0, 0, 0, 0.3));\n",
              "      fill: #FFFFFF;\n",
              "    }\n",
              "  </style>\n",
              "\n",
              "      <script>\n",
              "        const buttonEl =\n",
              "          document.querySelector('#df-6a68ef17-e956-4adf-a6fa-65c9a8a9b98a button.colab-df-convert');\n",
              "        buttonEl.style.display =\n",
              "          google.colab.kernel.accessAllowed ? 'block' : 'none';\n",
              "\n",
              "        async function convertToInteractive(key) {\n",
              "          const element = document.querySelector('#df-6a68ef17-e956-4adf-a6fa-65c9a8a9b98a');\n",
              "          const dataTable =\n",
              "            await google.colab.kernel.invokeFunction('convertToInteractive',\n",
              "                                                     [key], {});\n",
              "          if (!dataTable) return;\n",
              "\n",
              "          const docLinkHtml = 'Like what you see? Visit the ' +\n",
              "            '<a target=\"_blank\" href=https://colab.research.google.com/notebooks/data_table.ipynb>data table notebook</a>'\n",
              "            + ' to learn more about interactive tables.';\n",
              "          element.innerHTML = '';\n",
              "          dataTable['output_type'] = 'display_data';\n",
              "          await google.colab.output.renderOutput(dataTable, element);\n",
              "          const docLink = document.createElement('div');\n",
              "          docLink.innerHTML = docLinkHtml;\n",
              "          element.appendChild(docLink);\n",
              "        }\n",
              "      </script>\n",
              "    </div>\n",
              "  </div>\n",
              "  "
            ]
          },
          "metadata": {},
          "execution_count": 4
        }
      ],
      "source": [
        "df.head()"
      ]
    },
    {
      "cell_type": "code",
      "execution_count": null,
      "metadata": {
        "id": "BzKCUVsfDTko"
      },
      "outputs": [],
      "source": [
        "df.replace('?', np.nan, inplace=True)\n",
        "df[1] = df[1].astype('float64')"
      ]
    },
    {
      "cell_type": "code",
      "execution_count": null,
      "metadata": {
        "id": "NizeulqsDTkp"
      },
      "outputs": [],
      "source": [
        "from sklearn.impute import SimpleImputer\n",
        "from sklearn.preprocessing import MinMaxScaler, OneHotEncoder\n",
        "from sklearn.compose import ColumnTransformer\n",
        "from sklearn.pipeline import Pipeline\n",
        "\n",
        "X, y = df.iloc[:,0:15] , df.iloc[:,15]\n",
        "y = y.astype('category').cat.codes\n",
        "\n",
        "cat_columns = X.dtypes[X.dtypes == 'object'].index\n",
        "num_columns = X.dtypes[X.dtypes != 'object'].index\n",
        "\n",
        "num_pipe = Pipeline([\n",
        "    ('imputer', SimpleImputer(missing_values=np.nan, strategy='mean')),\n",
        "    ('mms', MinMaxScaler(feature_range=(0, 1)))\n",
        "])\n",
        "cat_pipe = Pipeline([\n",
        "    ('imputer', SimpleImputer(missing_values=np.nan, strategy='most_frequent')),\n",
        "    ('ohe', OneHotEncoder(handle_unknown='ignore'))\n",
        "])\n",
        "transformer = ColumnTransformer(transformers=\n",
        "                                [('num', num_pipe, num_columns),\n",
        "                                 ('cat', cat_pipe, cat_columns)])"
      ]
    },
    {
      "cell_type": "code",
      "execution_count": null,
      "metadata": {
        "id": "PEw3OOLrDTkr"
      },
      "outputs": [],
      "source": [
        "from sklearn.model_selection import train_test_split\n",
        "from sklearn.linear_model import LogisticRegression\n",
        "from sklearn.tree import DecisionTreeClassifier\n",
        "from sklearn.ensemble import RandomForestClassifier\n",
        "from sklearn import svm\n",
        "from sklearn.model_selection import RandomizedSearchCV\n",
        "from sklearn.pipeline import make_pipeline\n",
        "\n",
        "X_train, X_test, y_train, y_test = train_test_split(X, y, test_size=0.3, shuffle=True, random_state=RANDOM)\n",
        "\n",
        "res = {}"
      ]
    },
    {
      "cell_type": "code",
      "execution_count": null,
      "metadata": {
        "id": "sT-zQEYtDTks",
        "outputId": "b627df40-e4bf-411f-de78-fc4fdf3c5acc",
        "colab": {
          "base_uri": "https://localhost:8080/"
        }
      },
      "outputs": [
        {
          "output_type": "stream",
          "name": "stdout",
          "text": [
            "Лучшие параметры: {'logisticregression__solver': 'liblinear', 'logisticregression__class_weight': None, 'logisticregression__C': 0.01623776739188721}\n",
            "F-мера на перекрестной проверке: 0.8833357380560525\n",
            "F-мера логистической регрессии на тестовом наборе: 0.8571428571428572\n"
          ]
        }
      ],
      "source": [
        "logreg_pipe = make_pipeline(transformer, LogisticRegression(random_state=RANDOM))\n",
        "logreg_params_grid = {'logisticregression__C': np.logspace(-4, 2, 20),\n",
        "                      'logisticregression__solver': ['newton-cg', 'lbfgs', 'liblinear'],\n",
        "                      'logisticregression__class_weight': ['balanced', None]\n",
        "                     }\n",
        "logreg_grid = RandomizedSearchCV(logreg_pipe, logreg_params_grid, scoring='f1', random_state=RANDOM)\n",
        "logreg_grid.fit(X_train, y_train)\n",
        "print('Лучшие параметры:', logreg_grid.best_params_)\n",
        "print('F-мера на перекрестной проверке:', logreg_grid.best_score_)\n",
        "print('F-мера логистической регрессии на тестовом наборе:', logreg_grid.score(X_test, y_test))\n",
        "res['Логистическая регрессия'] = logreg_grid.score(X_test, y_test)"
      ]
    },
    {
      "cell_type": "code",
      "execution_count": null,
      "metadata": {
        "id": "0rL9VFuuDTkt",
        "outputId": "e658413a-f23c-4aa7-b866-88761e030dae",
        "colab": {
          "base_uri": "https://localhost:8080/"
        }
      },
      "outputs": [
        {
          "output_type": "stream",
          "name": "stdout",
          "text": [
            "Лучшие параметры: {'decisiontreeclassifier__min_samples_split': 152, 'decisiontreeclassifier__max_features': None, 'decisiontreeclassifier__max_depth': 27, 'decisiontreeclassifier__criterion': 'entropy', 'decisiontreeclassifier__class_weight': 'balanced'}\n",
            "F-мера на перекрестной проверке: 0.8660302779133016\n",
            "F-мера дерева решений на тестовом наборе: 0.8374384236453202\n"
          ]
        }
      ],
      "source": [
        "dtc_pipe = make_pipeline(transformer, DecisionTreeClassifier(random_state=RANDOM))\n",
        "dtc_params_grid = {'decisiontreeclassifier__min_samples_split': range(2, 200, 5),\n",
        "                  'decisiontreeclassifier__criterion': ['gini', 'entropy'],\n",
        "                   'decisiontreeclassifier__max_depth': range(1, 35),\n",
        "                  'decisiontreeclassifier__class_weight': ['balanced', None],\n",
        "                  'decisiontreeclassifier__max_features': ['auto', None, 'log2']}\n",
        "dtc_grid = RandomizedSearchCV(dtc_pipe, dtc_params_grid, scoring='f1', random_state=RANDOM)\n",
        "dtc_grid.fit(X_train, y_train)\n",
        "print('Лучшие параметры:', dtc_grid.best_params_)\n",
        "print('F-мера на перекрестной проверке:', dtc_grid.best_score_)\n",
        "print('F-мера дерева решений на тестовом наборе:', dtc_grid.score(X_test, y_test))\n",
        "res['Дерево решений'] = dtc_grid.score(X_test, y_test)"
      ]
    },
    {
      "cell_type": "code",
      "execution_count": null,
      "metadata": {
        "id": "wxLVDudkDTkv",
        "outputId": "9886deed-c27e-4fe8-a777-b427c6f267cc",
        "colab": {
          "base_uri": "https://localhost:8080/"
        }
      },
      "outputs": [
        {
          "output_type": "stream",
          "name": "stdout",
          "text": [
            "Лучшие параметры: {'randomforestclassifier__n_estimators': 185, 'randomforestclassifier__min_samples_split': 87, 'randomforestclassifier__max_features': 'auto', 'randomforestclassifier__max_depth': 9, 'randomforestclassifier__criterion': 'gini', 'randomforestclassifier__class_weight': None}\n",
            "F-мера на перекрестной проверке: 0.8912284655680882\n",
            "F-мера случайного леса на тестовом наборе: 0.8699551569506726\n"
          ]
        }
      ],
      "source": [
        "rfc_pipe = make_pipeline(transformer, RandomForestClassifier(random_state=RANDOM))\n",
        "rfc_params_grid = {'randomforestclassifier__min_samples_split': range(2, 100, 5),\n",
        "                   'randomforestclassifier__n_estimators': range(50, 200, 5),\n",
        "                   'randomforestclassifier__criterion': ['gini', 'entropy'],\n",
        "                    'randomforestclassifier__max_depth': range(1, 35),\n",
        "                   'randomforestclassifier__class_weight': ['balanced', None],\n",
        "                   'randomforestclassifier__max_features': ['auto', None, 'log2']}\n",
        "rfc_grid = RandomizedSearchCV(rfc_pipe, rfc_params_grid, scoring='f1', random_state=RANDOM)\n",
        "rfc_grid.fit(X_train, y_train)\n",
        "print('Лучшие параметры:', rfc_grid.best_params_)\n",
        "print('F-мера на перекрестной проверке:', rfc_grid.best_score_)\n",
        "print('F-мера случайного леса на тестовом наборе:', rfc_grid.score(X_test, y_test))\n",
        "res['Случайный лес'] = rfc_grid.score(X_test, y_test)"
      ]
    },
    {
      "cell_type": "code",
      "execution_count": null,
      "metadata": {
        "id": "dcdB0jOmDTkw",
        "outputId": "72f98759-1980-4f76-9fa8-c5825e9151d1",
        "colab": {
          "base_uri": "https://localhost:8080/"
        }
      },
      "outputs": [
        {
          "output_type": "stream",
          "name": "stdout",
          "text": [
            "Лучшие параметры: {'svc__kernel': 'poly', 'svc__gamma': 'scale', 'svc__class_weight': None, 'svc__C': 0.29763514416313164}\n",
            "F-мера на перекрестной проверке: 0.8703089998374847\n",
            "F-мера метода опорных векторов на тестовом наборе: 0.8390243902439025\n"
          ]
        }
      ],
      "source": [
        "svc_pipe = make_pipeline(transformer, svm.SVC(random_state=RANDOM))\n",
        "svc_params_grid = {'svc__C': np.logspace(-4, 2, 20),\n",
        "                   'svc__gamma': ['scale', 'auto'],\n",
        "                   'svc__class_weight': ['balanced', None],\n",
        "                   'svc__kernel': ['linear', 'rbf', 'poly', 'sigmoid']}\n",
        "svc_grid = RandomizedSearchCV(svc_pipe, svc_params_grid, scoring='f1', random_state=RANDOM)\n",
        "svc_grid.fit(X_train, y_train)\n",
        "print('Лучшие параметры:', svc_grid.best_params_)\n",
        "print('F-мера на перекрестной проверке:', svc_grid.best_score_)\n",
        "print('F-мера метода опорных векторов на тестовом наборе:', svc_grid.score(X_test, y_test))\n",
        "res['Метод опорных векторов'] = svc_grid.score(X_test, y_test)"
      ]
    },
    {
      "cell_type": "code",
      "execution_count": null,
      "metadata": {
        "id": "XCy7iPdlDTkw",
        "outputId": "3db50364-c1b2-449c-d2e4-d88f12d8023b",
        "colab": {
          "base_uri": "https://localhost:8080/"
        }
      },
      "outputs": [
        {
          "output_type": "execute_result",
          "data": {
            "text/plain": [
              "{'Логистическая регрессия': 0.8571428571428572,\n",
              " 'Дерево решений': 0.8374384236453202,\n",
              " 'Случайный лес': 0.8699551569506726,\n",
              " 'Метод опорных векторов': 0.8390243902439025}"
            ]
          },
          "metadata": {},
          "execution_count": 13
        }
      ],
      "source": [
        "res"
      ]
    },
    {
      "cell_type": "code",
      "execution_count": null,
      "metadata": {
        "id": "9_CrqOxxDTkx",
        "outputId": "d76dab1a-6910-4779-ef35-48a50b9ae0b9",
        "colab": {
          "base_uri": "https://localhost:8080/"
        }
      },
      "outputs": [
        {
          "output_type": "execute_result",
          "data": {
            "text/plain": [
              "array([[81, 16],\n",
              "       [13, 97]])"
            ]
          },
          "metadata": {},
          "execution_count": 14
        }
      ],
      "source": [
        "from sklearn.metrics import confusion_matrix\n",
        "y_pred = rfc_grid.predict(X_test)\n",
        "confusion_matrix(y_test, y_pred)"
      ]
    },
    {
      "cell_type": "code",
      "execution_count": null,
      "metadata": {
        "id": "oLQndkxPDTkx"
      },
      "outputs": [],
      "source": []
    },
    {
      "cell_type": "markdown",
      "source": [
        "https://skillfactoryschool.typeform.com/to/wY5lRTGh?typeform-source=www.google.com"
      ],
      "metadata": {
        "id": "nPY6a2hcu5l2"
      }
    },
    {
      "cell_type": "code",
      "source": [],
      "metadata": {
        "id": "toEZIU89u56G"
      },
      "execution_count": null,
      "outputs": []
    }
  ],
  "metadata": {
    "kernelspec": {
      "display_name": "Python 3.7.6 64-bit ('base': conda)",
      "language": "python",
      "name": "python37664bitbaseconda98ee28fd21e54513b617f25a4bc88d8a"
    },
    "language_info": {
      "codemirror_mode": {
        "name": "ipython",
        "version": 3
      },
      "file_extension": ".py",
      "mimetype": "text/x-python",
      "name": "python",
      "nbconvert_exporter": "python",
      "pygments_lexer": "ipython3",
      "version": "3.7.6"
    },
    "colab": {
      "provenance": []
    }
  },
  "nbformat": 4,
  "nbformat_minor": 0
}