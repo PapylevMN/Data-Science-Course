{
  "nbformat": 4,
  "nbformat_minor": 0,
  "metadata": {
    "colab": {
      "provenance": []
    },
    "kernelspec": {
      "name": "python3",
      "display_name": "Python 3"
    },
    "language_info": {
      "name": "python"
    }
  },
  "cells": [
    {
      "cell_type": "markdown",
      "metadata": {
        "id": "wh_Z68UcRTQF"
      },
      "source": [
        "# Основные метрики качества классификации\n"
      ]
    },
    {
      "cell_type": "markdown",
      "metadata": {
        "id": "EN2ZOmZBRzZn"
      },
      "source": [
        " Существует множество различных числовых характеристик, позволяющих измерить качество бинарного классификатора. В случае двух классов возможны всего 4 исхода при классификации данного объекта. Их удобно отображать с помощью матрицы ошибок (confusion matrix).Это таблица с двумя строками и двумя столбцами, в ячейках которой указаны следующие значения:\n",
        "- $TP$ = число верно классифицированных положительных примеров\n",
        "- $FP$ = число отрицательных примеров, классифицированных положительно (ошибки первого рода)\n",
        "- $TN$ = число верно классифицированных отрицательных примеров\n",
        "- $FN$ = число положительных примеров, классифицированных отрицательно (ошибки второго рода)\n",
        "\n",
        "Получить такую таблицу можно с помощью функции sklearn.metrics.confusion_matrix, передав ей на вход истинные и предсказанные классификатором метки."
      ]
    },
    {
      "cell_type": "code",
      "metadata": {
        "colab": {
          "base_uri": "https://localhost:8080/"
        },
        "id": "wlpgF2AzR0oI",
        "outputId": "4ac1d1ee-5ee7-4240-ea3d-deabd9dbde4f"
      },
      "source": [
        "import warnings\n",
        "warnings.filterwarnings('ignore')\n",
        "get_ipython().run_line_magic('pylab', 'inline')\n",
        "import numpy as np\n",
        "import seaborn as sns\n",
        "from sklearn import metrics\n",
        "\n",
        "true_labels = np.array([0, 1, 0, 0, 1, 1, 1, 1])\n",
        "predicted_labels = np.array([0, 1, 1, 0, 0, 1, 0, 0])\n",
        "\n",
        "M = metrics.confusion_matrix(true_labels, predicted_labels)\n",
        "M"
      ],
      "execution_count": null,
      "outputs": [
        {
          "output_type": "stream",
          "name": "stdout",
          "text": [
            "Populating the interactive namespace from numpy and matplotlib\n"
          ]
        },
        {
          "output_type": "execute_result",
          "data": {
            "text/plain": [
              "array([[2, 1],\n",
              "       [3, 2]])"
            ]
          },
          "metadata": {},
          "execution_count": 5
        }
      ]
    },
    {
      "cell_type": "markdown",
      "metadata": {
        "id": "XCxo0yiWZXtJ"
      },
      "source": [
        "### Многоклассовая классификация\n",
        "В случае, когда число классов больше двух, матрица ошибок определяется аналогичным образом: на пересечении $i$-ой строки и $j$-го столбца стоит число примеров $i$-го класса, отнесённых классификатором к классу $j$. \n"
      ]
    },
    {
      "cell_type": "code",
      "metadata": {
        "colab": {
          "base_uri": "https://localhost:8080/"
        },
        "id": "3yjyU66uZoaR",
        "outputId": "c29d0add-82ff-4934-91fe-ff8c40488f20"
      },
      "source": [
        "true_labels = np.array([0, 1, 2, 0, 1, 2, 0, 1, 2])\n",
        "predicted_labels = np.array([0, 2, 0, 2, 1, 0, 0, 1, 2])\n",
        "\n",
        "M = metrics.confusion_matrix(true_labels, predicted_labels)\n",
        "M"
      ],
      "execution_count": null,
      "outputs": [
        {
          "output_type": "execute_result",
          "data": {
            "text/plain": [
              "array([[2, 0, 1],\n",
              "       [0, 2, 1],\n",
              "       [2, 0, 1]])"
            ]
          },
          "metadata": {},
          "execution_count": 2
        }
      ]
    },
    {
      "cell_type": "markdown",
      "metadata": {
        "id": "-quNdu6HZzom"
      },
      "source": [
        "#  One vs. All\n",
        " Многоклассовая классификация может быть сведена к бинарной различными способами. Одним из них является подход One vs. All. Его суть в следующем: для каждого класса $i \\in \\{1, \\dots, k\\}$ обучим бинарный классификатор $a_i(x) = \\mbox{sign}f_i(x)$ на исходной выборке с изменёнными метками (объекты $i$-го класса получают метку 1, все оставшиеся объекты - метку 0), то есть мы учим $a_i$ отличать $i$-ый класс от всех остальных. После чего итоговый классификатор строится как $a(x) = \\mbox{argmax}_{i \\in \\{1, \\dots, k\\}} f_i(x)$, то есть он выдаёт класс с наибольшей оценкой $f_i(x)$. \n"
      ]
    },
    {
      "cell_type": "code",
      "metadata": {
        "colab": {
          "base_uri": "https://localhost:8080/"
        },
        "id": "-zEYP8pyZyx9",
        "outputId": "5f88acd1-69bd-4208-8cf5-716098072ca6"
      },
      "source": [
        "from sklearn.datasets import load_iris\n",
        "from sklearn.multiclass import OneVsRestClassifier\n",
        "from sklearn.svm import LinearSVC\n",
        "\n",
        "iris = load_iris()\n",
        "X, y = iris.data, iris.target\n",
        "# Fitting One vs. All version of linear SVM\n",
        "onevsall = OneVsRestClassifier(LinearSVC()).fit(X, y) \n",
        "metrics.accuracy_score(y, onevsall.predict(X))"
      ],
      "execution_count": null,
      "outputs": [
        {
          "output_type": "execute_result",
          "data": {
            "text/plain": [
              "0.9666666666666667"
            ]
          },
          "metadata": {},
          "execution_count": 3
        }
      ]
    },
    {
      "cell_type": "markdown",
      "metadata": {
        "id": "kf3zRHPRSfOD"
      },
      "source": [
        "### Характеристики бинарного классификатора\n",
        "Основываясь на данной таблице, можно ввести несколько величин, характеризующих бинарный классификатор:\n",
        "# $$recall = TPR = \\frac{TP}{TP + FN},\\quad \n",
        "SPC = \\frac{TN}{TN + FP},\\quad \n",
        "precision = PPV = \\frac{TP}{TP + FP},\\quad FRP = 1 - SPC,$$\n",
        "\n",
        "# $$ACC = \\frac{TP + TN}{TP + TN + FP + FN},\\quad F1 = 2\\frac{PPV\\cdot TRP}{PPV + TPR}.$$\n",
        "\n",
        "Полнота $TPR$ (True positive rate, recall, sensitivity) - доля верно классифицированных положительных примеров среди всех положительных примеров.\n",
        " \n",
        "Специфичность $SPC$ (Specificity, true negative rate) - доля верно классифицированных отрицательных примеров среди всех отрицательных примеров.\n",
        "\n",
        "Точность $PPV$ (Positive predictive value, precision) - доля верно классифицированных положительных примеров среди всех примеров, классифицированных положительно.\n",
        "\n",
        "$FPR$ (False positive rate) - доля ошибочно классифицированных отрицательных примеров среди всех отрицательных примеров.\n",
        "\n",
        "$ACC$ (Accuracy) - доля верно классифицированных примеров среди всех примеров. Основная характеристика качества классификации.\n",
        "\n",
        "$F1$ (F1-measure) - среднее гармоническое точности и полноты. Позволяет учесть обе характеристики одновременно.\n"
      ]
    },
    {
      "cell_type": "code",
      "metadata": {
        "colab": {
          "base_uri": "https://localhost:8080/"
        },
        "id": "qdeRhuzVShy-",
        "outputId": "52eb7386-df63-4574-e26f-d100aba1f74b"
      },
      "source": [
        "PPV = metrics.precision_score(true_labels, predicted_labels)\n",
        "TPR = metrics.recall_score(true_labels, predicted_labels)\n",
        "F1 = metrics.f1_score(true_labels, predicted_labels)\n",
        "ACC = metrics.accuracy_score(true_labels, predicted_labels)\n",
        "PPV, TPR, F1, ACC"
      ],
      "execution_count": null,
      "outputs": [
        {
          "output_type": "execute_result",
          "data": {
            "text/plain": [
              "(0.6666666666666666, 0.4, 0.5, 0.5)"
            ]
          },
          "metadata": {},
          "execution_count": 6
        }
      ]
    },
    {
      "cell_type": "markdown",
      "metadata": {
        "id": "H_OYu2apUVS3"
      },
      "source": [
        "# ROC-кривая и AUC\n",
        "\n",
        "Большинство бинарных классификаторов имеют вид $a(x) = \\mbox{sign}(f(x, w) - w_0)$, где $w, w_0$ - параметры алгоритма. То есть сначала строится разделяющая поверхность $f(x, w) = w_0$, после чего объекты, находяющиеся по одну сторону от неё классифицируются положительно, по другую - отрицательно. \n",
        "\n",
        "# ROC-кривая (Receiver Operating Characteristic)\n",
        " - это графическая характеристика качества бинарного классификатора, выражающая зависимость TPR от FPR при варьировании порога решающего правила. Она наглядно представляет, каким будет качество классификации при различных значениях $w_0$ и фиксированном значении $w$. \n",
        "\n",
        "ROC-кривая проходит через точки (0, 0) и (1, 1) и монотонно не убывает. Чем ближе кривая внутри квадрата $[0, 1]\\times[0, 1]$ к левому верхнему углу, тем лучше. Идеальный вариант - кривая, проходящая через три точки: (0, 0), (1, 1) и (0, 1). Диагональ данного квадрата соответствует случайному гаданию. \n",
        "\n",
        "На практике ROC-кривую всегда оценивают по независомой тестовой выборке, для того чтобы избежать переобучения.\n",
        "\n",
        "# Площадь под ROC-кривой AUC (Area Under Curve)\n",
        " является количественной характеристикой качества классификации, не зависящей от соотношения цен ошибок. Чем больше значение AUC, тем «лучше» модель классификации. \n"
      ]
    },
    {
      "cell_type": "code",
      "metadata": {
        "colab": {
          "base_uri": "https://localhost:8080/",
          "height": 294
        },
        "id": "0Klsn8ppaa79",
        "outputId": "3fd3cddd-5f41-40c1-998f-4d1c20703cae"
      },
      "source": [
        "from sklearn.datasets import load_breast_cancer\n",
        "from sklearn.model_selection import train_test_split\n",
        "from sklearn import metrics\n",
        "from sklearn.svm import LinearSVC\n",
        "\n",
        "cancer = load_breast_cancer()\n",
        "X_train, X_test, y_train, y_test = train_test_split(\n",
        "cancer.data, cancer.target, stratify=cancer.target, random_state=42)\n",
        "C = 0.01 # Regularization parameter of the error term\n",
        "\n",
        "lin_svm = LinearSVC(C=C, dual=False).fit(X_train, y_train)\n",
        "y_score = lin_svm.decision_function(X_test)\n",
        "\n",
        "# Compute ROC curve and ROC area\n",
        "fpr, tpr, _ = metrics.roc_curve(y_test, y_score)\n",
        "roc_auc = metrics.auc(fpr, tpr)\n",
        "\n",
        "# Plot of a ROC curve for a specific class\n",
        "plt.figure()\n",
        "plt.plot(fpr, tpr, label='ROC curve (area = %0.2f)' % roc_auc)\n",
        "plt.plot([0, 1], [0, 1], 'k--')\n",
        "plt.xlim([0.0, 1.0])\n",
        "plt.ylim([0.0, 1.05])\n",
        "plt.xlabel('False Positive Rate')\n",
        "plt.ylabel('True Positive Rate')\n",
        "plt.title('Receiver operating characteristic example')\n",
        "plt.legend(loc=\"lower right\")\n",
        "plt.show()\n",
        "\n"
      ],
      "execution_count": null,
      "outputs": [
        {
          "output_type": "display_data",
          "data": {
            "image/png": "[encoded data removed]",
            "text/plain": [
              "<Figure size 432x288 with 1 Axes>"
            ]
          },
          "metadata": {
            "needs_background": "light"
          }
        }
      ]
    },
    {
      "cell_type": "code",
      "metadata": {
        "colab": {
          "base_uri": "https://localhost:8080/"
        },
        "id": "R8AFD91IbwFv",
        "outputId": "d23558c0-e18e-4e42-eec0-24f0cc3ba7e4"
      },
      "source": [
        "roc_auc"
      ],
      "execution_count": null,
      "outputs": [
        {
          "output_type": "execute_result",
          "data": {
            "text/plain": [
              "0.9914046121593292"
            ]
          },
          "metadata": {},
          "execution_count": 14
        }
      ]
    },
    {
      "cell_type": "code",
      "metadata": {
        "id": "iBmrJa-tBrdw"
      },
      "source": [
        "[1,2,3.....10]"
      ],
      "execution_count": null,
      "outputs": []
    }
  ]
}