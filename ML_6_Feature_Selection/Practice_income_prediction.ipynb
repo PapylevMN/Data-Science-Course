{
  "cells": [
    {
      "cell_type": "markdown",
      "metadata": {
        "id": "Z2DiJyA-iYUt"
      },
      "source": [
        "# Предсказание   дохода\n",
        "\n"
      ]
    },
    {
      "cell_type": "markdown",
      "metadata": {
        "id": "aQKQZ5VLh8SW"
      },
      "source": [
        "Целью данной задачи является построение модели **классификации пользователей**: на вход модель будет принимать данные о человеке, а на выходе она должна предсказывать бинарный уровень дохода человека (больше или меньше 50000$ за год)."
      ]
    },
    {
      "cell_type": "markdown",
      "metadata": {
        "id": "35Hlf5Umd5mO"
      },
      "source": [
        "## Загрузка библиотек"
      ]
    },
    {
      "cell_type": "code",
      "execution_count": 1,
      "metadata": {
        "id": "lQq3pQRJ1B-B"
      },
      "outputs": [],
      "source": [
        "import pandas as pd\n",
        "import numpy as np\n",
        "import matplotlib.pyplot as plt\n",
        "\n",
        "#магическая команда, указывает, что графики нужно строить прямо в ноутбуке: \n",
        "#%matplotlib inline "
      ]
    },
    {
      "cell_type": "code",
      "execution_count": 2,
      "metadata": {
        "id": "2rU2GDJQg7Y_"
      },
      "outputs": [],
      "source": [
        "from comet_ml import Experiment"
      ]
    },
    {
      "cell_type": "code",
      "execution_count": 3,
      "metadata": {
        "id": "oy_whkH25Svt"
      },
      "outputs": [],
      "source": [
        "#@title CometML set up\n",
        "project_name = 'predict-income'\n",
        "workspace = 'papylevmn'\n",
        "api_key = 'EDLiFp3QtGqz88do4uKHlCqCk'"
      ]
    },
    {
      "cell_type": "code",
      "execution_count": 4,
      "metadata": {
        "id": "2uq610Sp5Q7T"
      },
      "outputs": [
        {
          "name": "stderr",
          "output_type": "stream",
          "text": [
            "COMET WARNING: As you are running in a Jupyter environment, you will need to call `experiment.end()` when finished to ensure all metrics and code are logged before exiting.\n",
            "COMET INFO: Experiment is live on comet.com https://www.comet.com/papylevmn/predict-income/93b09798f2d74e1c8efcd4ef0891a52b\n",
            "\n"
          ]
        }
      ],
      "source": [
        "experiment = Experiment(project_name=project_name, workspace=workspace, api_key = api_key, log_code=True)"
      ]
    },
    {
      "cell_type": "markdown",
      "metadata": {
        "id": "4Y4KR8xhY7DT"
      },
      "source": [
        "## Загрузка данных"
      ]
    },
    {
      "cell_type": "code",
      "execution_count": 5,
      "metadata": {
        "id": "IxJX3snvCSWk"
      },
      "outputs": [],
      "source": [
        "training_data = pd.read_csv('data/train.csv')\n",
        "test_data = pd.read_csv('data/test.csv')"
      ]
    },
    {
      "cell_type": "code",
      "execution_count": 6,
      "metadata": {
        "id": "wRwTO3aOTDyJ"
      },
      "outputs": [
        {
          "data": {
            "text/html": [
              "<div>\n",
              "<style scoped>\n",
              "    .dataframe tbody tr th:only-of-type {\n",
              "        vertical-align: middle;\n",
              "    }\n",
              "\n",
              "    .dataframe tbody tr th {\n",
              "        vertical-align: top;\n",
              "    }\n",
              "\n",
              "    .dataframe thead th {\n",
              "        text-align: right;\n",
              "    }\n",
              "</style>\n",
              "<table border=\"1\" class=\"dataframe\">\n",
              "  <thead>\n",
              "    <tr style=\"text-align: right;\">\n",
              "      <th></th>\n",
              "      <th>age</th>\n",
              "      <th>workclass</th>\n",
              "      <th>education</th>\n",
              "      <th>marital-status</th>\n",
              "      <th>occupation</th>\n",
              "      <th>relationship</th>\n",
              "      <th>race</th>\n",
              "      <th>sex</th>\n",
              "      <th>capital-gain</th>\n",
              "      <th>capital-loss</th>\n",
              "      <th>hours-per-week</th>\n",
              "      <th>native-country</th>\n",
              "      <th>income</th>\n",
              "    </tr>\n",
              "  </thead>\n",
              "  <tbody>\n",
              "    <tr>\n",
              "      <th>0</th>\n",
              "      <td>49</td>\n",
              "      <td>Private</td>\n",
              "      <td>HS-grad</td>\n",
              "      <td>Married-civ-spouse</td>\n",
              "      <td>Craft-repair</td>\n",
              "      <td>Husband</td>\n",
              "      <td>White</td>\n",
              "      <td>Male</td>\n",
              "      <td>0.0</td>\n",
              "      <td>0.0</td>\n",
              "      <td>40</td>\n",
              "      <td>United-States</td>\n",
              "      <td>0</td>\n",
              "    </tr>\n",
              "    <tr>\n",
              "      <th>1</th>\n",
              "      <td>27</td>\n",
              "      <td>NaN</td>\n",
              "      <td>HS-grad</td>\n",
              "      <td>Married-civ-spouse</td>\n",
              "      <td>Machine-op-inspct</td>\n",
              "      <td>Husband</td>\n",
              "      <td>White</td>\n",
              "      <td>Male</td>\n",
              "      <td>0.0</td>\n",
              "      <td>0.0</td>\n",
              "      <td>45</td>\n",
              "      <td>United-States</td>\n",
              "      <td>0</td>\n",
              "    </tr>\n",
              "    <tr>\n",
              "      <th>2</th>\n",
              "      <td>44</td>\n",
              "      <td>NaN</td>\n",
              "      <td>11th</td>\n",
              "      <td>Married-civ-spouse</td>\n",
              "      <td>Other-service</td>\n",
              "      <td>Husband</td>\n",
              "      <td>Black</td>\n",
              "      <td>Male</td>\n",
              "      <td>0.0</td>\n",
              "      <td>0.0</td>\n",
              "      <td>60</td>\n",
              "      <td>United-States</td>\n",
              "      <td>0</td>\n",
              "    </tr>\n",
              "  </tbody>\n",
              "</table>\n",
              "</div>"
            ],
            "text/plain": [
              "   age workclass education      marital-status         occupation  \\\n",
              "0   49   Private   HS-grad  Married-civ-spouse       Craft-repair   \n",
              "1   27       NaN   HS-grad  Married-civ-spouse  Machine-op-inspct   \n",
              "2   44       NaN      11th  Married-civ-spouse      Other-service   \n",
              "\n",
              "  relationship   race   sex  capital-gain  capital-loss  hours-per-week  \\\n",
              "0      Husband  White  Male           0.0           0.0              40   \n",
              "1      Husband  White  Male           0.0           0.0              45   \n",
              "2      Husband  Black  Male           0.0           0.0              60   \n",
              "\n",
              "  native-country  income  \n",
              "0  United-States       0  \n",
              "1  United-States       0  \n",
              "2  United-States       0  "
            ]
          },
          "execution_count": 6,
          "metadata": {},
          "output_type": "execute_result"
        }
      ],
      "source": [
        "training_data.head(3)"
      ]
    },
    {
      "cell_type": "markdown",
      "metadata": {
        "id": "q73WSH86CpLG"
      },
      "source": [
        "Проверим размерности наших файлов:"
      ]
    },
    {
      "cell_type": "code",
      "execution_count": 7,
      "metadata": {
        "id": "KFkoCnueTLNo"
      },
      "outputs": [
        {
          "data": {
            "text/plain": [
              "((24420, 13), (8141, 13))"
            ]
          },
          "execution_count": 7,
          "metadata": {},
          "output_type": "execute_result"
        }
      ],
      "source": [
        "training_data.shape, test_data.shape"
      ]
    },
    {
      "cell_type": "markdown",
      "metadata": {
        "id": "pBQO2lYwLjWL"
      },
      "source": [
        "**Работаем с целевой переменной**\n",
        "\n"
      ]
    },
    {
      "cell_type": "code",
      "execution_count": 8,
      "metadata": {
        "id": "R7nASgBNLqs7"
      },
      "outputs": [],
      "source": [
        "target_name = 'income'"
      ]
    },
    {
      "cell_type": "code",
      "execution_count": 9,
      "metadata": {
        "id": "aQEHV1oWiJm5"
      },
      "outputs": [],
      "source": [
        "y_train = training_data[target_name]\n",
        "y_test = test_data[target_name]\n",
        "\n",
        "X_train = training_data.drop(columns=[target_name])\n",
        "X_test = test_data.drop(columns=[target_name])"
      ]
    },
    {
      "cell_type": "markdown",
      "metadata": {
        "id": "GZVzIXWCiUL0"
      },
      "source": [
        "**Оценка сбалансированности выборки**"
      ]
    },
    {
      "cell_type": "code",
      "execution_count": 10,
      "metadata": {
        "id": "1mQwk5PJidAs"
      },
      "outputs": [
        {
          "data": {
            "text/plain": [
              "0    0.757821\n",
              "1    0.242179\n",
              "Name: income, dtype: float64"
            ]
          },
          "execution_count": 10,
          "metadata": {},
          "output_type": "execute_result"
        }
      ],
      "source": [
        "y_train.value_counts(normalize=True)"
      ]
    },
    {
      "cell_type": "markdown",
      "metadata": {
        "id": "UeUYHhsXipCF"
      },
      "source": [
        "Таким образом, имеем задачу **несбалансированной бинарной классификации**. "
      ]
    },
    {
      "cell_type": "markdown",
      "metadata": {
        "id": "wb9oWB7Qasok"
      },
      "source": [
        "## Общая статистика по числовым данным\n",
        "\n"
      ]
    },
    {
      "cell_type": "code",
      "execution_count": 11,
      "metadata": {
        "id": "3qsVchVHTOHj"
      },
      "outputs": [
        {
          "data": {
            "text/html": [
              "<div>\n",
              "<style scoped>\n",
              "    .dataframe tbody tr th:only-of-type {\n",
              "        vertical-align: middle;\n",
              "    }\n",
              "\n",
              "    .dataframe tbody tr th {\n",
              "        vertical-align: top;\n",
              "    }\n",
              "\n",
              "    .dataframe thead th {\n",
              "        text-align: right;\n",
              "    }\n",
              "</style>\n",
              "<table border=\"1\" class=\"dataframe\">\n",
              "  <thead>\n",
              "    <tr style=\"text-align: right;\">\n",
              "      <th></th>\n",
              "      <th>count</th>\n",
              "      <th>mean</th>\n",
              "      <th>std</th>\n",
              "      <th>min</th>\n",
              "      <th>25%</th>\n",
              "      <th>50%</th>\n",
              "      <th>75%</th>\n",
              "      <th>max</th>\n",
              "    </tr>\n",
              "  </thead>\n",
              "  <tbody>\n",
              "    <tr>\n",
              "      <th>age</th>\n",
              "      <td>24420.0</td>\n",
              "      <td>38.598116</td>\n",
              "      <td>13.638458</td>\n",
              "      <td>17.0</td>\n",
              "      <td>28.0</td>\n",
              "      <td>37.0</td>\n",
              "      <td>48.0</td>\n",
              "      <td>90.0</td>\n",
              "    </tr>\n",
              "    <tr>\n",
              "      <th>capital-gain</th>\n",
              "      <td>23705.0</td>\n",
              "      <td>1051.724067</td>\n",
              "      <td>7199.945441</td>\n",
              "      <td>0.0</td>\n",
              "      <td>0.0</td>\n",
              "      <td>0.0</td>\n",
              "      <td>0.0</td>\n",
              "      <td>99999.0</td>\n",
              "    </tr>\n",
              "    <tr>\n",
              "      <th>capital-loss</th>\n",
              "      <td>23936.0</td>\n",
              "      <td>88.409592</td>\n",
              "      <td>404.466154</td>\n",
              "      <td>0.0</td>\n",
              "      <td>0.0</td>\n",
              "      <td>0.0</td>\n",
              "      <td>0.0</td>\n",
              "      <td>4356.0</td>\n",
              "    </tr>\n",
              "    <tr>\n",
              "      <th>hours-per-week</th>\n",
              "      <td>24420.0</td>\n",
              "      <td>40.386568</td>\n",
              "      <td>12.299621</td>\n",
              "      <td>1.0</td>\n",
              "      <td>40.0</td>\n",
              "      <td>40.0</td>\n",
              "      <td>45.0</td>\n",
              "      <td>99.0</td>\n",
              "    </tr>\n",
              "  </tbody>\n",
              "</table>\n",
              "</div>"
            ],
            "text/plain": [
              "                  count         mean          std   min   25%   50%   75%  \\\n",
              "age             24420.0    38.598116    13.638458  17.0  28.0  37.0  48.0   \n",
              "capital-gain    23705.0  1051.724067  7199.945441   0.0   0.0   0.0   0.0   \n",
              "capital-loss    23936.0    88.409592   404.466154   0.0   0.0   0.0   0.0   \n",
              "hours-per-week  24420.0    40.386568    12.299621   1.0  40.0  40.0  45.0   \n",
              "\n",
              "                    max  \n",
              "age                90.0  \n",
              "capital-gain    99999.0  \n",
              "capital-loss     4356.0  \n",
              "hours-per-week     99.0  "
            ]
          },
          "execution_count": 11,
          "metadata": {},
          "output_type": "execute_result"
        }
      ],
      "source": [
        "X_train.describe().T"
      ]
    },
    {
      "cell_type": "code",
      "execution_count": 12,
      "metadata": {
        "id": "-dkUNB3honuW"
      },
      "outputs": [
        {
          "data": {
            "text/plain": [
              "{'web': 'https://www.comet.com/api/image/download?imageId=095ce69b8c73416480bbb00cc97ad44f&experimentKey=93b09798f2d74e1c8efcd4ef0891a52b',\n",
              " 'api': 'https://www.comet.com/api/rest/v1/image/get-image?imageId=095ce69b8c73416480bbb00cc97ad44f&experimentKey=93b09798f2d74e1c8efcd4ef0891a52b',\n",
              " 'imageId': '095ce69b8c73416480bbb00cc97ad44f'}"
            ]
          },
          "execution_count": 12,
          "metadata": {},
          "output_type": "execute_result"
        },
        {
          "data": {
            "image/png": "[encoded data removed]",
            "text/plain": [
              "<Figure size 864x576 with 4 Axes>"
            ]
          },
          "metadata": {
            "needs_background": "light"
          },
          "output_type": "display_data"
        }
      ],
      "source": [
        "X_train.hist(figsize=(12,8))\n",
        "experiment.log_figure('X_train_numeric_distr', plt)"
      ]
    },
    {
      "cell_type": "markdown",
      "metadata": {
        "id": "Q2UidrVYDVC8"
      },
      "source": [
        "Что мы можем увидеть из результатов?\n",
        "* Числовых переменных в исходных данных только 4;\n",
        "* Возраст пользователя варьируется в диапазоне от 17 до 90 лет и в среднем составляет 39 лет;\n",
        "* Видим пропуски в признаках capital-gain и capital-loss (значение count меньше размера данных). По гистограмме можно заметить, что большое количество значений в этих признаках - это просто нули;"
      ]
    },
    {
      "cell_type": "markdown",
      "metadata": {
        "id": "Y8tSidMjcZDb"
      },
      "source": [
        "## Предобработка данных"
      ]
    },
    {
      "cell_type": "markdown",
      "metadata": {
        "id": "bELiiw08d6d2"
      },
      "source": [
        "### Проверка на наличие пропусков и типов переменных\n",
        "\n"
      ]
    },
    {
      "cell_type": "code",
      "execution_count": 13,
      "metadata": {
        "id": "uWw94acacZY0"
      },
      "outputs": [
        {
          "name": "stdout",
          "output_type": "stream",
          "text": [
            "<class 'pandas.core.frame.DataFrame'>\n",
            "RangeIndex: 24420 entries, 0 to 24419\n",
            "Data columns (total 12 columns):\n",
            " #   Column          Non-Null Count  Dtype  \n",
            "---  ------          --------------  -----  \n",
            " 0   age             24420 non-null  int64  \n",
            " 1   workclass       23223 non-null  object \n",
            " 2   education       23443 non-null  object \n",
            " 3   marital-status  24420 non-null  object \n",
            " 4   occupation      24420 non-null  object \n",
            " 5   relationship    24420 non-null  object \n",
            " 6   race            24420 non-null  object \n",
            " 7   sex             24420 non-null  object \n",
            " 8   capital-gain    23705 non-null  float64\n",
            " 9   capital-loss    23936 non-null  float64\n",
            " 10  hours-per-week  24420 non-null  int64  \n",
            " 11  native-country  24420 non-null  object \n",
            "dtypes: float64(2), int64(2), object(8)\n",
            "memory usage: 2.2+ MB\n"
          ]
        }
      ],
      "source": [
        "X_train.info()"
      ]
    },
    {
      "cell_type": "markdown",
      "metadata": {
        "id": "PqNXnlFTpt7Q"
      },
      "source": [
        "Типы в наших данных:\n",
        "* 8 признаков типа **object** - обычно это строковые значения;\n",
        "* 3 признака типа **int64** - целочисленные значения;\n",
        "* 2 признака типа **float64** - числа с плавающей запятой. "
      ]
    },
    {
      "cell_type": "markdown",
      "metadata": {
        "id": "LA9sLCkDZsqX"
      },
      "source": [
        "Кроме этого, мы видим, что признаки *workclass, education, capital-gain и capital-loss* имеют пропуски в данных.\n",
        "\n",
        "### Обработка пропусков в данных\n",
        "\n",
        "Далеко не все алгоритмы умеют работать с пропусками в данных. Кроме этого, удачно заполнив пропуски, мы сможем лучше восстановить распределение данных, а значит лучше построить моделей. \n",
        "\n",
        "Самые популярные методы для обработки пропусков:\n",
        "- Удаление значений с пропусками (не желательно при большом количестве пропусков, потому что теряются данные);\n",
        "- Заполнение средним/медианным значением;\n",
        "- Заполненние самым частым значением;\n",
        "- Заполнение случайным значением.\n",
        "\n",
        "**Важно:** тестовую выборку мы всегда обрабатываем также, как и обучающую выборку. "
      ]
    },
    {
      "cell_type": "code",
      "execution_count": 14,
      "metadata": {
        "id": "_PTZtLrzbE4h"
      },
      "outputs": [],
      "source": [
        "X_train['capital-loss'] = X_train['capital-loss'].fillna(0)\n",
        "X_train['capital-gain'] = X_train['capital-gain'].fillna(0)"
      ]
    },
    {
      "cell_type": "markdown",
      "metadata": {
        "id": "WONBs7YvRoL_"
      },
      "source": [
        "Сделаем то же самое для тестовой выборки:"
      ]
    },
    {
      "cell_type": "code",
      "execution_count": 15,
      "metadata": {
        "id": "hj-bIyDWRqpO"
      },
      "outputs": [],
      "source": [
        "X_test['capital-loss'] = X_test['capital-loss'].fillna(0)\n",
        "X_test['capital-gain'] = X_test['capital-gain'].fillna(0)"
      ]
    },
    {
      "cell_type": "code",
      "execution_count": 16,
      "metadata": {
        "id": "e37oK2iIoECy"
      },
      "outputs": [
        {
          "data": {
            "text/plain": [
              "Private    0.696766\n",
              "Name: workclass, dtype: float64"
            ]
          },
          "execution_count": 16,
          "metadata": {},
          "output_type": "execute_result"
        }
      ],
      "source": [
        "X_train['workclass'].value_counts(True).head(1)"
      ]
    },
    {
      "cell_type": "code",
      "execution_count": 17,
      "metadata": {
        "id": "1WqmG6k0oMkj"
      },
      "outputs": [
        {
          "data": {
            "text/plain": [
              "HS-grad    0.322484\n",
              "Name: education, dtype: float64"
            ]
          },
          "execution_count": 17,
          "metadata": {},
          "output_type": "execute_result"
        }
      ],
      "source": [
        "X_train['education'].value_counts(True).head(1)"
      ]
    },
    {
      "cell_type": "markdown",
      "metadata": {
        "id": "pCmBSBylob1h"
      },
      "source": [
        "Наиболее частое значение признака **workclass** - Private, признака **education** - HS-grad. \n",
        "\n",
        "Теперь явно заполним пропуски:"
      ]
    },
    {
      "cell_type": "code",
      "execution_count": 18,
      "metadata": {
        "id": "aACIVqSOoRkz"
      },
      "outputs": [],
      "source": [
        "X_train['workclass'] = X_train['workclass'].fillna('Private')\n",
        "X_train['education'] = X_train['education'].fillna('HS-grad')"
      ]
    },
    {
      "cell_type": "markdown",
      "metadata": {
        "id": "dVzdpK0ARwYM"
      },
      "source": [
        "Сделаем то же самое для тестовой выборки:"
      ]
    },
    {
      "cell_type": "code",
      "execution_count": 19,
      "metadata": {
        "id": "-UWZxaU8Ry3d"
      },
      "outputs": [],
      "source": [
        "X_test['workclass'] = X_test['workclass'].fillna('Private')\n",
        "X_test['education'] = X_test['education'].fillna('HS-grad')"
      ]
    },
    {
      "cell_type": "markdown",
      "metadata": {
        "id": "LuWI69Ta2tFI"
      },
      "source": [
        "### Кодировка категориальных переменных"
      ]
    },
    {
      "cell_type": "markdown",
      "metadata": {
        "id": "LczY5qg93YpH"
      },
      "source": [
        "В данных 8 столбцов являются категориальными признаками. При чём в нашей задаче эти признаки **текстовые**. Машине сложно обрабатывать текстовые признаки, поэтому нам необходимо закодировать их, то есть преобразовать в числовые. \n",
        "\n",
        "Для начала необходимо выделить категорильные признаки:"
      ]
    },
    {
      "cell_type": "code",
      "execution_count": 20,
      "metadata": {
        "id": "mOVzv1WQ3jt9"
      },
      "outputs": [],
      "source": [
        "categorical_features = ['workclass', 'education', 'marital-status', \n",
        "                        'occupation', 'relationship', 'race', 'sex', \n",
        "                        'native-country']\n",
        "\n",
        "non_categorical_features = ['age', 'capital-gain', 'capital-loss', \n",
        "                            'hours-per-week']"
      ]
    },
    {
      "cell_type": "markdown",
      "metadata": {
        "id": "K_zOsUG4INUK"
      },
      "source": [
        "Посмотрим на столбцы категориальных переменных:"
      ]
    },
    {
      "cell_type": "code",
      "execution_count": 21,
      "metadata": {
        "id": "z92yPN_bHfsg"
      },
      "outputs": [
        {
          "data": {
            "text/html": [
              "<div>\n",
              "<style scoped>\n",
              "    .dataframe tbody tr th:only-of-type {\n",
              "        vertical-align: middle;\n",
              "    }\n",
              "\n",
              "    .dataframe tbody tr th {\n",
              "        vertical-align: top;\n",
              "    }\n",
              "\n",
              "    .dataframe thead th {\n",
              "        text-align: right;\n",
              "    }\n",
              "</style>\n",
              "<table border=\"1\" class=\"dataframe\">\n",
              "  <thead>\n",
              "    <tr style=\"text-align: right;\">\n",
              "      <th></th>\n",
              "      <th>workclass</th>\n",
              "      <th>education</th>\n",
              "      <th>marital-status</th>\n",
              "      <th>occupation</th>\n",
              "      <th>relationship</th>\n",
              "      <th>race</th>\n",
              "      <th>sex</th>\n",
              "      <th>native-country</th>\n",
              "    </tr>\n",
              "  </thead>\n",
              "  <tbody>\n",
              "    <tr>\n",
              "      <th>0</th>\n",
              "      <td>Private</td>\n",
              "      <td>HS-grad</td>\n",
              "      <td>Married-civ-spouse</td>\n",
              "      <td>Craft-repair</td>\n",
              "      <td>Husband</td>\n",
              "      <td>White</td>\n",
              "      <td>Male</td>\n",
              "      <td>United-States</td>\n",
              "    </tr>\n",
              "    <tr>\n",
              "      <th>1</th>\n",
              "      <td>Private</td>\n",
              "      <td>HS-grad</td>\n",
              "      <td>Married-civ-spouse</td>\n",
              "      <td>Machine-op-inspct</td>\n",
              "      <td>Husband</td>\n",
              "      <td>White</td>\n",
              "      <td>Male</td>\n",
              "      <td>United-States</td>\n",
              "    </tr>\n",
              "    <tr>\n",
              "      <th>2</th>\n",
              "      <td>Private</td>\n",
              "      <td>11th</td>\n",
              "      <td>Married-civ-spouse</td>\n",
              "      <td>Other-service</td>\n",
              "      <td>Husband</td>\n",
              "      <td>Black</td>\n",
              "      <td>Male</td>\n",
              "      <td>United-States</td>\n",
              "    </tr>\n",
              "    <tr>\n",
              "      <th>3</th>\n",
              "      <td>Private</td>\n",
              "      <td>Bachelors</td>\n",
              "      <td>Separated</td>\n",
              "      <td>Adm-clerical</td>\n",
              "      <td>Unmarried</td>\n",
              "      <td>White</td>\n",
              "      <td>Male</td>\n",
              "      <td>United-States</td>\n",
              "    </tr>\n",
              "    <tr>\n",
              "      <th>4</th>\n",
              "      <td>Private</td>\n",
              "      <td>Bachelors</td>\n",
              "      <td>Divorced</td>\n",
              "      <td>Sales</td>\n",
              "      <td>Not-in-family</td>\n",
              "      <td>White</td>\n",
              "      <td>Female</td>\n",
              "      <td>United-States</td>\n",
              "    </tr>\n",
              "  </tbody>\n",
              "</table>\n",
              "</div>"
            ],
            "text/plain": [
              "  workclass  education      marital-status         occupation   relationship  \\\n",
              "0   Private    HS-grad  Married-civ-spouse       Craft-repair        Husband   \n",
              "1   Private    HS-grad  Married-civ-spouse  Machine-op-inspct        Husband   \n",
              "2   Private       11th  Married-civ-spouse      Other-service        Husband   \n",
              "3   Private  Bachelors           Separated       Adm-clerical      Unmarried   \n",
              "4   Private  Bachelors            Divorced              Sales  Not-in-family   \n",
              "\n",
              "    race     sex native-country  \n",
              "0  White    Male  United-States  \n",
              "1  White    Male  United-States  \n",
              "2  Black    Male  United-States  \n",
              "3  White    Male  United-States  \n",
              "4  White  Female  United-States  "
            ]
          },
          "execution_count": 21,
          "metadata": {},
          "output_type": "execute_result"
        }
      ],
      "source": [
        "X_train[categorical_features].head()"
      ]
    },
    {
      "cell_type": "markdown",
      "metadata": {
        "id": "JV1YC8_VGkj0"
      },
      "source": [
        "Мы рассмотрим два популярных метода кодирования категориальных признаков:\n",
        "* Label Encoding, которому соответствует класс `LabelEncoder()` из библиотеки **sklearn**\n",
        "* One Hot Encoding, которому соответствует класс `OneHotEncoder()` из библиотеки **sklearn**"
      ]
    },
    {
      "cell_type": "markdown",
      "metadata": {
        "id": "rU7NAImLB4pW"
      },
      "source": [
        "**Label Encoding**\n",
        "\n"
      ]
    },
    {
      "cell_type": "code",
      "execution_count": 22,
      "metadata": {
        "id": "7azZpi4UW4Is"
      },
      "outputs": [],
      "source": [
        "from sklearn.preprocessing import LabelEncoder"
      ]
    },
    {
      "cell_type": "code",
      "execution_count": 23,
      "metadata": {
        "id": "4K_zKpD-WVat"
      },
      "outputs": [],
      "source": [
        "label_encoder = LabelEncoder()"
      ]
    },
    {
      "cell_type": "code",
      "execution_count": 24,
      "metadata": {
        "id": "q4o6filra_Hi"
      },
      "outputs": [],
      "source": [
        "X_train_le = X_train.copy()"
      ]
    },
    {
      "cell_type": "code",
      "execution_count": 25,
      "metadata": {
        "id": "k4Msq26RbMKl"
      },
      "outputs": [],
      "source": [
        "X_test_le = X_test.copy()"
      ]
    },
    {
      "cell_type": "code",
      "execution_count": 26,
      "metadata": {
        "id": "tO_CPuksXEUG"
      },
      "outputs": [],
      "source": [
        "for feature in categorical_features:\n",
        "    X_train_le[feature] = label_encoder.fit_transform(X_train_le[feature])\n",
        "    X_test_le[feature] = label_encoder.transform(X_test_le[feature])"
      ]
    },
    {
      "cell_type": "code",
      "execution_count": 27,
      "metadata": {
        "id": "2vwfdRf9XKDi"
      },
      "outputs": [
        {
          "data": {
            "text/html": [
              "<div>\n",
              "<style scoped>\n",
              "    .dataframe tbody tr th:only-of-type {\n",
              "        vertical-align: middle;\n",
              "    }\n",
              "\n",
              "    .dataframe tbody tr th {\n",
              "        vertical-align: top;\n",
              "    }\n",
              "\n",
              "    .dataframe thead th {\n",
              "        text-align: right;\n",
              "    }\n",
              "</style>\n",
              "<table border=\"1\" class=\"dataframe\">\n",
              "  <thead>\n",
              "    <tr style=\"text-align: right;\">\n",
              "      <th></th>\n",
              "      <th>age</th>\n",
              "      <th>workclass</th>\n",
              "      <th>education</th>\n",
              "      <th>marital-status</th>\n",
              "      <th>occupation</th>\n",
              "      <th>relationship</th>\n",
              "      <th>race</th>\n",
              "      <th>sex</th>\n",
              "      <th>capital-gain</th>\n",
              "      <th>capital-loss</th>\n",
              "      <th>hours-per-week</th>\n",
              "      <th>native-country</th>\n",
              "    </tr>\n",
              "  </thead>\n",
              "  <tbody>\n",
              "    <tr>\n",
              "      <th>0</th>\n",
              "      <td>49</td>\n",
              "      <td>4</td>\n",
              "      <td>11</td>\n",
              "      <td>2</td>\n",
              "      <td>3</td>\n",
              "      <td>0</td>\n",
              "      <td>4</td>\n",
              "      <td>1</td>\n",
              "      <td>0.0</td>\n",
              "      <td>0.0</td>\n",
              "      <td>40</td>\n",
              "      <td>39</td>\n",
              "    </tr>\n",
              "    <tr>\n",
              "      <th>1</th>\n",
              "      <td>27</td>\n",
              "      <td>4</td>\n",
              "      <td>11</td>\n",
              "      <td>2</td>\n",
              "      <td>7</td>\n",
              "      <td>0</td>\n",
              "      <td>4</td>\n",
              "      <td>1</td>\n",
              "      <td>0.0</td>\n",
              "      <td>0.0</td>\n",
              "      <td>45</td>\n",
              "      <td>39</td>\n",
              "    </tr>\n",
              "    <tr>\n",
              "      <th>2</th>\n",
              "      <td>44</td>\n",
              "      <td>4</td>\n",
              "      <td>1</td>\n",
              "      <td>2</td>\n",
              "      <td>8</td>\n",
              "      <td>0</td>\n",
              "      <td>2</td>\n",
              "      <td>1</td>\n",
              "      <td>0.0</td>\n",
              "      <td>0.0</td>\n",
              "      <td>60</td>\n",
              "      <td>39</td>\n",
              "    </tr>\n",
              "    <tr>\n",
              "      <th>3</th>\n",
              "      <td>59</td>\n",
              "      <td>4</td>\n",
              "      <td>9</td>\n",
              "      <td>5</td>\n",
              "      <td>1</td>\n",
              "      <td>4</td>\n",
              "      <td>4</td>\n",
              "      <td>1</td>\n",
              "      <td>0.0</td>\n",
              "      <td>0.0</td>\n",
              "      <td>60</td>\n",
              "      <td>39</td>\n",
              "    </tr>\n",
              "    <tr>\n",
              "      <th>4</th>\n",
              "      <td>54</td>\n",
              "      <td>4</td>\n",
              "      <td>9</td>\n",
              "      <td>0</td>\n",
              "      <td>12</td>\n",
              "      <td>1</td>\n",
              "      <td>4</td>\n",
              "      <td>0</td>\n",
              "      <td>0.0</td>\n",
              "      <td>1408.0</td>\n",
              "      <td>38</td>\n",
              "      <td>39</td>\n",
              "    </tr>\n",
              "  </tbody>\n",
              "</table>\n",
              "</div>"
            ],
            "text/plain": [
              "   age  workclass  education  marital-status  occupation  relationship  race  \\\n",
              "0   49          4         11               2           3             0     4   \n",
              "1   27          4         11               2           7             0     4   \n",
              "2   44          4          1               2           8             0     2   \n",
              "3   59          4          9               5           1             4     4   \n",
              "4   54          4          9               0          12             1     4   \n",
              "\n",
              "   sex  capital-gain  capital-loss  hours-per-week  native-country  \n",
              "0    1           0.0           0.0              40              39  \n",
              "1    1           0.0           0.0              45              39  \n",
              "2    1           0.0           0.0              60              39  \n",
              "3    1           0.0           0.0              60              39  \n",
              "4    0           0.0        1408.0              38              39  "
            ]
          },
          "execution_count": 27,
          "metadata": {},
          "output_type": "execute_result"
        }
      ],
      "source": [
        "X_train_le.head()"
      ]
    },
    {
      "cell_type": "markdown",
      "metadata": {
        "id": "qrrLueZ5GrG3"
      },
      "source": [
        "**One Hot Encoding**\n",
        "\n"
      ]
    },
    {
      "cell_type": "code",
      "execution_count": 28,
      "metadata": {
        "id": "Lb0enkTDJwVz"
      },
      "outputs": [],
      "source": [
        "from sklearn.preprocessing import OneHotEncoder"
      ]
    },
    {
      "cell_type": "code",
      "execution_count": 29,
      "metadata": {
        "id": "yqya39gTMtRf"
      },
      "outputs": [],
      "source": [
        "onehot_encoder = OneHotEncoder()"
      ]
    },
    {
      "cell_type": "code",
      "execution_count": 30,
      "metadata": {
        "id": "AagXdR9FM36l"
      },
      "outputs": [],
      "source": [
        "# 'учим' и сразу применяем преобразование к выборке, результат переводим в массив\n",
        "X_train_onehot = onehot_encoder.fit_transform(X_train[categorical_features]).toarray()\n",
        "\n",
        "# применяем полученное преобразование к тестовой выборке, результат переводим в массив\n",
        "X_test_onehot = onehot_encoder.transform(X_test[categorical_features]).toarray()\n",
        "\n",
        "# запишем полученные названия новых колонок в отдельную переменную\n",
        "columns = onehot_encoder.get_feature_names_out(categorical_features)"
      ]
    },
    {
      "cell_type": "code",
      "execution_count": 31,
      "metadata": {
        "id": "Yl3cWbSEUr0R"
      },
      "outputs": [],
      "source": [
        "X_train_onehot = pd.DataFrame(X_train_onehot, columns=columns)\n",
        "X_test_onehot = pd.DataFrame(X_test_onehot, columns=columns)"
      ]
    },
    {
      "cell_type": "markdown",
      "metadata": {
        "id": "TR4dzFeJXUv9"
      },
      "source": [
        "И наконец, запишем в новую переменную полученный результат, удалив все незакодированные категориальные признаки из новой таблицы. "
      ]
    },
    {
      "cell_type": "code",
      "execution_count": 32,
      "metadata": {
        "id": "HK13EuhBXUBy"
      },
      "outputs": [],
      "source": [
        "# соединяем новую табличку с исходной\n",
        "X_train_new = pd.concat([X_train, X_train_onehot], axis=1)\n",
        "X_test_new = pd.concat([X_test, X_test_onehot], axis=1)\n",
        "\n",
        "# удаляем старые категориальные признаки\n",
        "X_train_new = X_train_new.drop(columns=categorical_features)\n",
        "X_test_new = X_test_new.drop(columns=categorical_features)"
      ]
    },
    {
      "cell_type": "code",
      "execution_count": 33,
      "metadata": {
        "id": "-kGtHQVbZF7C"
      },
      "outputs": [
        {
          "data": {
            "text/html": [
              "<div>\n",
              "<style scoped>\n",
              "    .dataframe tbody tr th:only-of-type {\n",
              "        vertical-align: middle;\n",
              "    }\n",
              "\n",
              "    .dataframe tbody tr th {\n",
              "        vertical-align: top;\n",
              "    }\n",
              "\n",
              "    .dataframe thead th {\n",
              "        text-align: right;\n",
              "    }\n",
              "</style>\n",
              "<table border=\"1\" class=\"dataframe\">\n",
              "  <thead>\n",
              "    <tr style=\"text-align: right;\">\n",
              "      <th></th>\n",
              "      <th>age</th>\n",
              "      <th>capital-gain</th>\n",
              "      <th>capital-loss</th>\n",
              "      <th>hours-per-week</th>\n",
              "      <th>workclass_?</th>\n",
              "      <th>workclass_Federal-gov</th>\n",
              "      <th>workclass_Local-gov</th>\n",
              "      <th>workclass_Never-worked</th>\n",
              "      <th>workclass_Private</th>\n",
              "      <th>workclass_Self-emp-inc</th>\n",
              "      <th>...</th>\n",
              "      <th>native-country_Portugal</th>\n",
              "      <th>native-country_Puerto-Rico</th>\n",
              "      <th>native-country_Scotland</th>\n",
              "      <th>native-country_South</th>\n",
              "      <th>native-country_Taiwan</th>\n",
              "      <th>native-country_Thailand</th>\n",
              "      <th>native-country_Trinadad&amp;Tobago</th>\n",
              "      <th>native-country_United-States</th>\n",
              "      <th>native-country_Vietnam</th>\n",
              "      <th>native-country_Yugoslavia</th>\n",
              "    </tr>\n",
              "  </thead>\n",
              "  <tbody>\n",
              "    <tr>\n",
              "      <th>0</th>\n",
              "      <td>49</td>\n",
              "      <td>0.0</td>\n",
              "      <td>0.0</td>\n",
              "      <td>40</td>\n",
              "      <td>0.0</td>\n",
              "      <td>0.0</td>\n",
              "      <td>0.0</td>\n",
              "      <td>0.0</td>\n",
              "      <td>1.0</td>\n",
              "      <td>0.0</td>\n",
              "      <td>...</td>\n",
              "      <td>0.0</td>\n",
              "      <td>0.0</td>\n",
              "      <td>0.0</td>\n",
              "      <td>0.0</td>\n",
              "      <td>0.0</td>\n",
              "      <td>0.0</td>\n",
              "      <td>0.0</td>\n",
              "      <td>1.0</td>\n",
              "      <td>0.0</td>\n",
              "      <td>0.0</td>\n",
              "    </tr>\n",
              "    <tr>\n",
              "      <th>1</th>\n",
              "      <td>27</td>\n",
              "      <td>0.0</td>\n",
              "      <td>0.0</td>\n",
              "      <td>45</td>\n",
              "      <td>0.0</td>\n",
              "      <td>0.0</td>\n",
              "      <td>0.0</td>\n",
              "      <td>0.0</td>\n",
              "      <td>1.0</td>\n",
              "      <td>0.0</td>\n",
              "      <td>...</td>\n",
              "      <td>0.0</td>\n",
              "      <td>0.0</td>\n",
              "      <td>0.0</td>\n",
              "      <td>0.0</td>\n",
              "      <td>0.0</td>\n",
              "      <td>0.0</td>\n",
              "      <td>0.0</td>\n",
              "      <td>1.0</td>\n",
              "      <td>0.0</td>\n",
              "      <td>0.0</td>\n",
              "    </tr>\n",
              "    <tr>\n",
              "      <th>2</th>\n",
              "      <td>44</td>\n",
              "      <td>0.0</td>\n",
              "      <td>0.0</td>\n",
              "      <td>60</td>\n",
              "      <td>0.0</td>\n",
              "      <td>0.0</td>\n",
              "      <td>0.0</td>\n",
              "      <td>0.0</td>\n",
              "      <td>1.0</td>\n",
              "      <td>0.0</td>\n",
              "      <td>...</td>\n",
              "      <td>0.0</td>\n",
              "      <td>0.0</td>\n",
              "      <td>0.0</td>\n",
              "      <td>0.0</td>\n",
              "      <td>0.0</td>\n",
              "      <td>0.0</td>\n",
              "      <td>0.0</td>\n",
              "      <td>1.0</td>\n",
              "      <td>0.0</td>\n",
              "      <td>0.0</td>\n",
              "    </tr>\n",
              "    <tr>\n",
              "      <th>3</th>\n",
              "      <td>59</td>\n",
              "      <td>0.0</td>\n",
              "      <td>0.0</td>\n",
              "      <td>60</td>\n",
              "      <td>0.0</td>\n",
              "      <td>0.0</td>\n",
              "      <td>0.0</td>\n",
              "      <td>0.0</td>\n",
              "      <td>1.0</td>\n",
              "      <td>0.0</td>\n",
              "      <td>...</td>\n",
              "      <td>0.0</td>\n",
              "      <td>0.0</td>\n",
              "      <td>0.0</td>\n",
              "      <td>0.0</td>\n",
              "      <td>0.0</td>\n",
              "      <td>0.0</td>\n",
              "      <td>0.0</td>\n",
              "      <td>1.0</td>\n",
              "      <td>0.0</td>\n",
              "      <td>0.0</td>\n",
              "    </tr>\n",
              "    <tr>\n",
              "      <th>4</th>\n",
              "      <td>54</td>\n",
              "      <td>0.0</td>\n",
              "      <td>1408.0</td>\n",
              "      <td>38</td>\n",
              "      <td>0.0</td>\n",
              "      <td>0.0</td>\n",
              "      <td>0.0</td>\n",
              "      <td>0.0</td>\n",
              "      <td>1.0</td>\n",
              "      <td>0.0</td>\n",
              "      <td>...</td>\n",
              "      <td>0.0</td>\n",
              "      <td>0.0</td>\n",
              "      <td>0.0</td>\n",
              "      <td>0.0</td>\n",
              "      <td>0.0</td>\n",
              "      <td>0.0</td>\n",
              "      <td>0.0</td>\n",
              "      <td>1.0</td>\n",
              "      <td>0.0</td>\n",
              "      <td>0.0</td>\n",
              "    </tr>\n",
              "  </tbody>\n",
              "</table>\n",
              "<p>5 rows × 106 columns</p>\n",
              "</div>"
            ],
            "text/plain": [
              "   age  capital-gain  capital-loss  hours-per-week  workclass_?  \\\n",
              "0   49           0.0           0.0              40          0.0   \n",
              "1   27           0.0           0.0              45          0.0   \n",
              "2   44           0.0           0.0              60          0.0   \n",
              "3   59           0.0           0.0              60          0.0   \n",
              "4   54           0.0        1408.0              38          0.0   \n",
              "\n",
              "   workclass_Federal-gov  workclass_Local-gov  workclass_Never-worked  \\\n",
              "0                    0.0                  0.0                     0.0   \n",
              "1                    0.0                  0.0                     0.0   \n",
              "2                    0.0                  0.0                     0.0   \n",
              "3                    0.0                  0.0                     0.0   \n",
              "4                    0.0                  0.0                     0.0   \n",
              "\n",
              "   workclass_Private  workclass_Self-emp-inc  ...  native-country_Portugal  \\\n",
              "0                1.0                     0.0  ...                      0.0   \n",
              "1                1.0                     0.0  ...                      0.0   \n",
              "2                1.0                     0.0  ...                      0.0   \n",
              "3                1.0                     0.0  ...                      0.0   \n",
              "4                1.0                     0.0  ...                      0.0   \n",
              "\n",
              "   native-country_Puerto-Rico  native-country_Scotland  native-country_South  \\\n",
              "0                         0.0                      0.0                   0.0   \n",
              "1                         0.0                      0.0                   0.0   \n",
              "2                         0.0                      0.0                   0.0   \n",
              "3                         0.0                      0.0                   0.0   \n",
              "4                         0.0                      0.0                   0.0   \n",
              "\n",
              "   native-country_Taiwan  native-country_Thailand  \\\n",
              "0                    0.0                      0.0   \n",
              "1                    0.0                      0.0   \n",
              "2                    0.0                      0.0   \n",
              "3                    0.0                      0.0   \n",
              "4                    0.0                      0.0   \n",
              "\n",
              "   native-country_Trinadad&Tobago  native-country_United-States  \\\n",
              "0                             0.0                           1.0   \n",
              "1                             0.0                           1.0   \n",
              "2                             0.0                           1.0   \n",
              "3                             0.0                           1.0   \n",
              "4                             0.0                           1.0   \n",
              "\n",
              "   native-country_Vietnam  native-country_Yugoslavia  \n",
              "0                     0.0                        0.0  \n",
              "1                     0.0                        0.0  \n",
              "2                     0.0                        0.0  \n",
              "3                     0.0                        0.0  \n",
              "4                     0.0                        0.0  \n",
              "\n",
              "[5 rows x 106 columns]"
            ]
          },
          "execution_count": 33,
          "metadata": {},
          "output_type": "execute_result"
        }
      ],
      "source": [
        "X_train_new.head()"
      ]
    },
    {
      "cell_type": "markdown",
      "metadata": {
        "id": "N-Dnf39-MniT"
      },
      "source": [
        "## Обучение модели "
      ]
    },
    {
      "cell_type": "markdown",
      "metadata": {
        "id": "7r-ezPSPNRUG"
      },
      "source": [
        "## Выбор метода обучения классификатора"
      ]
    },
    {
      "cell_type": "markdown",
      "metadata": {
        "id": "BgvuYNQdNKyn"
      },
      "source": [
        "Для обучения классификатора воспользуемся логистической регрессией.\n",
        " "
      ]
    },
    {
      "cell_type": "code",
      "execution_count": 34,
      "metadata": {
        "id": "PCCoYu85Nf_k"
      },
      "outputs": [],
      "source": [
        "from sklearn.linear_model import LogisticRegression"
      ]
    },
    {
      "cell_type": "markdown",
      "metadata": {
        "id": "vSN0cNP3Pgsk"
      },
      "source": [
        "Создаем прототип класса модели:"
      ]
    },
    {
      "cell_type": "code",
      "execution_count": 36,
      "metadata": {
        "id": "dUN2l43NUOIE"
      },
      "outputs": [],
      "source": [
        "linear_model = LogisticRegression()\n",
        "linear_model_oh = LogisticRegression()"
      ]
    },
    {
      "cell_type": "markdown",
      "metadata": {
        "id": "DlQ9PWWRRd2k"
      },
      "source": [
        "## Обучение модели на разных типах закодированных данных"
      ]
    },
    {
      "cell_type": "code",
      "execution_count": 37,
      "metadata": {
        "id": "79qyodwCUe_v"
      },
      "outputs": [
        {
          "name": "stderr",
          "output_type": "stream",
          "text": [
            "c:\\Users\\Администратор.000\\AppData\\Local\\Programs\\Python\\Python310\\lib\\site-packages\\sklearn\\linear_model\\_logistic.py:458: ConvergenceWarning: lbfgs failed to converge (status=1):\n",
            "STOP: TOTAL NO. of ITERATIONS REACHED LIMIT.\n",
            "\n",
            "Increase the number of iterations (max_iter) or scale the data as shown in:\n",
            "    https://scikit-learn.org/stable/modules/preprocessing.html\n",
            "Please also refer to the documentation for alternative solver options:\n",
            "    https://scikit-learn.org/stable/modules/linear_model.html#logistic-regression\n",
            "  n_iter_i = _check_optimize_result(\n"
          ]
        },
        {
          "data": {
            "text/html": [
              "<style>#sk-container-id-1 {color: black;background-color: white;}#sk-container-id-1 pre{padding: 0;}#sk-container-id-1 div.sk-toggleable {background-color: white;}#sk-container-id-1 label.sk-toggleable__label {cursor: pointer;display: block;width: 100%;margin-bottom: 0;padding: 0.3em;box-sizing: border-box;text-align: center;}#sk-container-id-1 label.sk-toggleable__label-arrow:before {content: \"▸\";float: left;margin-right: 0.25em;color: #696969;}#sk-container-id-1 label.sk-toggleable__label-arrow:hover:before {color: black;}#sk-container-id-1 div.sk-estimator:hover label.sk-toggleable__label-arrow:before {color: black;}#sk-container-id-1 div.sk-toggleable__content {max-height: 0;max-width: 0;overflow: hidden;text-align: left;background-color: #f0f8ff;}#sk-container-id-1 div.sk-toggleable__content pre {margin: 0.2em;color: black;border-radius: 0.25em;background-color: #f0f8ff;}#sk-container-id-1 input.sk-toggleable__control:checked~div.sk-toggleable__content {max-height: 200px;max-width: 100%;overflow: auto;}#sk-container-id-1 input.sk-toggleable__control:checked~label.sk-toggleable__label-arrow:before {content: \"▾\";}#sk-container-id-1 div.sk-estimator input.sk-toggleable__control:checked~label.sk-toggleable__label {background-color: #d4ebff;}#sk-container-id-1 div.sk-label input.sk-toggleable__control:checked~label.sk-toggleable__label {background-color: #d4ebff;}#sk-container-id-1 input.sk-hidden--visually {border: 0;clip: rect(1px 1px 1px 1px);clip: rect(1px, 1px, 1px, 1px);height: 1px;margin: -1px;overflow: hidden;padding: 0;position: absolute;width: 1px;}#sk-container-id-1 div.sk-estimator {font-family: monospace;background-color: #f0f8ff;border: 1px dotted black;border-radius: 0.25em;box-sizing: border-box;margin-bottom: 0.5em;}#sk-container-id-1 div.sk-estimator:hover {background-color: #d4ebff;}#sk-container-id-1 div.sk-parallel-item::after {content: \"\";width: 100%;border-bottom: 1px solid gray;flex-grow: 1;}#sk-container-id-1 div.sk-label:hover label.sk-toggleable__label {background-color: #d4ebff;}#sk-container-id-1 div.sk-serial::before {content: \"\";position: absolute;border-left: 1px solid gray;box-sizing: border-box;top: 0;bottom: 0;left: 50%;z-index: 0;}#sk-container-id-1 div.sk-serial {display: flex;flex-direction: column;align-items: center;background-color: white;padding-right: 0.2em;padding-left: 0.2em;position: relative;}#sk-container-id-1 div.sk-item {position: relative;z-index: 1;}#sk-container-id-1 div.sk-parallel {display: flex;align-items: stretch;justify-content: center;background-color: white;position: relative;}#sk-container-id-1 div.sk-item::before, #sk-container-id-1 div.sk-parallel-item::before {content: \"\";position: absolute;border-left: 1px solid gray;box-sizing: border-box;top: 0;bottom: 0;left: 50%;z-index: -1;}#sk-container-id-1 div.sk-parallel-item {display: flex;flex-direction: column;z-index: 1;position: relative;background-color: white;}#sk-container-id-1 div.sk-parallel-item:first-child::after {align-self: flex-end;width: 50%;}#sk-container-id-1 div.sk-parallel-item:last-child::after {align-self: flex-start;width: 50%;}#sk-container-id-1 div.sk-parallel-item:only-child::after {width: 0;}#sk-container-id-1 div.sk-dashed-wrapped {border: 1px dashed gray;margin: 0 0.4em 0.5em 0.4em;box-sizing: border-box;padding-bottom: 0.4em;background-color: white;}#sk-container-id-1 div.sk-label label {font-family: monospace;font-weight: bold;display: inline-block;line-height: 1.2em;}#sk-container-id-1 div.sk-label-container {text-align: center;}#sk-container-id-1 div.sk-container {/* jupyter's `normalize.less` sets `[hidden] { display: none; }` but bootstrap.min.css set `[hidden] { display: none !important; }` so we also need the `!important` here to be able to override the default hidden behavior on the sphinx rendered scikit-learn.org. See: https://github.com/scikit-learn/scikit-learn/issues/21755 */display: inline-block !important;position: relative;}#sk-container-id-1 div.sk-text-repr-fallback {display: none;}</style><div id=\"sk-container-id-1\" class=\"sk-top-container\"><div class=\"sk-text-repr-fallback\"><pre>LogisticRegression()</pre><b>In a Jupyter environment, please rerun this cell to show the HTML representation or trust the notebook. <br />On GitHub, the HTML representation is unable to render, please try loading this page with nbviewer.org.</b></div><div class=\"sk-container\" hidden><div class=\"sk-item\"><div class=\"sk-estimator sk-toggleable\"><input class=\"sk-toggleable__control sk-hidden--visually\" id=\"sk-estimator-id-1\" type=\"checkbox\" checked><label for=\"sk-estimator-id-1\" class=\"sk-toggleable__label sk-toggleable__label-arrow\">LogisticRegression</label><div class=\"sk-toggleable__content\"><pre>LogisticRegression()</pre></div></div></div></div></div>"
            ],
            "text/plain": [
              "LogisticRegression()"
            ]
          },
          "execution_count": 37,
          "metadata": {},
          "output_type": "execute_result"
        }
      ],
      "source": [
        "linear_model_oh.fit(X_train_new, y_train)"
      ]
    },
    {
      "cell_type": "code",
      "execution_count": 38,
      "metadata": {
        "id": "WXQJ7o23Ugh7"
      },
      "outputs": [
        {
          "name": "stderr",
          "output_type": "stream",
          "text": [
            "c:\\Users\\Администратор.000\\AppData\\Local\\Programs\\Python\\Python310\\lib\\site-packages\\sklearn\\linear_model\\_logistic.py:458: ConvergenceWarning: lbfgs failed to converge (status=1):\n",
            "STOP: TOTAL NO. of ITERATIONS REACHED LIMIT.\n",
            "\n",
            "Increase the number of iterations (max_iter) or scale the data as shown in:\n",
            "    https://scikit-learn.org/stable/modules/preprocessing.html\n",
            "Please also refer to the documentation for alternative solver options:\n",
            "    https://scikit-learn.org/stable/modules/linear_model.html#logistic-regression\n",
            "  n_iter_i = _check_optimize_result(\n"
          ]
        },
        {
          "data": {
            "text/html": [
              "<style>#sk-container-id-2 {color: black;background-color: white;}#sk-container-id-2 pre{padding: 0;}#sk-container-id-2 div.sk-toggleable {background-color: white;}#sk-container-id-2 label.sk-toggleable__label {cursor: pointer;display: block;width: 100%;margin-bottom: 0;padding: 0.3em;box-sizing: border-box;text-align: center;}#sk-container-id-2 label.sk-toggleable__label-arrow:before {content: \"▸\";float: left;margin-right: 0.25em;color: #696969;}#sk-container-id-2 label.sk-toggleable__label-arrow:hover:before {color: black;}#sk-container-id-2 div.sk-estimator:hover label.sk-toggleable__label-arrow:before {color: black;}#sk-container-id-2 div.sk-toggleable__content {max-height: 0;max-width: 0;overflow: hidden;text-align: left;background-color: #f0f8ff;}#sk-container-id-2 div.sk-toggleable__content pre {margin: 0.2em;color: black;border-radius: 0.25em;background-color: #f0f8ff;}#sk-container-id-2 input.sk-toggleable__control:checked~div.sk-toggleable__content {max-height: 200px;max-width: 100%;overflow: auto;}#sk-container-id-2 input.sk-toggleable__control:checked~label.sk-toggleable__label-arrow:before {content: \"▾\";}#sk-container-id-2 div.sk-estimator input.sk-toggleable__control:checked~label.sk-toggleable__label {background-color: #d4ebff;}#sk-container-id-2 div.sk-label input.sk-toggleable__control:checked~label.sk-toggleable__label {background-color: #d4ebff;}#sk-container-id-2 input.sk-hidden--visually {border: 0;clip: rect(1px 1px 1px 1px);clip: rect(1px, 1px, 1px, 1px);height: 1px;margin: -1px;overflow: hidden;padding: 0;position: absolute;width: 1px;}#sk-container-id-2 div.sk-estimator {font-family: monospace;background-color: #f0f8ff;border: 1px dotted black;border-radius: 0.25em;box-sizing: border-box;margin-bottom: 0.5em;}#sk-container-id-2 div.sk-estimator:hover {background-color: #d4ebff;}#sk-container-id-2 div.sk-parallel-item::after {content: \"\";width: 100%;border-bottom: 1px solid gray;flex-grow: 1;}#sk-container-id-2 div.sk-label:hover label.sk-toggleable__label {background-color: #d4ebff;}#sk-container-id-2 div.sk-serial::before {content: \"\";position: absolute;border-left: 1px solid gray;box-sizing: border-box;top: 0;bottom: 0;left: 50%;z-index: 0;}#sk-container-id-2 div.sk-serial {display: flex;flex-direction: column;align-items: center;background-color: white;padding-right: 0.2em;padding-left: 0.2em;position: relative;}#sk-container-id-2 div.sk-item {position: relative;z-index: 1;}#sk-container-id-2 div.sk-parallel {display: flex;align-items: stretch;justify-content: center;background-color: white;position: relative;}#sk-container-id-2 div.sk-item::before, #sk-container-id-2 div.sk-parallel-item::before {content: \"\";position: absolute;border-left: 1px solid gray;box-sizing: border-box;top: 0;bottom: 0;left: 50%;z-index: -1;}#sk-container-id-2 div.sk-parallel-item {display: flex;flex-direction: column;z-index: 1;position: relative;background-color: white;}#sk-container-id-2 div.sk-parallel-item:first-child::after {align-self: flex-end;width: 50%;}#sk-container-id-2 div.sk-parallel-item:last-child::after {align-self: flex-start;width: 50%;}#sk-container-id-2 div.sk-parallel-item:only-child::after {width: 0;}#sk-container-id-2 div.sk-dashed-wrapped {border: 1px dashed gray;margin: 0 0.4em 0.5em 0.4em;box-sizing: border-box;padding-bottom: 0.4em;background-color: white;}#sk-container-id-2 div.sk-label label {font-family: monospace;font-weight: bold;display: inline-block;line-height: 1.2em;}#sk-container-id-2 div.sk-label-container {text-align: center;}#sk-container-id-2 div.sk-container {/* jupyter's `normalize.less` sets `[hidden] { display: none; }` but bootstrap.min.css set `[hidden] { display: none !important; }` so we also need the `!important` here to be able to override the default hidden behavior on the sphinx rendered scikit-learn.org. See: https://github.com/scikit-learn/scikit-learn/issues/21755 */display: inline-block !important;position: relative;}#sk-container-id-2 div.sk-text-repr-fallback {display: none;}</style><div id=\"sk-container-id-2\" class=\"sk-top-container\"><div class=\"sk-text-repr-fallback\"><pre>LogisticRegression()</pre><b>In a Jupyter environment, please rerun this cell to show the HTML representation or trust the notebook. <br />On GitHub, the HTML representation is unable to render, please try loading this page with nbviewer.org.</b></div><div class=\"sk-container\" hidden><div class=\"sk-item\"><div class=\"sk-estimator sk-toggleable\"><input class=\"sk-toggleable__control sk-hidden--visually\" id=\"sk-estimator-id-2\" type=\"checkbox\" checked><label for=\"sk-estimator-id-2\" class=\"sk-toggleable__label sk-toggleable__label-arrow\">LogisticRegression</label><div class=\"sk-toggleable__content\"><pre>LogisticRegression()</pre></div></div></div></div></div>"
            ],
            "text/plain": [
              "LogisticRegression()"
            ]
          },
          "execution_count": 38,
          "metadata": {},
          "output_type": "execute_result"
        }
      ],
      "source": [
        "linear_model.fit(X_train_le, y_train)"
      ]
    },
    {
      "cell_type": "markdown",
      "metadata": {
        "id": "IE8LyQyaSY6R"
      },
      "source": [
        "# Валидация модели на тестовой выборке"
      ]
    },
    {
      "cell_type": "code",
      "execution_count": 39,
      "metadata": {
        "id": "g_s_yA_iSMT9"
      },
      "outputs": [],
      "source": [
        "prediction_oh = linear_model_oh.predict(X_test_new)"
      ]
    },
    {
      "cell_type": "code",
      "execution_count": 40,
      "metadata": {
        "colab": {
          "base_uri": "https://localhost:8080/"
        },
        "id": "ZyydK4D-6S8C",
        "outputId": "014bd325-7d0a-4538-9006-d3134c03440b"
      },
      "outputs": [
        {
          "data": {
            "text/plain": [
              "array([0, 1], dtype=int64)"
            ]
          },
          "execution_count": 40,
          "metadata": {},
          "output_type": "execute_result"
        }
      ],
      "source": [
        "np.unique(prediction_oh)"
      ]
    },
    {
      "cell_type": "code",
      "execution_count": 41,
      "metadata": {
        "id": "bJ2NC-gm5u57"
      },
      "outputs": [
        {
          "data": {
            "text/plain": [
              "0.18965729025918193"
            ]
          },
          "execution_count": 41,
          "metadata": {},
          "output_type": "execute_result"
        }
      ],
      "source": [
        "# Сколько 1го класса присутсвует в предсказаниях?\n",
        "sum(prediction_oh) / len(prediction_oh)"
      ]
    },
    {
      "cell_type": "code",
      "execution_count": 42,
      "metadata": {
        "id": "HEcz8YET6bDN"
      },
      "outputs": [
        {
          "data": {
            "text/plain": [
              "0.23670310772632355"
            ]
          },
          "execution_count": 42,
          "metadata": {},
          "output_type": "execute_result"
        }
      ],
      "source": [
        "# Сколько 1го класса присутсвует в y_test?\n",
        "sum(y_test) / len(y_test)"
      ]
    },
    {
      "cell_type": "markdown",
      "metadata": {
        "id": "eO701_X2TW-o"
      },
      "source": [
        "## Точность предсказания"
      ]
    },
    {
      "cell_type": "markdown",
      "metadata": {
        "id": "204llIBtTb9R"
      },
      "source": [
        "Посчитаем точность (**accuracy**) работы моделей. Напомним, что точность отражает, сколько в процентном соотношении от размера тестовой выборки модель угадала 1 и сколько угадала 0.\n",
        "\n",
        "Функция для подсчета точности реализована в библиотеке **sklearn** и называется `accuracy_score()`."
      ]
    },
    {
      "cell_type": "code",
      "execution_count": 43,
      "metadata": {
        "id": "3FAqJoLYTTjP"
      },
      "outputs": [],
      "source": [
        "from sklearn.metrics import accuracy_score"
      ]
    },
    {
      "cell_type": "code",
      "execution_count": 47,
      "metadata": {
        "id": "OXZHjRjXRfHz"
      },
      "outputs": [
        {
          "data": {
            "text/plain": [
              "0.847561724603857"
            ]
          },
          "execution_count": 47,
          "metadata": {},
          "output_type": "execute_result"
        }
      ],
      "source": [
        "acc_oh = accuracy_score(y_test, prediction_oh)\n",
        "acc_oh"
      ]
    },
    {
      "cell_type": "code",
      "execution_count": 45,
      "metadata": {
        "id": "_95B4ilE9XBE"
      },
      "outputs": [],
      "source": [
        "experiment.log_metric('Accuracy OneHot data', acc_oh)"
      ]
    },
    {
      "cell_type": "markdown",
      "metadata": {
        "id": "Ns5mvVBVTz_2"
      },
      "source": [
        "Сравним значения точности для наших моделей с точностью для константного классификатора, модели, которая всегда бы предсказывала больший класс, в нашем случае 0. Для этого можно в функцию `accuracy_score()` в качестве второго аргумента передать массив нулей такого же размера. Это делается с помощью функции `zeros_like()` из библиотеки **numpy**."
      ]
    },
    {
      "cell_type": "code",
      "execution_count": 46,
      "metadata": {
        "colab": {
          "base_uri": "https://localhost:8080/"
        },
        "id": "vQs7EPs1Uup0",
        "outputId": "db2ee800-6b27-4b15-8ae7-ab2b4f432e24"
      },
      "outputs": [
        {
          "name": "stdout",
          "output_type": "stream",
          "text": [
            "Accuracy Major Class:  0.763\n"
          ]
        }
      ],
      "source": [
        "print('Accuracy Major Class: ', accuracy_score(y_test, np.zeros_like(y_test)).round(3))"
      ]
    },
    {
      "cell_type": "code",
      "execution_count": 48,
      "metadata": {
        "id": "w9oRl584-HeP"
      },
      "outputs": [
        {
          "data": {
            "text/plain": [
              "0.804692298243459"
            ]
          },
          "execution_count": 48,
          "metadata": {},
          "output_type": "execute_result"
        }
      ],
      "source": [
        "# Залогировать accuracy для LE\n",
        "prediction_le = linear_model.predict(X_test_le)\n",
        "acc_le = accuracy_score(y_test, prediction_le)\n",
        "experiment.log_metric('Accuracy LE data', acc_le)\n",
        "acc_le"
      ]
    },
    {
      "cell_type": "markdown",
      "metadata": {
        "id": "9JpN8tQ4XOfv"
      },
      "source": [
        "## Таблица сопряженности модели классификации"
      ]
    },
    {
      "cell_type": "markdown",
      "metadata": {
        "id": "8hlfckZvXf_I"
      },
      "source": [
        "Другой способ оценивать качество работы классификатора - использовать таблицу сопряженности. \n",
        "\n",
        "\n",
        "|                   |  Предсказано `0` |  Предсказано `1` |\n",
        "|:-------------------|:------------------|:------------------|\n",
        "|**Фактически** `0`  |       TN         |       FP         |\n",
        "|**Фактически** `1`  |       FN         |       TP         | \n"
      ]
    },
    {
      "cell_type": "code",
      "execution_count": 49,
      "metadata": {
        "id": "KXYf4rOQU6k1"
      },
      "outputs": [],
      "source": [
        "from sklearn.metrics import confusion_matrix"
      ]
    },
    {
      "cell_type": "code",
      "execution_count": 50,
      "metadata": {
        "colab": {
          "base_uri": "https://localhost:8080/",
          "height": 111
        },
        "id": "ktRjQAmNZHPB",
        "outputId": "1b36f6d2-c728-47c9-e804-226384f82f28"
      },
      "outputs": [
        {
          "data": {
            "text/html": [
              "<div>\n",
              "<style scoped>\n",
              "    .dataframe tbody tr th:only-of-type {\n",
              "        vertical-align: middle;\n",
              "    }\n",
              "\n",
              "    .dataframe tbody tr th {\n",
              "        vertical-align: top;\n",
              "    }\n",
              "\n",
              "    .dataframe thead th {\n",
              "        text-align: right;\n",
              "    }\n",
              "</style>\n",
              "<table border=\"1\" class=\"dataframe\">\n",
              "  <thead>\n",
              "    <tr style=\"text-align: right;\">\n",
              "      <th></th>\n",
              "      <th>0</th>\n",
              "      <th>1</th>\n",
              "    </tr>\n",
              "  </thead>\n",
              "  <tbody>\n",
              "    <tr>\n",
              "      <th>0</th>\n",
              "      <td>5785</td>\n",
              "      <td>429</td>\n",
              "    </tr>\n",
              "    <tr>\n",
              "      <th>1</th>\n",
              "      <td>812</td>\n",
              "      <td>1115</td>\n",
              "    </tr>\n",
              "  </tbody>\n",
              "</table>\n",
              "</div>"
            ],
            "text/plain": [
              "      0     1\n",
              "0  5785   429\n",
              "1   812  1115"
            ]
          },
          "execution_count": 50,
          "metadata": {},
          "output_type": "execute_result"
        }
      ],
      "source": [
        "pd.DataFrame(confusion_matrix(y_test, prediction_oh))"
      ]
    },
    {
      "cell_type": "code",
      "execution_count": 51,
      "metadata": {
        "colab": {
          "base_uri": "https://localhost:8080/"
        },
        "id": "1Zpr32q2-P6l",
        "outputId": "fa934553-7389-4b57-d2fa-d1342e304248"
      },
      "outputs": [
        {
          "data": {
            "text/plain": [
              "{'web': 'https://www.comet.com/api/asset/download?assetId=f0e7e976b0124cf68e78bb3211a3b129&experimentKey=93b09798f2d74e1c8efcd4ef0891a52b',\n",
              " 'api': 'https://www.comet.com/api/rest/v2/experiment/asset/get-asset?assetId=f0e7e976b0124cf68e78bb3211a3b129&experimentKey=93b09798f2d74e1c8efcd4ef0891a52b',\n",
              " 'assetId': 'f0e7e976b0124cf68e78bb3211a3b129'}"
            ]
          },
          "execution_count": 51,
          "metadata": {},
          "output_type": "execute_result"
        }
      ],
      "source": [
        "experiment.log_confusion_matrix(y_test, prediction_oh)"
      ]
    },
    {
      "cell_type": "markdown",
      "metadata": {
        "id": "UXURuE8eZ_4w"
      },
      "source": [
        "## Прогноз вероятности принадлежности к классу"
      ]
    },
    {
      "cell_type": "code",
      "execution_count": 52,
      "metadata": {
        "id": "msz9z8MuZp0Z"
      },
      "outputs": [],
      "source": [
        "pred_proba_oh = linear_model_oh.predict_proba(X_test_new)"
      ]
    },
    {
      "cell_type": "code",
      "execution_count": 53,
      "metadata": {
        "colab": {
          "base_uri": "https://localhost:8080/"
        },
        "id": "RWHzhNPzaba1",
        "outputId": "296007ec-7c8c-4367-d87a-09d4301d684c"
      },
      "outputs": [
        {
          "data": {
            "text/plain": [
              "array([[0.93208665, 0.06791335],\n",
              "       [0.43217923, 0.56782077],\n",
              "       [0.29615786, 0.70384214],\n",
              "       ...,\n",
              "       [0.99161021, 0.00838979],\n",
              "       [0.41063417, 0.58936583],\n",
              "       [0.71666363, 0.28333637]])"
            ]
          },
          "execution_count": 53,
          "metadata": {},
          "output_type": "execute_result"
        }
      ],
      "source": [
        "# Как выглядят предсказания?\n",
        "pred_proba_oh"
      ]
    },
    {
      "cell_type": "code",
      "execution_count": 54,
      "metadata": {
        "id": "ULsBdslqakeP"
      },
      "outputs": [],
      "source": [
        "pred_proba = pred_proba_oh[:, 1]"
      ]
    },
    {
      "cell_type": "markdown",
      "metadata": {
        "id": "roEuvcTLbOuG"
      },
      "source": [
        "Посмотрим на распределение предсказанной классификатором вероятности дохода > 50к, метки `1`."
      ]
    },
    {
      "cell_type": "code",
      "execution_count": 55,
      "metadata": {
        "colab": {
          "base_uri": "https://localhost:8080/",
          "height": 394
        },
        "id": "l1XzSPaHayiK",
        "outputId": "1a0d9d86-7413-4f62-97a7-2423d8e8ee67"
      },
      "outputs": [
        {
          "data": {
            "text/plain": [
              "{'web': 'https://www.comet.com/api/image/download?imageId=130e26ccfd24465f96afff5ac47712d2&experimentKey=93b09798f2d74e1c8efcd4ef0891a52b',\n",
              " 'api': 'https://www.comet.com/api/rest/v1/image/get-image?imageId=130e26ccfd24465f96afff5ac47712d2&experimentKey=93b09798f2d74e1c8efcd4ef0891a52b',\n",
              " 'imageId': '130e26ccfd24465f96afff5ac47712d2'}"
            ]
          },
          "execution_count": 55,
          "metadata": {},
          "output_type": "execute_result"
        },
        {
          "data": {
            "image/png": "[encoded data removed]",
            "text/plain": [
              "<Figure size 576x360 with 1 Axes>"
            ]
          },
          "metadata": {
            "needs_background": "light"
          },
          "output_type": "display_data"
        }
      ],
      "source": [
        "plt.figure(figsize=(8, 5))\n",
        "\n",
        "plt.hist(pred_proba, bins=100)\n",
        "plt.vlines(0.5, 0, 2500)\n",
        "\n",
        "plt.xlabel('Предсказанная вероятность дохода', fontsize=20)\n",
        "plt.ylabel('Количество людей', fontsize=20)\n",
        "\n",
        "experiment.log_figure('predicted_income_probability', plt)"
      ]
    },
    {
      "cell_type": "markdown",
      "metadata": {
        "id": "dMlru_uFe9i_"
      },
      "source": [
        "##ROC кривая классификатора"
      ]
    },
    {
      "cell_type": "markdown",
      "metadata": {
        "id": "J8zHp4upfGlz"
      },
      "source": [
        "Если хотят сравнить метрики на разных наборах данных, обычно работают не с абсолютными значениями True Positive и False Positive, а с их долями:\n",
        "\n",
        "* Доля ложноположительных срабатываний $\\text{FPR} = \\frac{FP}{FP + TN}$;\n",
        "* Доля истинно положительных срабатываний $\\text{TPR} = \\frac{TP}{TP + FN}$.\n",
        "\n",
        "Заметим, что $FP + TN$ дает общее число объектов класса $0$, а $TP + FN$ - общее число объектов класса $1$. \n",
        "\n",
        "Одной из самых популярных метрик для задачи классификации является ROC кривая. ROC расшифровывается как *Receiver Operating Characteristic*. Эта кривая наглядно показывает зависимость доли истинно позитивных срабатываний (**TPR**) от доли ложно позитивных срабатываний (**FPR**) при изменении порога классификации.\n",
        "\n",
        "Функция `roc_curve()` из **scikit-learn** позволяет получить координаты точек ROC кривой, а также значения порога `threshold`, при котором достигается соответствующие значения метрик **FPR** и **TPR**.\n",
        "\n",
        "На вход функции `roc_curve()` необходимо передать два аргумента:\n",
        "* истинные значения меток\n",
        "* вероятности, предсказанные моделью"
      ]
    },
    {
      "cell_type": "code",
      "execution_count": 56,
      "metadata": {
        "id": "j9uo_bbTgBFU"
      },
      "outputs": [],
      "source": [
        "from sklearn.metrics import roc_curve"
      ]
    },
    {
      "cell_type": "code",
      "execution_count": 57,
      "metadata": {
        "id": "aFwgrdhceMG1"
      },
      "outputs": [],
      "source": [
        "false_positive_rates, true_positive_rates, threshold = roc_curve(y_test, pred_proba)"
      ]
    },
    {
      "cell_type": "code",
      "execution_count": 58,
      "metadata": {
        "colab": {
          "base_uri": "https://localhost:8080/",
          "height": 458
        },
        "id": "goIIu9FDf-Eq",
        "outputId": "260c51aa-10b7-4b3d-de33-b1aac8e4f698"
      },
      "outputs": [
        {
          "data": {
            "image/png": "[encoded data removed]",
            "text/plain": [
              "<Figure size 504x504 with 1 Axes>"
            ]
          },
          "metadata": {
            "needs_background": "light"
          },
          "output_type": "display_data"
        }
      ],
      "source": [
        "# создаём график\n",
        "plt.figure(figsize=(7, 7))\n",
        "\n",
        "# рисуем кривую\n",
        "plt.plot(false_positive_rates, true_positive_rates, \n",
        "         label='Сглаженные значения ROC-AUC')\n",
        "\n",
        "# кривая, соответствующая случайному угадыванию\n",
        "plt.plot([0, 1], [0, 1], color='k', lw=2, linestyle=':', \n",
        "         label='Модель, выдающая случайное значение')\n",
        "\n",
        "plt.title('ROC curve')\n",
        "plt.xlabel('False Positive Rate')\n",
        "plt.ylabel('True Positive Rate')\n",
        "\n",
        "plt.fill_between(false_positive_rates, true_positive_rates, step=\"pre\", \n",
        "                 alpha=0.4, label='Площадь под кривой (ROC-AUC)')\n",
        "plt.legend()\n",
        "plt.show()"
      ]
    },
    {
      "cell_type": "code",
      "execution_count": 59,
      "metadata": {
        "id": "gzYZV6h1gHiJ"
      },
      "outputs": [],
      "source": [
        "from sklearn.metrics import roc_auc_score"
      ]
    },
    {
      "cell_type": "code",
      "execution_count": 60,
      "metadata": {
        "id": "IIeLiGK9D9t-"
      },
      "outputs": [],
      "source": [
        "roc_auc = roc_auc_score(y_test, pred_proba).round(3)"
      ]
    },
    {
      "cell_type": "code",
      "execution_count": 61,
      "metadata": {
        "colab": {
          "base_uri": "https://localhost:8080/"
        },
        "id": "yYaJaN5YgotD",
        "outputId": "0ac17af0-7840-4134-c606-8d22deedf8df"
      },
      "outputs": [
        {
          "name": "stdout",
          "output_type": "stream",
          "text": [
            "ROC-AUC на тестовой выборке: 0.89\n"
          ]
        }
      ],
      "source": [
        "print(\"ROC-AUC на тестовой выборке:\", roc_auc_score(y_test, pred_proba).round(3)) "
      ]
    },
    {
      "cell_type": "code",
      "execution_count": 62,
      "metadata": {
        "id": "4xcAeGf4ECoA"
      },
      "outputs": [],
      "source": [
        "experiment.log_metric('roc_auc OneHot data', roc_auc)"
      ]
    },
    {
      "cell_type": "code",
      "execution_count": 63,
      "metadata": {
        "id": "eYL-QL9oZwLU"
      },
      "outputs": [],
      "source": [
        "pred_proba_le = linear_model.predict_proba(X_test_le)"
      ]
    },
    {
      "cell_type": "code",
      "execution_count": 64,
      "metadata": {
        "id": "YYoQjL8FZ39v"
      },
      "outputs": [],
      "source": [
        "pred_proba = pred_proba_le[:, 1]"
      ]
    },
    {
      "cell_type": "code",
      "execution_count": 65,
      "metadata": {
        "id": "QxzmUe_GaAER"
      },
      "outputs": [
        {
          "data": {
            "text/plain": [
              "0.785"
            ]
          },
          "execution_count": 65,
          "metadata": {},
          "output_type": "execute_result"
        }
      ],
      "source": [
        "roc_auc = roc_auc_score(y_test, pred_proba).round(3)\n",
        "roc_auc"
      ]
    },
    {
      "cell_type": "code",
      "execution_count": null,
      "metadata": {},
      "outputs": [],
      "source": [
        "experiment.log_metric('roc_auc LE data', roc_auc)"
      ]
    }
  ],
  "metadata": {
    "accelerator": "GPU",
    "colab": {
      "collapsed_sections": [],
      "name": "Предсказание_дохода.ipynb",
      "provenance": []
    },
    "kernelspec": {
      "display_name": "Python 3",
      "name": "python3"
    },
    "language_info": {
      "codemirror_mode": {
        "name": "ipython",
        "version": 3
      },
      "file_extension": ".py",
      "mimetype": "text/x-python",
      "name": "python",
      "nbconvert_exporter": "python",
      "pygments_lexer": "ipython3",
      "version": "3.10.4"
    }
  },
  "nbformat": 4,
  "nbformat_minor": 0
}
