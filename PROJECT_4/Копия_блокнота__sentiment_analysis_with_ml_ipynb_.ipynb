{
  "metadata": {
    "kernelspec": {
      "language": "python",
      "display_name": "Python 3",
      "name": "python3"
    },
    "language_info": {
      "name": "python",
      "version": "3.6.6",
      "mimetype": "text/x-python",
      "codemirror_mode": {
        "name": "ipython",
        "version": 3
      },
      "pygments_lexer": "ipython3",
      "nbconvert_exporter": "python",
      "file_extension": ".py"
    },
    "colab": {
      "provenance": [],
      "toc_visible": true
    }
  },
  "nbformat_minor": 0,
  "nbformat": 4,
  "cells": [
    {
      "cell_type": "markdown",
      "source": [
        "# [SF-DST] Booking reviews"
      ],
      "metadata": {
        "_cell_guid": "79c7e3d0-c299-4dcb-8224-4455121ee9b0",
        "_uuid": "d629ff2d2480ee46fbb7e2d37f6b5fab8052498a",
        "id": "CoRuqYueQ_Is"
      }
    },
    {
      "cell_type": "markdown",
      "source": [
        "<div align='center'><img src=\"https://elteha.ru/images/some_photo/hotel_book.jpg\" width=\"1200px\"></div>"
      ],
      "metadata": {
        "id": "Oo6Cy8V1Q_Ix"
      }
    },
    {
      "cell_type": "markdown",
      "source": [
        "### Описание:\n",
        "Представьте, что вы работаете датасаентистом в компании Booking. Одна из проблем компании — это нечестные отели, которые накручивают себе рейтинг. Одним из способов нахождения таких отелей является построение модели, которая предсказывает рейтинг отеля. Если предсказания модели сильно отличаются от фактического результата, то, возможно, отель играет нечестно, и его стоит проверить. Вам поставлена задача создать такую модель."
      ],
      "metadata": {
        "id": "wpO7iXSWQ_Ix"
      }
    },
    {
      "cell_type": "code",
      "source": [],
      "metadata": {
        "id": "_CBpT3zrQjzW"
      },
      "execution_count": null,
      "outputs": []
    },
    {
      "cell_type": "markdown",
      "source": [
        "### Условия соревнования:\n",
        "Данное соревнование является бессрочным и доступно для всех потоков.\n",
        "Срок выполнения соревнования устанавливается индивидуально в каждом потоке.\n",
        "Тестовая выборка представлена в LeaderBoard целиком.\n",
        "Делаем реальный ML продукт, который потом сможет нормально работать на новых данных."
      ],
      "metadata": {
        "id": "7VALC7kIQ_Iy"
      }
    },
    {
      "cell_type": "markdown",
      "source": [
        "# Подготовка рабочего пространства"
      ],
      "metadata": {
        "id": "wl8H6_I6Q_Iz"
      }
    },
    {
      "cell_type": "code",
      "source": [
        "import pandas as pd\n",
        "import numpy as np\n",
        "\n",
        "DATA_DIR = '/content/'\n",
        "df_train = pd.read_csv(DATA_DIR+'hotels_train.csv')               # датасет для обучения\n",
        "df_test = pd.read_csv(DATA_DIR+'hotels_test.csv')                 # датасет для предсказания\n",
        "#sample_submission = pd.read_csv(DATA_DIR+'/submission.csv')      # самбмишн"
      ],
      "metadata": {
        "_uuid": "cb56534fa07076079598d82a2e69848802148d70",
        "execution": {
          "iopub.status.busy": "2022-03-19T17:15:55.506802Z",
          "iopub.execute_input": "2022-03-19T17:15:55.507471Z",
          "iopub.status.idle": "2022-03-19T17:16:01.226201Z",
          "shell.execute_reply.started": "2022-03-19T17:15:55.507345Z",
          "shell.execute_reply": "2022-03-19T17:16:01.225300Z"
        },
        "trusted": true,
        "id": "M7TAvasDQ_I0"
      },
      "execution_count": null,
      "outputs": []
    },
    {
      "cell_type": "code",
      "source": [
        "df_train['sample'] = 1           # помечаем где у нас трейн\n",
        "df_test['sample'] = 0            # помечаем где у нас тест\n",
        "df_test['reviewer_score'] = 0    # в тесте у нас нет значения reviewer_score, мы его должны предсказать, поэтому пока просто заполняем нулями\n",
        "\n",
        "reviews_df = df_test.append(df_train, sort=False).reset_index(drop=True) # объединяем train"
      ],
      "metadata": {
        "execution": {
          "iopub.status.busy": "2022-03-19T17:16:01.228048Z",
          "iopub.execute_input": "2022-03-19T17:16:01.228335Z",
          "iopub.status.idle": "2022-03-19T17:16:01.796944Z",
          "shell.execute_reply.started": "2022-03-19T17:16:01.228304Z",
          "shell.execute_reply": "2022-03-19T17:16:01.796271Z"
        },
        "trusted": true,
        "id": "kG9gUDxNQ_I1"
      },
      "execution_count": null,
      "outputs": []
    },
    {
      "cell_type": "code",
      "source": [
        "reviews_df.info()"
      ],
      "metadata": {
        "execution": {
          "iopub.status.busy": "2022-03-19T17:16:01.798561Z",
          "iopub.execute_input": "2022-03-19T17:16:01.799178Z",
          "iopub.status.idle": "2022-03-19T17:16:02.288619Z",
          "shell.execute_reply.started": "2022-03-19T17:16:01.799133Z",
          "shell.execute_reply": "2022-03-19T17:16:02.287951Z"
        },
        "trusted": true,
        "colab": {
          "base_uri": "https://localhost:8080/"
        },
        "id": "fdShKBSZQ_I2",
        "outputId": "c51b5118-78e1-4416-a9a2-14e9b5b77ede"
      },
      "execution_count": null,
      "outputs": [
        {
          "output_type": "stream",
          "name": "stdout",
          "text": [
            "<class 'pandas.core.frame.DataFrame'>\n",
            "RangeIndex: 515738 entries, 0 to 515737\n",
            "Data columns (total 18 columns):\n",
            " #   Column                                      Non-Null Count   Dtype  \n",
            "---  ------                                      --------------   -----  \n",
            " 0   hotel_address                               515738 non-null  object \n",
            " 1   additional_number_of_scoring                515738 non-null  int64  \n",
            " 2   review_date                                 515738 non-null  object \n",
            " 3   average_score                               515738 non-null  float64\n",
            " 4   hotel_name                                  515738 non-null  object \n",
            " 5   reviewer_nationality                        515738 non-null  object \n",
            " 6   negative_review                             515738 non-null  object \n",
            " 7   review_total_negative_word_counts           515738 non-null  int64  \n",
            " 8   total_number_of_reviews                     515738 non-null  int64  \n",
            " 9   positive_review                             515738 non-null  object \n",
            " 10  review_total_positive_word_counts           515738 non-null  int64  \n",
            " 11  total_number_of_reviews_reviewer_has_given  515738 non-null  int64  \n",
            " 12  tags                                        515738 non-null  object \n",
            " 13  days_since_review                           515738 non-null  object \n",
            " 14  lat                                         512470 non-null  float64\n",
            " 15  lng                                         512470 non-null  float64\n",
            " 16  sample                                      515738 non-null  int64  \n",
            " 17  reviewer_score                              515738 non-null  float64\n",
            "dtypes: float64(4), int64(6), object(8)\n",
            "memory usage: 70.8+ MB\n"
          ]
        }
      ]
    },
    {
      "cell_type": "code",
      "source": [
        "# объединяем положительные и отрицательные отзывы\n",
        "reviews_df[\"review\"] = reviews_df[\"negative_review\"] + reviews_df[\"positive_review\"]\n",
        "\n",
        "# создаём метку для плохого отзыва (1 - True, 0 - False)\n",
        "reviews_df[\"is_bad_review\"] = reviews_df[\"reviewer_score\"].apply(lambda x: 1 if x < 5 else 0)\n",
        "\n",
        "# выбираем только релевантные столбцы\n",
        "reviews_df = reviews_df[[\"review\", \"is_bad_review\", \"reviewer_score\", \"sample\"]]\n",
        "reviews_df.head()"
      ],
      "metadata": {
        "execution": {
          "iopub.status.busy": "2022-03-19T17:16:02.289685Z",
          "iopub.execute_input": "2022-03-19T17:16:02.290115Z",
          "iopub.status.idle": "2022-03-19T17:16:03.090043Z",
          "shell.execute_reply.started": "2022-03-19T17:16:02.290075Z",
          "shell.execute_reply": "2022-03-19T17:16:03.089366Z"
        },
        "trusted": true,
        "colab": {
          "base_uri": "https://localhost:8080/",
          "height": 206
        },
        "id": "b2YL4ozBQ_I3",
        "outputId": "bb072438-dc9b-426d-c004-87c64ee1f523"
      },
      "execution_count": null,
      "outputs": [
        {
          "output_type": "execute_result",
          "data": {
            "text/plain": [
              "                                              review  is_bad_review  \\\n",
              "0   Would have appreciated a shop in the hotel th...              1   \n",
              "1   No tissue paper box was present at the roomNo...              1   \n",
              "2                Pillows  Nice welcoming and service              1   \n",
              "3  No Negative Everything including the nice upgr...              1   \n",
              "4        No Negative Lovely hotel v welcoming staff               1   \n",
              "\n",
              "   reviewer_score  sample  \n",
              "0             0.0       0  \n",
              "1             0.0       0  \n",
              "2             0.0       0  \n",
              "3             0.0       0  \n",
              "4             0.0       0  "
            ],
            "text/html": [
              "\n",
              "  <div id=\"df-433868e4-c977-4654-8663-76eb07977466\">\n",
              "    <div class=\"colab-df-container\">\n",
              "      <div>\n",
              "<style scoped>\n",
              "    .dataframe tbody tr th:only-of-type {\n",
              "        vertical-align: middle;\n",
              "    }\n",
              "\n",
              "    .dataframe tbody tr th {\n",
              "        vertical-align: top;\n",
              "    }\n",
              "\n",
              "    .dataframe thead th {\n",
              "        text-align: right;\n",
              "    }\n",
              "</style>\n",
              "<table border=\"1\" class=\"dataframe\">\n",
              "  <thead>\n",
              "    <tr style=\"text-align: right;\">\n",
              "      <th></th>\n",
              "      <th>review</th>\n",
              "      <th>is_bad_review</th>\n",
              "      <th>reviewer_score</th>\n",
              "      <th>sample</th>\n",
              "    </tr>\n",
              "  </thead>\n",
              "  <tbody>\n",
              "    <tr>\n",
              "      <th>0</th>\n",
              "      <td>Would have appreciated a shop in the hotel th...</td>\n",
              "      <td>1</td>\n",
              "      <td>0.0</td>\n",
              "      <td>0</td>\n",
              "    </tr>\n",
              "    <tr>\n",
              "      <th>1</th>\n",
              "      <td>No tissue paper box was present at the roomNo...</td>\n",
              "      <td>1</td>\n",
              "      <td>0.0</td>\n",
              "      <td>0</td>\n",
              "    </tr>\n",
              "    <tr>\n",
              "      <th>2</th>\n",
              "      <td>Pillows  Nice welcoming and service</td>\n",
              "      <td>1</td>\n",
              "      <td>0.0</td>\n",
              "      <td>0</td>\n",
              "    </tr>\n",
              "    <tr>\n",
              "      <th>3</th>\n",
              "      <td>No Negative Everything including the nice upgr...</td>\n",
              "      <td>1</td>\n",
              "      <td>0.0</td>\n",
              "      <td>0</td>\n",
              "    </tr>\n",
              "    <tr>\n",
              "      <th>4</th>\n",
              "      <td>No Negative Lovely hotel v welcoming staff</td>\n",
              "      <td>1</td>\n",
              "      <td>0.0</td>\n",
              "      <td>0</td>\n",
              "    </tr>\n",
              "  </tbody>\n",
              "</table>\n",
              "</div>\n",
              "      <button class=\"colab-df-convert\" onclick=\"convertToInteractive('df-433868e4-c977-4654-8663-76eb07977466')\"\n",
              "              title=\"Convert this dataframe to an interactive table.\"\n",
              "              style=\"display:none;\">\n",
              "        \n",
              "  <svg xmlns=\"http://www.w3.org/2000/svg\" height=\"24px\"viewBox=\"0 0 24 24\"\n",
              "       width=\"24px\">\n",
              "    <path d=\"M0 0h24v24H0V0z\" fill=\"none\"/>\n",
              "    <path d=\"M18.56 5.44l.94 2.06.94-2.06 2.06-.94-2.06-.94-.94-2.06-.94 2.06-2.06.94zm-11 1L8.5 8.5l.94-2.06 2.06-.94-2.06-.94L8.5 2.5l-.94 2.06-2.06.94zm10 10l.94 2.06.94-2.06 2.06-.94-2.06-.94-.94-2.06-.94 2.06-2.06.94z\"/><path d=\"M17.41 7.96l-1.37-1.37c-.4-.4-.92-.59-1.43-.59-.52 0-1.04.2-1.43.59L10.3 9.45l-7.72 7.72c-.78.78-.78 2.05 0 2.83L4 21.41c.39.39.9.59 1.41.59.51 0 1.02-.2 1.41-.59l7.78-7.78 2.81-2.81c.8-.78.8-2.07 0-2.86zM5.41 20L4 18.59l7.72-7.72 1.47 1.35L5.41 20z\"/>\n",
              "  </svg>\n",
              "      </button>\n",
              "      \n",
              "  <style>\n",
              "    .colab-df-container {\n",
              "      display:flex;\n",
              "      flex-wrap:wrap;\n",
              "      gap: 12px;\n",
              "    }\n",
              "\n",
              "    .colab-df-convert {\n",
              "      background-color: #E8F0FE;\n",
              "      border: none;\n",
              "      border-radius: 50%;\n",
              "      cursor: pointer;\n",
              "      display: none;\n",
              "      fill: #1967D2;\n",
              "      height: 32px;\n",
              "      padding: 0 0 0 0;\n",
              "      width: 32px;\n",
              "    }\n",
              "\n",
              "    .colab-df-convert:hover {\n",
              "      background-color: #E2EBFA;\n",
              "      box-shadow: 0px 1px 2px rgba(60, 64, 67, 0.3), 0px 1px 3px 1px rgba(60, 64, 67, 0.15);\n",
              "      fill: #174EA6;\n",
              "    }\n",
              "\n",
              "    [theme=dark] .colab-df-convert {\n",
              "      background-color: #3B4455;\n",
              "      fill: #D2E3FC;\n",
              "    }\n",
              "\n",
              "    [theme=dark] .colab-df-convert:hover {\n",
              "      background-color: #434B5C;\n",
              "      box-shadow: 0px 1px 3px 1px rgba(0, 0, 0, 0.15);\n",
              "      filter: drop-shadow(0px 1px 2px rgba(0, 0, 0, 0.3));\n",
              "      fill: #FFFFFF;\n",
              "    }\n",
              "  </style>\n",
              "\n",
              "      <script>\n",
              "        const buttonEl =\n",
              "          document.querySelector('#df-433868e4-c977-4654-8663-76eb07977466 button.colab-df-convert');\n",
              "        buttonEl.style.display =\n",
              "          google.colab.kernel.accessAllowed ? 'block' : 'none';\n",
              "\n",
              "        async function convertToInteractive(key) {\n",
              "          const element = document.querySelector('#df-433868e4-c977-4654-8663-76eb07977466');\n",
              "          const dataTable =\n",
              "            await google.colab.kernel.invokeFunction('convertToInteractive',\n",
              "                                                     [key], {});\n",
              "          if (!dataTable) return;\n",
              "\n",
              "          const docLinkHtml = 'Like what you see? Visit the ' +\n",
              "            '<a target=\"_blank\" href=https://colab.research.google.com/notebooks/data_table.ipynb>data table notebook</a>'\n",
              "            + ' to learn more about interactive tables.';\n",
              "          element.innerHTML = '';\n",
              "          dataTable['output_type'] = 'display_data';\n",
              "          await google.colab.output.renderOutput(dataTable, element);\n",
              "          const docLink = document.createElement('div');\n",
              "          docLink.innerHTML = docLinkHtml;\n",
              "          element.appendChild(docLink);\n",
              "        }\n",
              "      </script>\n",
              "    </div>\n",
              "  </div>\n",
              "  "
            ]
          },
          "metadata": {},
          "execution_count": 32
        }
      ]
    },
    {
      "cell_type": "markdown",
      "source": [
        "# Sample данные"
      ],
      "metadata": {
        "_uuid": "137871905d305dae06cbc7c9f263b3ac3a6b85b7",
        "id": "vIhZVeyZQ_I4"
      }
    },
    {
      "cell_type": "code",
      "source": [
        "reviews_df = reviews_df.sample(frac = 0.1, replace = False, random_state=42)"
      ],
      "metadata": {
        "_uuid": "a4f04ca1ef2a8b8b98bdbba2a3563b776a583964",
        "execution": {
          "iopub.status.busy": "2022-03-19T17:16:03.092064Z",
          "iopub.execute_input": "2022-03-19T17:16:03.092475Z",
          "iopub.status.idle": "2022-03-19T17:16:03.129784Z",
          "shell.execute_reply.started": "2022-03-19T17:16:03.092430Z",
          "shell.execute_reply": "2022-03-19T17:16:03.128831Z"
        },
        "trusted": true,
        "id": "M1OuqZFyQ_I4"
      },
      "execution_count": null,
      "outputs": []
    },
    {
      "cell_type": "markdown",
      "source": [
        "# Очистка данных"
      ],
      "metadata": {
        "_uuid": "0f2061b96461095869fe3cbd19ae10ca9c651482",
        "id": "jaImPsvtQ_I5"
      }
    },
    {
      "cell_type": "code",
      "source": [
        "# удалим 'No Negative' или 'No Positive' из текста\n",
        "reviews_df[\"review\"] = reviews_df[\"review\"].apply(lambda x: x.replace(\"No Negative\", \"\").replace(\"No Positive\", \"\"))"
      ],
      "metadata": {
        "_uuid": "005e87154e11f530b58c56cac9f555c82493b906",
        "execution": {
          "iopub.status.busy": "2022-03-19T17:16:03.131212Z",
          "iopub.execute_input": "2022-03-19T17:16:03.131931Z",
          "iopub.status.idle": "2022-03-19T17:16:03.210358Z",
          "shell.execute_reply.started": "2022-03-19T17:16:03.131892Z",
          "shell.execute_reply": "2022-03-19T17:16:03.209495Z"
        },
        "trusted": true,
        "id": "JzHvQc0LQ_I5"
      },
      "execution_count": null,
      "outputs": []
    },
    {
      "cell_type": "code",
      "source": [
        "# https://webdevblog.ru/podhody-lemmatizacii-s-primerami-v-python/\n",
        "# использование wordnet для анализа частей речи\n",
        "\n",
        "import nltk\n",
        "from nltk.corpus import wordnet\n",
        "nltk.download('averaged_perceptron_tagger')\n",
        "nltk.download('wordnet')\n",
        "nltk.download('stopwords')\n",
        "\n",
        "def get_wordnet_pos(pos_tag):\n",
        "    if pos_tag.startswith('J'):\n",
        "        return wordnet.ADJ\n",
        "    elif pos_tag.startswith('V'):\n",
        "        return wordnet.VERB\n",
        "    elif pos_tag.startswith('N'):\n",
        "        return wordnet.NOUN\n",
        "    elif pos_tag.startswith('R'):\n",
        "        return wordnet.ADV\n",
        "    else:\n",
        "        return wordnet.NOUN\n",
        "\n",
        "import string\n",
        "from nltk import pos_tag\n",
        "from nltk.corpus import stopwords\n",
        "from nltk.tokenize import WhitespaceTokenizer\n",
        "from nltk.stem import WordNetLemmatizer\n",
        "\n",
        "\n",
        "def clean_text(text):\n",
        "    # приводим к нижнему регистру\n",
        "    text = text.lower()\n",
        "    # разделение текста на слова и удаление знаков препинания\n",
        "    text = [word.strip(string.punctuation) for word in text.split(\" \")]\n",
        "    # удаляем цифры из текста\n",
        "    text = [word for word in text if not any(c.isdigit() for c in word)]\n",
        "    # удаляем стоп-слова\n",
        "    stop = stopwords.words('english')\n",
        "    text = [x for x in text if x not in stop]\n",
        "    # удаляем пустые токены\n",
        "    text = [t for t in text if len(t) > 0]\n",
        "    # pos tag text\n",
        "    pos_tags = pos_tag(text)\n",
        "    # лемматизация текста\n",
        "    text = [WordNetLemmatizer().lemmatize(t[0], get_wordnet_pos(t[1])) for t in pos_tags]\n",
        "    # удаляем слова из одной буквы\n",
        "    text = [t for t in text if len(t) > 1]\n",
        "    # объединяем текст\n",
        "    text = \" \".join(text)\n",
        "    return(text)\n",
        "\n",
        "# очистка текстовых данных\n",
        "reviews_df[\"review_clean\"] = reviews_df[\"review\"].apply(lambda x: clean_text(x))"
      ],
      "metadata": {
        "_uuid": "2d51a84a81d55c527dbd56b42201f5df3d444ce5",
        "execution": {
          "iopub.status.busy": "2022-03-19T17:16:03.211874Z",
          "iopub.execute_input": "2022-03-19T17:16:03.212139Z",
          "iopub.status.idle": "2022-03-19T17:17:47.098132Z",
          "shell.execute_reply.started": "2022-03-19T17:16:03.212110Z",
          "shell.execute_reply": "2022-03-19T17:17:47.097253Z"
        },
        "trusted": true,
        "colab": {
          "base_uri": "https://localhost:8080/"
        },
        "id": "sq_c6uK0Q_I6",
        "outputId": "d3c23666-3538-40c5-8066-395ebc2b5e68"
      },
      "execution_count": null,
      "outputs": [
        {
          "output_type": "stream",
          "name": "stdout",
          "text": [
            "[nltk_data] Downloading package averaged_perceptron_tagger to\n",
            "[nltk_data]     /root/nltk_data...\n",
            "[nltk_data]   Package averaged_perceptron_tagger is already up-to-\n",
            "[nltk_data]       date!\n",
            "[nltk_data] Downloading package wordnet to /root/nltk_data...\n",
            "[nltk_data]   Package wordnet is already up-to-date!\n",
            "[nltk_data] Downloading package stopwords to /root/nltk_data...\n",
            "[nltk_data]   Package stopwords is already up-to-date!\n"
          ]
        }
      ]
    },
    {
      "cell_type": "markdown",
      "source": [
        "# Создание новых признаков"
      ],
      "metadata": {
        "_uuid": "79ed7c7647f7868d74bb5b3267a77914539dd61d",
        "id": "CXnucsaqQ_I7"
      }
    },
    {
      "cell_type": "code",
      "source": [
        "# https://habr.com/ru/company/Voximplant/blog/446738/\n",
        "# анализ тональности (настроения) текста отзыва\n",
        "\n",
        "from nltk.sentiment.vader import SentimentIntensityAnalyzer\n",
        "nltk.download('vader_lexicon')\n",
        "\n",
        "sid = SentimentIntensityAnalyzer()\n",
        "reviews_df[\"sentiments\"] = reviews_df[\"review\"].apply(lambda x: sid.polarity_scores(x))\n",
        "reviews_df = pd.concat([reviews_df.drop(['sentiments'], axis=1), reviews_df['sentiments'].apply(pd.Series)], axis=1)"
      ],
      "metadata": {
        "_uuid": "edbc356b3b7289c9aaafeafb41c11eb7c5a601f7",
        "execution": {
          "iopub.status.busy": "2022-03-19T17:17:47.099527Z",
          "iopub.execute_input": "2022-03-19T17:17:47.099764Z",
          "iopub.status.idle": "2022-03-19T17:18:29.428371Z",
          "shell.execute_reply.started": "2022-03-19T17:17:47.099738Z",
          "shell.execute_reply": "2022-03-19T17:18:29.427657Z"
        },
        "trusted": true,
        "colab": {
          "base_uri": "https://localhost:8080/"
        },
        "id": "gl86dGwJQ_I7",
        "outputId": "03a81917-cb56-475d-c20c-6af229cbcc24"
      },
      "execution_count": null,
      "outputs": [
        {
          "output_type": "stream",
          "name": "stdout",
          "text": [
            "[nltk_data] Downloading package vader_lexicon to /root/nltk_data...\n",
            "[nltk_data]   Package vader_lexicon is already up-to-date!\n"
          ]
        }
      ]
    },
    {
      "cell_type": "code",
      "source": [
        "# создадим признак кол-во символов в отзыве\n",
        "reviews_df[\"nb_chars\"] = reviews_df[\"review\"].apply(lambda x: len(x))\n",
        "\n",
        "# создадим признак кол-во слов в отзыве\n",
        "reviews_df[\"nb_words\"] = reviews_df[\"review\"].apply(lambda x: len(x.split(\" \")))"
      ],
      "metadata": {
        "_uuid": "183c8e5ad5659fea721bed9cdf40b45757f49721",
        "execution": {
          "iopub.status.busy": "2022-03-19T17:18:29.430261Z",
          "iopub.execute_input": "2022-03-19T17:18:29.430653Z",
          "iopub.status.idle": "2022-03-19T17:18:29.663098Z",
          "shell.execute_reply.started": "2022-03-19T17:18:29.430605Z",
          "shell.execute_reply": "2022-03-19T17:18:29.662405Z"
        },
        "trusted": true,
        "id": "sGDHP5JYQ_I8"
      },
      "execution_count": null,
      "outputs": []
    },
    {
      "cell_type": "code",
      "source": [
        "# https://habr.com/ru/post/585838/\n",
        "# векторизация слов с помощью doc2vec и создание нового признака\n",
        "\n",
        "from gensim.test.utils import common_texts\n",
        "from gensim.models.doc2vec import Doc2Vec, TaggedDocument\n",
        "\n",
        "documents = [TaggedDocument(doc, [i]) for i, doc in enumerate(reviews_df[\"review_clean\"].apply(lambda x: x.split(\" \")))]\n",
        "\n",
        "# обучение модели Doc2Vec с помощью текстовых данных\n",
        "model = Doc2Vec(documents, vector_size=5, window=2, min_count=1, workers=4)\n",
        "\n",
        "# преобразуем каждый документ в вектор данных\n",
        "doc2vec_df = reviews_df[\"review_clean\"].apply(lambda x: model.infer_vector(x.split(\" \"))).apply(pd.Series)\n",
        "doc2vec_df.columns = [\"doc2vec_vector_\" + str(x) for x in doc2vec_df.columns]\n",
        "reviews_df = pd.concat([reviews_df, doc2vec_df], axis=1)"
      ],
      "metadata": {
        "_uuid": "905b125a775fa13b20d869443dc439d324a124b7",
        "execution": {
          "iopub.status.busy": "2022-03-19T17:18:29.664507Z",
          "iopub.execute_input": "2022-03-19T17:18:29.667197Z",
          "iopub.status.idle": "2022-03-19T17:20:19.237415Z",
          "shell.execute_reply.started": "2022-03-19T17:18:29.667140Z",
          "shell.execute_reply": "2022-03-19T17:20:19.236569Z"
        },
        "trusted": true,
        "id": "u8s_W_vzQ_I8"
      },
      "execution_count": null,
      "outputs": []
    },
    {
      "cell_type": "code",
      "source": [
        "# создание признака tf-idfs (оценка важности слова в тексте)\n",
        "from sklearn.feature_extraction.text import TfidfVectorizer\n",
        "\n",
        "tfidf = TfidfVectorizer(min_df = 10)\n",
        "tfidf_result = tfidf.fit_transform(reviews_df[\"review_clean\"]).toarray()\n",
        "tfidf_df = pd.DataFrame(tfidf_result, columns = tfidf.get_feature_names())\n",
        "tfidf_df.columns = [\"word_\" + str(x) for x in tfidf_df.columns]\n",
        "tfidf_df.index = reviews_df.index\n",
        "reviews_df = pd.concat([reviews_df, tfidf_df], axis=1)"
      ],
      "metadata": {
        "_uuid": "2a2b0d4e04270e1249ec4436dce176573be2c147",
        "execution": {
          "iopub.status.busy": "2022-03-19T17:20:19.238556Z",
          "iopub.execute_input": "2022-03-19T17:20:19.238771Z",
          "iopub.status.idle": "2022-03-19T17:20:27.628909Z",
          "shell.execute_reply.started": "2022-03-19T17:20:19.238746Z",
          "shell.execute_reply": "2022-03-19T17:20:27.628063Z"
        },
        "trusted": true,
        "colab": {
          "base_uri": "https://localhost:8080/"
        },
        "id": "WDyrNxgUQ_I8",
        "outputId": "a4dba232-19c8-42c9-efd1-5917e5f9964a"
      },
      "execution_count": null,
      "outputs": [
        {
          "output_type": "stream",
          "name": "stderr",
          "text": [
            "/usr/local/lib/python3.7/dist-packages/sklearn/utils/deprecation.py:87: FutureWarning: Function get_feature_names is deprecated; get_feature_names is deprecated in 1.0 and will be removed in 1.2. Please use get_feature_names_out instead.\n",
            "  warnings.warn(msg, category=FutureWarning)\n"
          ]
        }
      ]
    },
    {
      "cell_type": "code",
      "source": [
        "reviews_df.head()"
      ],
      "metadata": {
        "_uuid": "6682eda4d0078a4953f5111717e4750c8f98d409",
        "execution": {
          "iopub.status.busy": "2022-03-19T17:20:27.630125Z",
          "iopub.execute_input": "2022-03-19T17:20:27.630379Z",
          "iopub.status.idle": "2022-03-19T17:20:27.665473Z",
          "shell.execute_reply.started": "2022-03-19T17:20:27.630352Z",
          "shell.execute_reply": "2022-03-19T17:20:27.664585Z"
        },
        "trusted": true,
        "colab": {
          "base_uri": "https://localhost:8080/",
          "height": 629
        },
        "id": "rB9trUchQ_I9",
        "outputId": "5d11f614-7058-41a8-905b-102534c4203e"
      },
      "execution_count": null,
      "outputs": [
        {
          "output_type": "execute_result",
          "data": {
            "text/plain": [
              "                                                   review  is_bad_review  \\\n",
              "488440   The tea cups were dirty on arrival We also ha...              0   \n",
              "274649                            Not a big enough choice              0   \n",
              "374688   Room was a bit dirty the a c did not work ver...              0   \n",
              "404352   Great location for morning walks in the park ...              0   \n",
              "451596   The balcony in the room was very depressing w...              0   \n",
              "\n",
              "        reviewer_score  sample  \\\n",
              "488440             7.1       1   \n",
              "274649             6.7       1   \n",
              "374688             5.4       1   \n",
              "404352            10.0       1   \n",
              "451596             7.5       1   \n",
              "\n",
              "                                             review_clean    neg    neu  \\\n",
              "488440  tea cup dirty arrival also connect door anothe...  0.018  0.663   \n",
              "274649                                  big enough choice  0.000  1.000   \n",
              "374688  room bit dirty work well staff courteous frien...  0.233  0.507   \n",
              "404352  great location morning walk park also shop aro...  0.000  0.695   \n",
              "451596  balcony room depress view table chair outside ...  0.063  0.783   \n",
              "\n",
              "          pos  compound  nb_chars  ...  word_yet  word_yoghurt  word_yogurt  \\\n",
              "488440  0.318    0.9868       418  ...       0.0           0.0          0.0   \n",
              "274649  0.000    0.0000        24  ...       0.0           0.0          0.0   \n",
              "374688  0.260    0.4199       112  ...       0.0           0.0          0.0   \n",
              "404352  0.305    0.9081       171  ...       0.0           0.0          0.0   \n",
              "451596  0.153    0.9016       631  ...       0.0           0.0          0.0   \n",
              "\n",
              "        word_young  word_yummy  word_zero  word_ziggo  word_zone  word_zoo  \\\n",
              "488440         0.0         0.0        0.0         0.0        0.0       0.0   \n",
              "274649         0.0         0.0        0.0         0.0        0.0       0.0   \n",
              "374688         0.0         0.0        0.0         0.0        0.0       0.0   \n",
              "404352         0.0         0.0        0.0         0.0        0.0       0.0   \n",
              "451596         0.0         0.0        0.0         0.0        0.0       0.0   \n",
              "\n",
              "        word_zuid  \n",
              "488440        0.0  \n",
              "274649        0.0  \n",
              "374688        0.0  \n",
              "404352        0.0  \n",
              "451596        0.0  \n",
              "\n",
              "[5 rows x 3861 columns]"
            ],
            "text/html": [
              "\n",
              "  <div id=\"df-83d91b1b-895b-483e-b36c-ae7bcfb57bb0\">\n",
              "    <div class=\"colab-df-container\">\n",
              "      <div>\n",
              "<style scoped>\n",
              "    .dataframe tbody tr th:only-of-type {\n",
              "        vertical-align: middle;\n",
              "    }\n",
              "\n",
              "    .dataframe tbody tr th {\n",
              "        vertical-align: top;\n",
              "    }\n",
              "\n",
              "    .dataframe thead th {\n",
              "        text-align: right;\n",
              "    }\n",
              "</style>\n",
              "<table border=\"1\" class=\"dataframe\">\n",
              "  <thead>\n",
              "    <tr style=\"text-align: right;\">\n",
              "      <th></th>\n",
              "      <th>review</th>\n",
              "      <th>is_bad_review</th>\n",
              "      <th>reviewer_score</th>\n",
              "      <th>sample</th>\n",
              "      <th>review_clean</th>\n",
              "      <th>neg</th>\n",
              "      <th>neu</th>\n",
              "      <th>pos</th>\n",
              "      <th>compound</th>\n",
              "      <th>nb_chars</th>\n",
              "      <th>...</th>\n",
              "      <th>word_yet</th>\n",
              "      <th>word_yoghurt</th>\n",
              "      <th>word_yogurt</th>\n",
              "      <th>word_young</th>\n",
              "      <th>word_yummy</th>\n",
              "      <th>word_zero</th>\n",
              "      <th>word_ziggo</th>\n",
              "      <th>word_zone</th>\n",
              "      <th>word_zoo</th>\n",
              "      <th>word_zuid</th>\n",
              "    </tr>\n",
              "  </thead>\n",
              "  <tbody>\n",
              "    <tr>\n",
              "      <th>488440</th>\n",
              "      <td>The tea cups were dirty on arrival We also ha...</td>\n",
              "      <td>0</td>\n",
              "      <td>7.1</td>\n",
              "      <td>1</td>\n",
              "      <td>tea cup dirty arrival also connect door anothe...</td>\n",
              "      <td>0.018</td>\n",
              "      <td>0.663</td>\n",
              "      <td>0.318</td>\n",
              "      <td>0.9868</td>\n",
              "      <td>418</td>\n",
              "      <td>...</td>\n",
              "      <td>0.0</td>\n",
              "      <td>0.0</td>\n",
              "      <td>0.0</td>\n",
              "      <td>0.0</td>\n",
              "      <td>0.0</td>\n",
              "      <td>0.0</td>\n",
              "      <td>0.0</td>\n",
              "      <td>0.0</td>\n",
              "      <td>0.0</td>\n",
              "      <td>0.0</td>\n",
              "    </tr>\n",
              "    <tr>\n",
              "      <th>274649</th>\n",
              "      <td>Not a big enough choice</td>\n",
              "      <td>0</td>\n",
              "      <td>6.7</td>\n",
              "      <td>1</td>\n",
              "      <td>big enough choice</td>\n",
              "      <td>0.000</td>\n",
              "      <td>1.000</td>\n",
              "      <td>0.000</td>\n",
              "      <td>0.0000</td>\n",
              "      <td>24</td>\n",
              "      <td>...</td>\n",
              "      <td>0.0</td>\n",
              "      <td>0.0</td>\n",
              "      <td>0.0</td>\n",
              "      <td>0.0</td>\n",
              "      <td>0.0</td>\n",
              "      <td>0.0</td>\n",
              "      <td>0.0</td>\n",
              "      <td>0.0</td>\n",
              "      <td>0.0</td>\n",
              "      <td>0.0</td>\n",
              "    </tr>\n",
              "    <tr>\n",
              "      <th>374688</th>\n",
              "      <td>Room was a bit dirty the a c did not work ver...</td>\n",
              "      <td>0</td>\n",
              "      <td>5.4</td>\n",
              "      <td>1</td>\n",
              "      <td>room bit dirty work well staff courteous frien...</td>\n",
              "      <td>0.233</td>\n",
              "      <td>0.507</td>\n",
              "      <td>0.260</td>\n",
              "      <td>0.4199</td>\n",
              "      <td>112</td>\n",
              "      <td>...</td>\n",
              "      <td>0.0</td>\n",
              "      <td>0.0</td>\n",
              "      <td>0.0</td>\n",
              "      <td>0.0</td>\n",
              "      <td>0.0</td>\n",
              "      <td>0.0</td>\n",
              "      <td>0.0</td>\n",
              "      <td>0.0</td>\n",
              "      <td>0.0</td>\n",
              "      <td>0.0</td>\n",
              "    </tr>\n",
              "    <tr>\n",
              "      <th>404352</th>\n",
              "      <td>Great location for morning walks in the park ...</td>\n",
              "      <td>0</td>\n",
              "      <td>10.0</td>\n",
              "      <td>1</td>\n",
              "      <td>great location morning walk park also shop aro...</td>\n",
              "      <td>0.000</td>\n",
              "      <td>0.695</td>\n",
              "      <td>0.305</td>\n",
              "      <td>0.9081</td>\n",
              "      <td>171</td>\n",
              "      <td>...</td>\n",
              "      <td>0.0</td>\n",
              "      <td>0.0</td>\n",
              "      <td>0.0</td>\n",
              "      <td>0.0</td>\n",
              "      <td>0.0</td>\n",
              "      <td>0.0</td>\n",
              "      <td>0.0</td>\n",
              "      <td>0.0</td>\n",
              "      <td>0.0</td>\n",
              "      <td>0.0</td>\n",
              "    </tr>\n",
              "    <tr>\n",
              "      <th>451596</th>\n",
              "      <td>The balcony in the room was very depressing w...</td>\n",
              "      <td>0</td>\n",
              "      <td>7.5</td>\n",
              "      <td>1</td>\n",
              "      <td>balcony room depress view table chair outside ...</td>\n",
              "      <td>0.063</td>\n",
              "      <td>0.783</td>\n",
              "      <td>0.153</td>\n",
              "      <td>0.9016</td>\n",
              "      <td>631</td>\n",
              "      <td>...</td>\n",
              "      <td>0.0</td>\n",
              "      <td>0.0</td>\n",
              "      <td>0.0</td>\n",
              "      <td>0.0</td>\n",
              "      <td>0.0</td>\n",
              "      <td>0.0</td>\n",
              "      <td>0.0</td>\n",
              "      <td>0.0</td>\n",
              "      <td>0.0</td>\n",
              "      <td>0.0</td>\n",
              "    </tr>\n",
              "  </tbody>\n",
              "</table>\n",
              "<p>5 rows × 3861 columns</p>\n",
              "</div>\n",
              "      <button class=\"colab-df-convert\" onclick=\"convertToInteractive('df-83d91b1b-895b-483e-b36c-ae7bcfb57bb0')\"\n",
              "              title=\"Convert this dataframe to an interactive table.\"\n",
              "              style=\"display:none;\">\n",
              "        \n",
              "  <svg xmlns=\"http://www.w3.org/2000/svg\" height=\"24px\"viewBox=\"0 0 24 24\"\n",
              "       width=\"24px\">\n",
              "    <path d=\"M0 0h24v24H0V0z\" fill=\"none\"/>\n",
              "    <path d=\"M18.56 5.44l.94 2.06.94-2.06 2.06-.94-2.06-.94-.94-2.06-.94 2.06-2.06.94zm-11 1L8.5 8.5l.94-2.06 2.06-.94-2.06-.94L8.5 2.5l-.94 2.06-2.06.94zm10 10l.94 2.06.94-2.06 2.06-.94-2.06-.94-.94-2.06-.94 2.06-2.06.94z\"/><path d=\"M17.41 7.96l-1.37-1.37c-.4-.4-.92-.59-1.43-.59-.52 0-1.04.2-1.43.59L10.3 9.45l-7.72 7.72c-.78.78-.78 2.05 0 2.83L4 21.41c.39.39.9.59 1.41.59.51 0 1.02-.2 1.41-.59l7.78-7.78 2.81-2.81c.8-.78.8-2.07 0-2.86zM5.41 20L4 18.59l7.72-7.72 1.47 1.35L5.41 20z\"/>\n",
              "  </svg>\n",
              "      </button>\n",
              "      \n",
              "  <style>\n",
              "    .colab-df-container {\n",
              "      display:flex;\n",
              "      flex-wrap:wrap;\n",
              "      gap: 12px;\n",
              "    }\n",
              "\n",
              "    .colab-df-convert {\n",
              "      background-color: #E8F0FE;\n",
              "      border: none;\n",
              "      border-radius: 50%;\n",
              "      cursor: pointer;\n",
              "      display: none;\n",
              "      fill: #1967D2;\n",
              "      height: 32px;\n",
              "      padding: 0 0 0 0;\n",
              "      width: 32px;\n",
              "    }\n",
              "\n",
              "    .colab-df-convert:hover {\n",
              "      background-color: #E2EBFA;\n",
              "      box-shadow: 0px 1px 2px rgba(60, 64, 67, 0.3), 0px 1px 3px 1px rgba(60, 64, 67, 0.15);\n",
              "      fill: #174EA6;\n",
              "    }\n",
              "\n",
              "    [theme=dark] .colab-df-convert {\n",
              "      background-color: #3B4455;\n",
              "      fill: #D2E3FC;\n",
              "    }\n",
              "\n",
              "    [theme=dark] .colab-df-convert:hover {\n",
              "      background-color: #434B5C;\n",
              "      box-shadow: 0px 1px 3px 1px rgba(0, 0, 0, 0.15);\n",
              "      filter: drop-shadow(0px 1px 2px rgba(0, 0, 0, 0.3));\n",
              "      fill: #FFFFFF;\n",
              "    }\n",
              "  </style>\n",
              "\n",
              "      <script>\n",
              "        const buttonEl =\n",
              "          document.querySelector('#df-83d91b1b-895b-483e-b36c-ae7bcfb57bb0 button.colab-df-convert');\n",
              "        buttonEl.style.display =\n",
              "          google.colab.kernel.accessAllowed ? 'block' : 'none';\n",
              "\n",
              "        async function convertToInteractive(key) {\n",
              "          const element = document.querySelector('#df-83d91b1b-895b-483e-b36c-ae7bcfb57bb0');\n",
              "          const dataTable =\n",
              "            await google.colab.kernel.invokeFunction('convertToInteractive',\n",
              "                                                     [key], {});\n",
              "          if (!dataTable) return;\n",
              "\n",
              "          const docLinkHtml = 'Like what you see? Visit the ' +\n",
              "            '<a target=\"_blank\" href=https://colab.research.google.com/notebooks/data_table.ipynb>data table notebook</a>'\n",
              "            + ' to learn more about interactive tables.';\n",
              "          element.innerHTML = '';\n",
              "          dataTable['output_type'] = 'display_data';\n",
              "          await google.colab.output.renderOutput(dataTable, element);\n",
              "          const docLink = document.createElement('div');\n",
              "          docLink.innerHTML = docLinkHtml;\n",
              "          element.appendChild(docLink);\n",
              "        }\n",
              "      </script>\n",
              "    </div>\n",
              "  </div>\n",
              "  "
            ]
          },
          "metadata": {},
          "execution_count": 40
        }
      ]
    },
    {
      "cell_type": "code",
      "source": [],
      "metadata": {
        "id": "Qa2FN0wuQuO2"
      },
      "execution_count": null,
      "outputs": []
    },
    {
      "cell_type": "code",
      "source": [
        "reviews_df.shape"
      ],
      "metadata": {
        "_uuid": "90a369931c57755f171e8cd9e8f9ff8e12e7a04b",
        "execution": {
          "iopub.status.busy": "2022-03-19T17:20:27.666798Z",
          "iopub.execute_input": "2022-03-19T17:20:27.667134Z",
          "iopub.status.idle": "2022-03-19T17:20:27.673252Z",
          "shell.execute_reply.started": "2022-03-19T17:20:27.667091Z",
          "shell.execute_reply": "2022-03-19T17:20:27.672378Z"
        },
        "trusted": true,
        "colab": {
          "base_uri": "https://localhost:8080/"
        },
        "id": "mPzeO-GgQ_I9",
        "outputId": "470751ca-dbe8-4e46-b6f0-5f4344ce281e"
      },
      "execution_count": null,
      "outputs": [
        {
          "output_type": "execute_result",
          "data": {
            "text/plain": [
              "(51574, 3861)"
            ]
          },
          "metadata": {},
          "execution_count": 41
        }
      ]
    },
    {
      "cell_type": "markdown",
      "source": [
        "# Исследовательский анализ данных"
      ],
      "metadata": {
        "_uuid": "fff48629c55ba10d8625ced055d92cfd0621a235",
        "id": "m33ciK-CQ_I9"
      }
    },
    {
      "cell_type": "code",
      "source": [
        "# распределение данных в столбце is_bad_review\n",
        "reviews_df[\"is_bad_review\"].value_counts(normalize = True)"
      ],
      "metadata": {
        "_uuid": "9b19f8973b5aabec726dfe0a4806e2d88a310b0c",
        "execution": {
          "iopub.status.busy": "2022-03-19T17:20:27.677541Z",
          "iopub.execute_input": "2022-03-19T17:20:27.678467Z",
          "iopub.status.idle": "2022-03-19T17:20:27.689368Z",
          "shell.execute_reply.started": "2022-03-19T17:20:27.678412Z",
          "shell.execute_reply": "2022-03-19T17:20:27.688302Z"
        },
        "trusted": true,
        "colab": {
          "base_uri": "https://localhost:8080/"
        },
        "id": "6SAj3FNaQ_I-",
        "outputId": "8dccdde2-face-4361-c23d-0e50af8c397a"
      },
      "execution_count": null,
      "outputs": [
        {
          "output_type": "execute_result",
          "data": {
            "text/plain": [
              "0    0.71982\n",
              "1    0.28018\n",
              "Name: is_bad_review, dtype: float64"
            ]
          },
          "metadata": {},
          "execution_count": 42
        }
      ]
    },
    {
      "cell_type": "markdown",
      "source": [
        "Our dataset is highly imbalanced because less than 5% of our reviews are considered as negative ones. This information will be very useful for the modelling part.\n",
        "\n",
        "Now let's print some wordclouds to have a glimpse at what kind of words apear in our reviews:"
      ],
      "metadata": {
        "_uuid": "cd96811d40bd891b0360b702bfc0b59a33a7215a",
        "id": "L-W5Vyy9Q_I-"
      }
    },
    {
      "cell_type": "code",
      "source": [
        "# использование wordcloud функции\n",
        "\n",
        "from wordcloud import WordCloud\n",
        "import matplotlib.pyplot as plt\n",
        "\n",
        "def show_wordcloud(data, title = None):\n",
        "    wordcloud = WordCloud(\n",
        "        background_color = 'white',\n",
        "        max_words = 200,\n",
        "        max_font_size = 40,\n",
        "        scale = 3,\n",
        "        random_state = 42\n",
        "    ).generate(str(data))\n",
        "\n",
        "    fig = plt.figure(1, figsize = (20, 20))\n",
        "    plt.axis('off')\n",
        "    if title:\n",
        "        fig.suptitle(title, fontsize = 20)\n",
        "        fig.subplots_adjust(top = 2.3)\n",
        "\n",
        "    plt.imshow(wordcloud)\n",
        "    plt.show()\n",
        "\n",
        "show_wordcloud(reviews_df[\"review\"])"
      ],
      "metadata": {
        "_uuid": "0d81a097747f9e9d16076cbaa211e7e66ba37a8f",
        "execution": {
          "iopub.status.busy": "2022-03-19T17:20:27.690925Z",
          "iopub.execute_input": "2022-03-19T17:20:27.691868Z",
          "iopub.status.idle": "2022-03-19T17:20:28.292765Z",
          "shell.execute_reply.started": "2022-03-19T17:20:27.691820Z",
          "shell.execute_reply": "2022-03-19T17:20:28.292116Z"
        },
        "trusted": true,
        "colab": {
          "base_uri": "https://localhost:8080/",
          "height": 478
        },
        "id": "a2VNLDgsQ_I-",
        "outputId": "b38b62d1-36c4-4ca9-cc4d-00fc0df91367"
      },
      "execution_count": null,
      "outputs": [
        {
          "output_type": "display_data",
          "data": {
            "text/plain": [
              "<Figure size 1440x1440 with 1 Axes>"
            ],
            "image/png": "[encoded data removed]"
          },
          "metadata": {
            "needs_background": "light"
          }
        }
      ]
    },
    {
      "cell_type": "code",
      "source": [
        "# Топ позитивных отзывов (содержит > 5 слов)\n",
        "reviews_df[reviews_df[\"nb_words\"] >= 5].sort_values(\"pos\", ascending = False)[[\"review\", \"pos\"]].head(10)"
      ],
      "metadata": {
        "_uuid": "d247f98a3ae20c5b1b8227171d12ba375d548132",
        "execution": {
          "iopub.status.busy": "2022-03-19T17:20:28.293924Z",
          "iopub.execute_input": "2022-03-19T17:20:28.294204Z",
          "iopub.status.idle": "2022-03-19T17:20:35.554258Z",
          "shell.execute_reply.started": "2022-03-19T17:20:28.294173Z",
          "shell.execute_reply": "2022-03-19T17:20:35.553426Z"
        },
        "trusted": true,
        "colab": {
          "base_uri": "https://localhost:8080/",
          "height": 363
        },
        "id": "0YgiuHq7Q_I_",
        "outputId": "9f320cb7-5a00-4ce7-ef72-d14e44d95914"
      },
      "execution_count": null,
      "outputs": [
        {
          "output_type": "execute_result",
          "data": {
            "text/plain": [
              "                                           review    pos\n",
              "509325               Clean comfortable efficient   1.000\n",
              "245292                    Nice clean comfortable   1.000\n",
              "141924                   Clean helpful efficient   1.000\n",
              "333927   Great clean comfortable Great concierge   0.934\n",
              "411351        Excellent service super comfortable  0.916\n",
              "368656                Clean friendly lovely rooms  0.907\n",
              "488108                Great staff helpful smiley   0.906\n",
              "868             Friendly welcome Comfortable room  0.905\n",
              "53608                  Smile More friendly I hope  0.902\n",
              "221411             Comfortable clean and friendly  0.902"
            ],
            "text/html": [
              "\n",
              "  <div id=\"df-326301d5-c079-4bde-90fd-ffc0a78aa63e\">\n",
              "    <div class=\"colab-df-container\">\n",
              "      <div>\n",
              "<style scoped>\n",
              "    .dataframe tbody tr th:only-of-type {\n",
              "        vertical-align: middle;\n",
              "    }\n",
              "\n",
              "    .dataframe tbody tr th {\n",
              "        vertical-align: top;\n",
              "    }\n",
              "\n",
              "    .dataframe thead th {\n",
              "        text-align: right;\n",
              "    }\n",
              "</style>\n",
              "<table border=\"1\" class=\"dataframe\">\n",
              "  <thead>\n",
              "    <tr style=\"text-align: right;\">\n",
              "      <th></th>\n",
              "      <th>review</th>\n",
              "      <th>pos</th>\n",
              "    </tr>\n",
              "  </thead>\n",
              "  <tbody>\n",
              "    <tr>\n",
              "      <th>509325</th>\n",
              "      <td>Clean comfortable efficient</td>\n",
              "      <td>1.000</td>\n",
              "    </tr>\n",
              "    <tr>\n",
              "      <th>245292</th>\n",
              "      <td>Nice clean comfortable</td>\n",
              "      <td>1.000</td>\n",
              "    </tr>\n",
              "    <tr>\n",
              "      <th>141924</th>\n",
              "      <td>Clean helpful efficient</td>\n",
              "      <td>1.000</td>\n",
              "    </tr>\n",
              "    <tr>\n",
              "      <th>333927</th>\n",
              "      <td>Great clean comfortable Great concierge</td>\n",
              "      <td>0.934</td>\n",
              "    </tr>\n",
              "    <tr>\n",
              "      <th>411351</th>\n",
              "      <td>Excellent service super comfortable</td>\n",
              "      <td>0.916</td>\n",
              "    </tr>\n",
              "    <tr>\n",
              "      <th>368656</th>\n",
              "      <td>Clean friendly lovely rooms</td>\n",
              "      <td>0.907</td>\n",
              "    </tr>\n",
              "    <tr>\n",
              "      <th>488108</th>\n",
              "      <td>Great staff helpful smiley</td>\n",
              "      <td>0.906</td>\n",
              "    </tr>\n",
              "    <tr>\n",
              "      <th>868</th>\n",
              "      <td>Friendly welcome Comfortable room</td>\n",
              "      <td>0.905</td>\n",
              "    </tr>\n",
              "    <tr>\n",
              "      <th>53608</th>\n",
              "      <td>Smile More friendly I hope</td>\n",
              "      <td>0.902</td>\n",
              "    </tr>\n",
              "    <tr>\n",
              "      <th>221411</th>\n",
              "      <td>Comfortable clean and friendly</td>\n",
              "      <td>0.902</td>\n",
              "    </tr>\n",
              "  </tbody>\n",
              "</table>\n",
              "</div>\n",
              "      <button class=\"colab-df-convert\" onclick=\"convertToInteractive('df-326301d5-c079-4bde-90fd-ffc0a78aa63e')\"\n",
              "              title=\"Convert this dataframe to an interactive table.\"\n",
              "              style=\"display:none;\">\n",
              "        \n",
              "  <svg xmlns=\"http://www.w3.org/2000/svg\" height=\"24px\"viewBox=\"0 0 24 24\"\n",
              "       width=\"24px\">\n",
              "    <path d=\"M0 0h24v24H0V0z\" fill=\"none\"/>\n",
              "    <path d=\"M18.56 5.44l.94 2.06.94-2.06 2.06-.94-2.06-.94-.94-2.06-.94 2.06-2.06.94zm-11 1L8.5 8.5l.94-2.06 2.06-.94-2.06-.94L8.5 2.5l-.94 2.06-2.06.94zm10 10l.94 2.06.94-2.06 2.06-.94-2.06-.94-.94-2.06-.94 2.06-2.06.94z\"/><path d=\"M17.41 7.96l-1.37-1.37c-.4-.4-.92-.59-1.43-.59-.52 0-1.04.2-1.43.59L10.3 9.45l-7.72 7.72c-.78.78-.78 2.05 0 2.83L4 21.41c.39.39.9.59 1.41.59.51 0 1.02-.2 1.41-.59l7.78-7.78 2.81-2.81c.8-.78.8-2.07 0-2.86zM5.41 20L4 18.59l7.72-7.72 1.47 1.35L5.41 20z\"/>\n",
              "  </svg>\n",
              "      </button>\n",
              "      \n",
              "  <style>\n",
              "    .colab-df-container {\n",
              "      display:flex;\n",
              "      flex-wrap:wrap;\n",
              "      gap: 12px;\n",
              "    }\n",
              "\n",
              "    .colab-df-convert {\n",
              "      background-color: #E8F0FE;\n",
              "      border: none;\n",
              "      border-radius: 50%;\n",
              "      cursor: pointer;\n",
              "      display: none;\n",
              "      fill: #1967D2;\n",
              "      height: 32px;\n",
              "      padding: 0 0 0 0;\n",
              "      width: 32px;\n",
              "    }\n",
              "\n",
              "    .colab-df-convert:hover {\n",
              "      background-color: #E2EBFA;\n",
              "      box-shadow: 0px 1px 2px rgba(60, 64, 67, 0.3), 0px 1px 3px 1px rgba(60, 64, 67, 0.15);\n",
              "      fill: #174EA6;\n",
              "    }\n",
              "\n",
              "    [theme=dark] .colab-df-convert {\n",
              "      background-color: #3B4455;\n",
              "      fill: #D2E3FC;\n",
              "    }\n",
              "\n",
              "    [theme=dark] .colab-df-convert:hover {\n",
              "      background-color: #434B5C;\n",
              "      box-shadow: 0px 1px 3px 1px rgba(0, 0, 0, 0.15);\n",
              "      filter: drop-shadow(0px 1px 2px rgba(0, 0, 0, 0.3));\n",
              "      fill: #FFFFFF;\n",
              "    }\n",
              "  </style>\n",
              "\n",
              "      <script>\n",
              "        const buttonEl =\n",
              "          document.querySelector('#df-326301d5-c079-4bde-90fd-ffc0a78aa63e button.colab-df-convert');\n",
              "        buttonEl.style.display =\n",
              "          google.colab.kernel.accessAllowed ? 'block' : 'none';\n",
              "\n",
              "        async function convertToInteractive(key) {\n",
              "          const element = document.querySelector('#df-326301d5-c079-4bde-90fd-ffc0a78aa63e');\n",
              "          const dataTable =\n",
              "            await google.colab.kernel.invokeFunction('convertToInteractive',\n",
              "                                                     [key], {});\n",
              "          if (!dataTable) return;\n",
              "\n",
              "          const docLinkHtml = 'Like what you see? Visit the ' +\n",
              "            '<a target=\"_blank\" href=https://colab.research.google.com/notebooks/data_table.ipynb>data table notebook</a>'\n",
              "            + ' to learn more about interactive tables.';\n",
              "          element.innerHTML = '';\n",
              "          dataTable['output_type'] = 'display_data';\n",
              "          await google.colab.output.renderOutput(dataTable, element);\n",
              "          const docLink = document.createElement('div');\n",
              "          docLink.innerHTML = docLinkHtml;\n",
              "          element.appendChild(docLink);\n",
              "        }\n",
              "      </script>\n",
              "    </div>\n",
              "  </div>\n",
              "  "
            ]
          },
          "metadata": {},
          "execution_count": 44
        }
      ]
    },
    {
      "cell_type": "code",
      "source": [
        "# Топ негативных отзывов (содержит > 5 слов)\n",
        "reviews_df[reviews_df[\"nb_words\"] >= 5].sort_values(\"neg\", ascending = False)[[\"review\", \"neg\"]].head(10)"
      ],
      "metadata": {
        "_uuid": "e506946236e230f419c09280cbfbcdfad35ab1a4",
        "execution": {
          "iopub.status.busy": "2022-03-19T17:20:35.555728Z",
          "iopub.execute_input": "2022-03-19T17:20:35.556116Z",
          "iopub.status.idle": "2022-03-19T17:20:37.305836Z",
          "shell.execute_reply.started": "2022-03-19T17:20:35.556074Z",
          "shell.execute_reply": "2022-03-19T17:20:37.304991Z"
        },
        "trusted": true,
        "colab": {
          "base_uri": "https://localhost:8080/",
          "height": 363
        },
        "id": "K0YvzwCjQ_I_",
        "outputId": "366d4207-899d-4e33-d884-7ec4079f6d3c"
      },
      "execution_count": null,
      "outputs": [
        {
          "output_type": "execute_result",
          "data": {
            "text/plain": [
              "                                review    neg\n",
              "74453                     All No no no  0.868\n",
              "276567        Uncomfortable bed noisy   0.811\n",
              "32377              A disaster  Nothing  0.804\n",
              "283853                  Noisy no view   0.796\n",
              "38524              Very bad service No  0.758\n",
              "309172             Nothing  Excellent   0.750\n",
              "461033               Nothing  Perfect   0.750\n",
              "419280    Nothing Great friendly staff  0.748\n",
              "66684          Nothing Loved it thanks  0.735\n",
              "263821   Nothing Welcoming happy staff  0.730"
            ],
            "text/html": [
              "\n",
              "  <div id=\"df-a76d6b31-2f5e-447f-bde3-3cca9ec402b3\">\n",
              "    <div class=\"colab-df-container\">\n",
              "      <div>\n",
              "<style scoped>\n",
              "    .dataframe tbody tr th:only-of-type {\n",
              "        vertical-align: middle;\n",
              "    }\n",
              "\n",
              "    .dataframe tbody tr th {\n",
              "        vertical-align: top;\n",
              "    }\n",
              "\n",
              "    .dataframe thead th {\n",
              "        text-align: right;\n",
              "    }\n",
              "</style>\n",
              "<table border=\"1\" class=\"dataframe\">\n",
              "  <thead>\n",
              "    <tr style=\"text-align: right;\">\n",
              "      <th></th>\n",
              "      <th>review</th>\n",
              "      <th>neg</th>\n",
              "    </tr>\n",
              "  </thead>\n",
              "  <tbody>\n",
              "    <tr>\n",
              "      <th>74453</th>\n",
              "      <td>All No no no</td>\n",
              "      <td>0.868</td>\n",
              "    </tr>\n",
              "    <tr>\n",
              "      <th>276567</th>\n",
              "      <td>Uncomfortable bed noisy</td>\n",
              "      <td>0.811</td>\n",
              "    </tr>\n",
              "    <tr>\n",
              "      <th>32377</th>\n",
              "      <td>A disaster  Nothing</td>\n",
              "      <td>0.804</td>\n",
              "    </tr>\n",
              "    <tr>\n",
              "      <th>283853</th>\n",
              "      <td>Noisy no view</td>\n",
              "      <td>0.796</td>\n",
              "    </tr>\n",
              "    <tr>\n",
              "      <th>38524</th>\n",
              "      <td>Very bad service No</td>\n",
              "      <td>0.758</td>\n",
              "    </tr>\n",
              "    <tr>\n",
              "      <th>309172</th>\n",
              "      <td>Nothing  Excellent</td>\n",
              "      <td>0.750</td>\n",
              "    </tr>\n",
              "    <tr>\n",
              "      <th>461033</th>\n",
              "      <td>Nothing  Perfect</td>\n",
              "      <td>0.750</td>\n",
              "    </tr>\n",
              "    <tr>\n",
              "      <th>419280</th>\n",
              "      <td>Nothing Great friendly staff</td>\n",
              "      <td>0.748</td>\n",
              "    </tr>\n",
              "    <tr>\n",
              "      <th>66684</th>\n",
              "      <td>Nothing Loved it thanks</td>\n",
              "      <td>0.735</td>\n",
              "    </tr>\n",
              "    <tr>\n",
              "      <th>263821</th>\n",
              "      <td>Nothing Welcoming happy staff</td>\n",
              "      <td>0.730</td>\n",
              "    </tr>\n",
              "  </tbody>\n",
              "</table>\n",
              "</div>\n",
              "      <button class=\"colab-df-convert\" onclick=\"convertToInteractive('df-a76d6b31-2f5e-447f-bde3-3cca9ec402b3')\"\n",
              "              title=\"Convert this dataframe to an interactive table.\"\n",
              "              style=\"display:none;\">\n",
              "        \n",
              "  <svg xmlns=\"http://www.w3.org/2000/svg\" height=\"24px\"viewBox=\"0 0 24 24\"\n",
              "       width=\"24px\">\n",
              "    <path d=\"M0 0h24v24H0V0z\" fill=\"none\"/>\n",
              "    <path d=\"M18.56 5.44l.94 2.06.94-2.06 2.06-.94-2.06-.94-.94-2.06-.94 2.06-2.06.94zm-11 1L8.5 8.5l.94-2.06 2.06-.94-2.06-.94L8.5 2.5l-.94 2.06-2.06.94zm10 10l.94 2.06.94-2.06 2.06-.94-2.06-.94-.94-2.06-.94 2.06-2.06.94z\"/><path d=\"M17.41 7.96l-1.37-1.37c-.4-.4-.92-.59-1.43-.59-.52 0-1.04.2-1.43.59L10.3 9.45l-7.72 7.72c-.78.78-.78 2.05 0 2.83L4 21.41c.39.39.9.59 1.41.59.51 0 1.02-.2 1.41-.59l7.78-7.78 2.81-2.81c.8-.78.8-2.07 0-2.86zM5.41 20L4 18.59l7.72-7.72 1.47 1.35L5.41 20z\"/>\n",
              "  </svg>\n",
              "      </button>\n",
              "      \n",
              "  <style>\n",
              "    .colab-df-container {\n",
              "      display:flex;\n",
              "      flex-wrap:wrap;\n",
              "      gap: 12px;\n",
              "    }\n",
              "\n",
              "    .colab-df-convert {\n",
              "      background-color: #E8F0FE;\n",
              "      border: none;\n",
              "      border-radius: 50%;\n",
              "      cursor: pointer;\n",
              "      display: none;\n",
              "      fill: #1967D2;\n",
              "      height: 32px;\n",
              "      padding: 0 0 0 0;\n",
              "      width: 32px;\n",
              "    }\n",
              "\n",
              "    .colab-df-convert:hover {\n",
              "      background-color: #E2EBFA;\n",
              "      box-shadow: 0px 1px 2px rgba(60, 64, 67, 0.3), 0px 1px 3px 1px rgba(60, 64, 67, 0.15);\n",
              "      fill: #174EA6;\n",
              "    }\n",
              "\n",
              "    [theme=dark] .colab-df-convert {\n",
              "      background-color: #3B4455;\n",
              "      fill: #D2E3FC;\n",
              "    }\n",
              "\n",
              "    [theme=dark] .colab-df-convert:hover {\n",
              "      background-color: #434B5C;\n",
              "      box-shadow: 0px 1px 3px 1px rgba(0, 0, 0, 0.15);\n",
              "      filter: drop-shadow(0px 1px 2px rgba(0, 0, 0, 0.3));\n",
              "      fill: #FFFFFF;\n",
              "    }\n",
              "  </style>\n",
              "\n",
              "      <script>\n",
              "        const buttonEl =\n",
              "          document.querySelector('#df-a76d6b31-2f5e-447f-bde3-3cca9ec402b3 button.colab-df-convert');\n",
              "        buttonEl.style.display =\n",
              "          google.colab.kernel.accessAllowed ? 'block' : 'none';\n",
              "\n",
              "        async function convertToInteractive(key) {\n",
              "          const element = document.querySelector('#df-a76d6b31-2f5e-447f-bde3-3cca9ec402b3');\n",
              "          const dataTable =\n",
              "            await google.colab.kernel.invokeFunction('convertToInteractive',\n",
              "                                                     [key], {});\n",
              "          if (!dataTable) return;\n",
              "\n",
              "          const docLinkHtml = 'Like what you see? Visit the ' +\n",
              "            '<a target=\"_blank\" href=https://colab.research.google.com/notebooks/data_table.ipynb>data table notebook</a>'\n",
              "            + ' to learn more about interactive tables.';\n",
              "          element.innerHTML = '';\n",
              "          dataTable['output_type'] = 'display_data';\n",
              "          await google.colab.output.renderOutput(dataTable, element);\n",
              "          const docLink = document.createElement('div');\n",
              "          docLink.innerHTML = docLinkHtml;\n",
              "          element.appendChild(docLink);\n",
              "        }\n",
              "      </script>\n",
              "    </div>\n",
              "  </div>\n",
              "  "
            ]
          },
          "metadata": {},
          "execution_count": 45
        }
      ]
    },
    {
      "cell_type": "code",
      "source": [
        "reviews_df.head()"
      ],
      "metadata": {
        "execution": {
          "iopub.status.busy": "2022-03-19T17:20:37.307223Z",
          "iopub.execute_input": "2022-03-19T17:20:37.307476Z",
          "iopub.status.idle": "2022-03-19T17:20:37.341605Z",
          "shell.execute_reply.started": "2022-03-19T17:20:37.307445Z",
          "shell.execute_reply": "2022-03-19T17:20:37.341028Z"
        },
        "trusted": true,
        "colab": {
          "base_uri": "https://localhost:8080/",
          "height": 629
        },
        "id": "1NPWnu-dQ_I_",
        "outputId": "53185b2c-b76e-4263-f8ec-8c0d3e8d3a1f"
      },
      "execution_count": null,
      "outputs": [
        {
          "output_type": "execute_result",
          "data": {
            "text/plain": [
              "                                                   review  is_bad_review  \\\n",
              "488440   The tea cups were dirty on arrival We also ha...              0   \n",
              "274649                            Not a big enough choice              0   \n",
              "374688   Room was a bit dirty the a c did not work ver...              0   \n",
              "404352   Great location for morning walks in the park ...              0   \n",
              "451596   The balcony in the room was very depressing w...              0   \n",
              "\n",
              "        reviewer_score  sample  \\\n",
              "488440             7.1       1   \n",
              "274649             6.7       1   \n",
              "374688             5.4       1   \n",
              "404352            10.0       1   \n",
              "451596             7.5       1   \n",
              "\n",
              "                                             review_clean    neg    neu  \\\n",
              "488440  tea cup dirty arrival also connect door anothe...  0.018  0.663   \n",
              "274649                                  big enough choice  0.000  1.000   \n",
              "374688  room bit dirty work well staff courteous frien...  0.233  0.507   \n",
              "404352  great location morning walk park also shop aro...  0.000  0.695   \n",
              "451596  balcony room depress view table chair outside ...  0.063  0.783   \n",
              "\n",
              "          pos  compound  nb_chars  ...  word_yet  word_yoghurt  word_yogurt  \\\n",
              "488440  0.318    0.9868       418  ...       0.0           0.0          0.0   \n",
              "274649  0.000    0.0000        24  ...       0.0           0.0          0.0   \n",
              "374688  0.260    0.4199       112  ...       0.0           0.0          0.0   \n",
              "404352  0.305    0.9081       171  ...       0.0           0.0          0.0   \n",
              "451596  0.153    0.9016       631  ...       0.0           0.0          0.0   \n",
              "\n",
              "        word_young  word_yummy  word_zero  word_ziggo  word_zone  word_zoo  \\\n",
              "488440         0.0         0.0        0.0         0.0        0.0       0.0   \n",
              "274649         0.0         0.0        0.0         0.0        0.0       0.0   \n",
              "374688         0.0         0.0        0.0         0.0        0.0       0.0   \n",
              "404352         0.0         0.0        0.0         0.0        0.0       0.0   \n",
              "451596         0.0         0.0        0.0         0.0        0.0       0.0   \n",
              "\n",
              "        word_zuid  \n",
              "488440        0.0  \n",
              "274649        0.0  \n",
              "374688        0.0  \n",
              "404352        0.0  \n",
              "451596        0.0  \n",
              "\n",
              "[5 rows x 3861 columns]"
            ],
            "text/html": [
              "\n",
              "  <div id=\"df-26e49497-c984-4ba6-b809-b4c509dae15f\">\n",
              "    <div class=\"colab-df-container\">\n",
              "      <div>\n",
              "<style scoped>\n",
              "    .dataframe tbody tr th:only-of-type {\n",
              "        vertical-align: middle;\n",
              "    }\n",
              "\n",
              "    .dataframe tbody tr th {\n",
              "        vertical-align: top;\n",
              "    }\n",
              "\n",
              "    .dataframe thead th {\n",
              "        text-align: right;\n",
              "    }\n",
              "</style>\n",
              "<table border=\"1\" class=\"dataframe\">\n",
              "  <thead>\n",
              "    <tr style=\"text-align: right;\">\n",
              "      <th></th>\n",
              "      <th>review</th>\n",
              "      <th>is_bad_review</th>\n",
              "      <th>reviewer_score</th>\n",
              "      <th>sample</th>\n",
              "      <th>review_clean</th>\n",
              "      <th>neg</th>\n",
              "      <th>neu</th>\n",
              "      <th>pos</th>\n",
              "      <th>compound</th>\n",
              "      <th>nb_chars</th>\n",
              "      <th>...</th>\n",
              "      <th>word_yet</th>\n",
              "      <th>word_yoghurt</th>\n",
              "      <th>word_yogurt</th>\n",
              "      <th>word_young</th>\n",
              "      <th>word_yummy</th>\n",
              "      <th>word_zero</th>\n",
              "      <th>word_ziggo</th>\n",
              "      <th>word_zone</th>\n",
              "      <th>word_zoo</th>\n",
              "      <th>word_zuid</th>\n",
              "    </tr>\n",
              "  </thead>\n",
              "  <tbody>\n",
              "    <tr>\n",
              "      <th>488440</th>\n",
              "      <td>The tea cups were dirty on arrival We also ha...</td>\n",
              "      <td>0</td>\n",
              "      <td>7.1</td>\n",
              "      <td>1</td>\n",
              "      <td>tea cup dirty arrival also connect door anothe...</td>\n",
              "      <td>0.018</td>\n",
              "      <td>0.663</td>\n",
              "      <td>0.318</td>\n",
              "      <td>0.9868</td>\n",
              "      <td>418</td>\n",
              "      <td>...</td>\n",
              "      <td>0.0</td>\n",
              "      <td>0.0</td>\n",
              "      <td>0.0</td>\n",
              "      <td>0.0</td>\n",
              "      <td>0.0</td>\n",
              "      <td>0.0</td>\n",
              "      <td>0.0</td>\n",
              "      <td>0.0</td>\n",
              "      <td>0.0</td>\n",
              "      <td>0.0</td>\n",
              "    </tr>\n",
              "    <tr>\n",
              "      <th>274649</th>\n",
              "      <td>Not a big enough choice</td>\n",
              "      <td>0</td>\n",
              "      <td>6.7</td>\n",
              "      <td>1</td>\n",
              "      <td>big enough choice</td>\n",
              "      <td>0.000</td>\n",
              "      <td>1.000</td>\n",
              "      <td>0.000</td>\n",
              "      <td>0.0000</td>\n",
              "      <td>24</td>\n",
              "      <td>...</td>\n",
              "      <td>0.0</td>\n",
              "      <td>0.0</td>\n",
              "      <td>0.0</td>\n",
              "      <td>0.0</td>\n",
              "      <td>0.0</td>\n",
              "      <td>0.0</td>\n",
              "      <td>0.0</td>\n",
              "      <td>0.0</td>\n",
              "      <td>0.0</td>\n",
              "      <td>0.0</td>\n",
              "    </tr>\n",
              "    <tr>\n",
              "      <th>374688</th>\n",
              "      <td>Room was a bit dirty the a c did not work ver...</td>\n",
              "      <td>0</td>\n",
              "      <td>5.4</td>\n",
              "      <td>1</td>\n",
              "      <td>room bit dirty work well staff courteous frien...</td>\n",
              "      <td>0.233</td>\n",
              "      <td>0.507</td>\n",
              "      <td>0.260</td>\n",
              "      <td>0.4199</td>\n",
              "      <td>112</td>\n",
              "      <td>...</td>\n",
              "      <td>0.0</td>\n",
              "      <td>0.0</td>\n",
              "      <td>0.0</td>\n",
              "      <td>0.0</td>\n",
              "      <td>0.0</td>\n",
              "      <td>0.0</td>\n",
              "      <td>0.0</td>\n",
              "      <td>0.0</td>\n",
              "      <td>0.0</td>\n",
              "      <td>0.0</td>\n",
              "    </tr>\n",
              "    <tr>\n",
              "      <th>404352</th>\n",
              "      <td>Great location for morning walks in the park ...</td>\n",
              "      <td>0</td>\n",
              "      <td>10.0</td>\n",
              "      <td>1</td>\n",
              "      <td>great location morning walk park also shop aro...</td>\n",
              "      <td>0.000</td>\n",
              "      <td>0.695</td>\n",
              "      <td>0.305</td>\n",
              "      <td>0.9081</td>\n",
              "      <td>171</td>\n",
              "      <td>...</td>\n",
              "      <td>0.0</td>\n",
              "      <td>0.0</td>\n",
              "      <td>0.0</td>\n",
              "      <td>0.0</td>\n",
              "      <td>0.0</td>\n",
              "      <td>0.0</td>\n",
              "      <td>0.0</td>\n",
              "      <td>0.0</td>\n",
              "      <td>0.0</td>\n",
              "      <td>0.0</td>\n",
              "    </tr>\n",
              "    <tr>\n",
              "      <th>451596</th>\n",
              "      <td>The balcony in the room was very depressing w...</td>\n",
              "      <td>0</td>\n",
              "      <td>7.5</td>\n",
              "      <td>1</td>\n",
              "      <td>balcony room depress view table chair outside ...</td>\n",
              "      <td>0.063</td>\n",
              "      <td>0.783</td>\n",
              "      <td>0.153</td>\n",
              "      <td>0.9016</td>\n",
              "      <td>631</td>\n",
              "      <td>...</td>\n",
              "      <td>0.0</td>\n",
              "      <td>0.0</td>\n",
              "      <td>0.0</td>\n",
              "      <td>0.0</td>\n",
              "      <td>0.0</td>\n",
              "      <td>0.0</td>\n",
              "      <td>0.0</td>\n",
              "      <td>0.0</td>\n",
              "      <td>0.0</td>\n",
              "      <td>0.0</td>\n",
              "    </tr>\n",
              "  </tbody>\n",
              "</table>\n",
              "<p>5 rows × 3861 columns</p>\n",
              "</div>\n",
              "      <button class=\"colab-df-convert\" onclick=\"convertToInteractive('df-26e49497-c984-4ba6-b809-b4c509dae15f')\"\n",
              "              title=\"Convert this dataframe to an interactive table.\"\n",
              "              style=\"display:none;\">\n",
              "        \n",
              "  <svg xmlns=\"http://www.w3.org/2000/svg\" height=\"24px\"viewBox=\"0 0 24 24\"\n",
              "       width=\"24px\">\n",
              "    <path d=\"M0 0h24v24H0V0z\" fill=\"none\"/>\n",
              "    <path d=\"M18.56 5.44l.94 2.06.94-2.06 2.06-.94-2.06-.94-.94-2.06-.94 2.06-2.06.94zm-11 1L8.5 8.5l.94-2.06 2.06-.94-2.06-.94L8.5 2.5l-.94 2.06-2.06.94zm10 10l.94 2.06.94-2.06 2.06-.94-2.06-.94-.94-2.06-.94 2.06-2.06.94z\"/><path d=\"M17.41 7.96l-1.37-1.37c-.4-.4-.92-.59-1.43-.59-.52 0-1.04.2-1.43.59L10.3 9.45l-7.72 7.72c-.78.78-.78 2.05 0 2.83L4 21.41c.39.39.9.59 1.41.59.51 0 1.02-.2 1.41-.59l7.78-7.78 2.81-2.81c.8-.78.8-2.07 0-2.86zM5.41 20L4 18.59l7.72-7.72 1.47 1.35L5.41 20z\"/>\n",
              "  </svg>\n",
              "      </button>\n",
              "      \n",
              "  <style>\n",
              "    .colab-df-container {\n",
              "      display:flex;\n",
              "      flex-wrap:wrap;\n",
              "      gap: 12px;\n",
              "    }\n",
              "\n",
              "    .colab-df-convert {\n",
              "      background-color: #E8F0FE;\n",
              "      border: none;\n",
              "      border-radius: 50%;\n",
              "      cursor: pointer;\n",
              "      display: none;\n",
              "      fill: #1967D2;\n",
              "      height: 32px;\n",
              "      padding: 0 0 0 0;\n",
              "      width: 32px;\n",
              "    }\n",
              "\n",
              "    .colab-df-convert:hover {\n",
              "      background-color: #E2EBFA;\n",
              "      box-shadow: 0px 1px 2px rgba(60, 64, 67, 0.3), 0px 1px 3px 1px rgba(60, 64, 67, 0.15);\n",
              "      fill: #174EA6;\n",
              "    }\n",
              "\n",
              "    [theme=dark] .colab-df-convert {\n",
              "      background-color: #3B4455;\n",
              "      fill: #D2E3FC;\n",
              "    }\n",
              "\n",
              "    [theme=dark] .colab-df-convert:hover {\n",
              "      background-color: #434B5C;\n",
              "      box-shadow: 0px 1px 3px 1px rgba(0, 0, 0, 0.15);\n",
              "      filter: drop-shadow(0px 1px 2px rgba(0, 0, 0, 0.3));\n",
              "      fill: #FFFFFF;\n",
              "    }\n",
              "  </style>\n",
              "\n",
              "      <script>\n",
              "        const buttonEl =\n",
              "          document.querySelector('#df-26e49497-c984-4ba6-b809-b4c509dae15f button.colab-df-convert');\n",
              "        buttonEl.style.display =\n",
              "          google.colab.kernel.accessAllowed ? 'block' : 'none';\n",
              "\n",
              "        async function convertToInteractive(key) {\n",
              "          const element = document.querySelector('#df-26e49497-c984-4ba6-b809-b4c509dae15f');\n",
              "          const dataTable =\n",
              "            await google.colab.kernel.invokeFunction('convertToInteractive',\n",
              "                                                     [key], {});\n",
              "          if (!dataTable) return;\n",
              "\n",
              "          const docLinkHtml = 'Like what you see? Visit the ' +\n",
              "            '<a target=\"_blank\" href=https://colab.research.google.com/notebooks/data_table.ipynb>data table notebook</a>'\n",
              "            + ' to learn more about interactive tables.';\n",
              "          element.innerHTML = '';\n",
              "          dataTable['output_type'] = 'display_data';\n",
              "          await google.colab.output.renderOutput(dataTable, element);\n",
              "          const docLink = document.createElement('div');\n",
              "          docLink.innerHTML = docLinkHtml;\n",
              "          element.appendChild(docLink);\n",
              "        }\n",
              "      </script>\n",
              "    </div>\n",
              "  </div>\n",
              "  "
            ]
          },
          "metadata": {},
          "execution_count": 46
        }
      ]
    },
    {
      "cell_type": "markdown",
      "source": [
        "# Предсказание reviewer_score"
      ],
      "metadata": {
        "_uuid": "6792e4ff851b10ce6e0dc46bb8b81e066a6026e7",
        "id": "sLbmKpKRQ_I_"
      }
    },
    {
      "cell_type": "code",
      "source": [
        "# Импортируем библиотеки для визуализации\n",
        "import matplotlib.pyplot as plt\n",
        "import seaborn as sns\n",
        "%matplotlib inline\n",
        "\n",
        "# Загружаем специальный удобный инструмент для разделения датасета:\n",
        "from sklearn.model_selection import train_test_split\n",
        "\n",
        "# Всегда фиксируйте RANDOM_SEED, чтобы ваши эксперименты были воспроизводимы!\n",
        "RANDOM_SEED = 42"
      ],
      "metadata": {
        "_uuid": "5176528611b2a898af937dedfdb89661d9fd1870",
        "execution": {
          "iopub.status.busy": "2022-03-19T17:20:37.342532Z",
          "iopub.execute_input": "2022-03-19T17:20:37.342787Z",
          "iopub.status.idle": "2022-03-19T17:20:37.493777Z",
          "shell.execute_reply.started": "2022-03-19T17:20:37.342758Z",
          "shell.execute_reply": "2022-03-19T17:20:37.492947Z"
        },
        "trusted": true,
        "id": "969d0BN_Q_JA"
      },
      "execution_count": null,
      "outputs": []
    },
    {
      "cell_type": "code",
      "source": [
        "# Теперь выделим тестовую часть\n",
        "train_data = reviews_df.query('sample == 1').drop(['sample'], axis=1)\n",
        "test_data = reviews_df.query('sample == 0').drop(['sample'], axis=1)\n",
        "\n",
        "y = train_data.reviewer_score.values            # наш таргет\n",
        "X = train_data.drop(['reviewer_score','review','review_clean'], axis=1)\n",
        "\n",
        "# X = X[['is_bad_review','pos','neg','compound','doc2vec_vector_0','doc2vec_vector_1','doc2vec_vector_2','doc2vec_vector_3','doc2vec_vector_4','word_room',\n",
        "#       'word_small','nb_chars','word_nothing','word_good','neu','nb_words','word_location','word_everthing','word_staff','word_breakfast']]\n",
        "# X.head()"
      ],
      "metadata": {
        "execution": {
          "iopub.status.busy": "2022-03-19T17:20:37.494845Z",
          "iopub.execute_input": "2022-03-19T17:20:37.495130Z",
          "iopub.status.idle": "2022-03-19T17:20:39.668505Z",
          "shell.execute_reply.started": "2022-03-19T17:20:37.495099Z",
          "shell.execute_reply": "2022-03-19T17:20:39.667549Z"
        },
        "trusted": true,
        "id": "7ap-l2M2Q_JA"
      },
      "execution_count": null,
      "outputs": []
    },
    {
      "cell_type": "code",
      "source": [
        "# Воспользуемся специальной функцие train_test_split для разбивки тестовых данных\n",
        "# выделим 20% данных на валидацию (параметр test_size)\n",
        "X_train, X_test, y_train, y_test = train_test_split(X, y, test_size=0.2, random_state=RANDOM_SEED)"
      ],
      "metadata": {
        "execution": {
          "iopub.status.busy": "2022-03-19T17:20:39.669845Z",
          "iopub.execute_input": "2022-03-19T17:20:39.670119Z",
          "iopub.status.idle": "2022-03-19T17:20:41.629352Z",
          "shell.execute_reply.started": "2022-03-19T17:20:39.670087Z",
          "shell.execute_reply": "2022-03-19T17:20:41.628341Z"
        },
        "trusted": true,
        "id": "3QuZQEo-Q_JA"
      },
      "execution_count": null,
      "outputs": []
    },
    {
      "cell_type": "code",
      "source": [
        "# проверяем\n",
        "test_data.shape, train_data.shape, X.shape, X_train.shape, X_test.shape"
      ],
      "metadata": {
        "execution": {
          "iopub.status.busy": "2022-03-19T17:20:41.630831Z",
          "iopub.execute_input": "2022-03-19T17:20:41.631132Z",
          "iopub.status.idle": "2022-03-19T17:20:41.638611Z",
          "shell.execute_reply.started": "2022-03-19T17:20:41.631101Z",
          "shell.execute_reply": "2022-03-19T17:20:41.637647Z"
        },
        "trusted": true,
        "colab": {
          "base_uri": "https://localhost:8080/"
        },
        "id": "hDkuNxWZQ_JA",
        "outputId": "6ee7dc07-3bba-4f73-f273-e58cce5d0be3"
      },
      "execution_count": null,
      "outputs": [
        {
          "output_type": "execute_result",
          "data": {
            "text/plain": [
              "((12821, 3860), (38753, 3860), (38753, 3857), (31002, 3857), (7751, 3857))"
            ]
          },
          "metadata": {},
          "execution_count": 50
        }
      ]
    },
    {
      "cell_type": "code",
      "source": [
        "# Импортируем необходимые библиотеки:\n",
        "from sklearn.ensemble import RandomForestRegressor # инструмент для создания и обучения модели\n",
        "from sklearn import metrics # инструменты для оценки точности модели"
      ],
      "metadata": {
        "execution": {
          "iopub.status.busy": "2022-03-19T17:20:41.639874Z",
          "iopub.execute_input": "2022-03-19T17:20:41.640207Z",
          "iopub.status.idle": "2022-03-19T17:20:41.771487Z",
          "shell.execute_reply.started": "2022-03-19T17:20:41.640166Z",
          "shell.execute_reply": "2022-03-19T17:20:41.770611Z"
        },
        "trusted": true,
        "id": "xQ6zTbTlQ_JB"
      },
      "execution_count": null,
      "outputs": []
    },
    {
      "cell_type": "code",
      "source": [
        "# Создаём модель (НАСТРОЙКИ НЕ ТРОГАЕМ)\n",
        "model = RandomForestRegressor(n_estimators=100, verbose=1, n_jobs=-1, random_state=RANDOM_SEED)"
      ],
      "metadata": {
        "execution": {
          "iopub.status.busy": "2022-03-19T17:20:41.772791Z",
          "iopub.execute_input": "2022-03-19T17:20:41.773064Z",
          "iopub.status.idle": "2022-03-19T17:20:41.781843Z",
          "shell.execute_reply.started": "2022-03-19T17:20:41.773034Z",
          "shell.execute_reply": "2022-03-19T17:20:41.781067Z"
        },
        "trusted": true,
        "id": "O8OZUiWwQ_JB"
      },
      "execution_count": null,
      "outputs": []
    },
    {
      "cell_type": "code",
      "source": [
        "# Обучаем модель на тестовом наборе данных\n",
        "model.fit(X_train, y_train)\n",
        "\n",
        "# Используем обученную модель для предсказания рейтинга ресторанов в тестовой выборке.\n",
        "# Предсказанные значения записываем в переменную y_pred\n",
        "y_pred = model.predict(X_test)"
      ],
      "metadata": {
        "execution": {
          "iopub.status.busy": "2022-03-19T17:20:41.783433Z",
          "iopub.execute_input": "2022-03-19T17:20:41.783756Z",
          "iopub.status.idle": "2022-03-19T17:30:21.882844Z",
          "shell.execute_reply.started": "2022-03-19T17:20:41.783712Z",
          "shell.execute_reply": "2022-03-19T17:30:21.881524Z"
        },
        "trusted": true,
        "colab": {
          "base_uri": "https://localhost:8080/"
        },
        "id": "EDihSDK2Q_JB",
        "outputId": "da755ade-4b28-4c9b-88aa-549e5b8480bb"
      },
      "execution_count": null,
      "outputs": [
        {
          "output_type": "stream",
          "name": "stderr",
          "text": [
            "[Parallel(n_jobs=-1)]: Using backend ThreadingBackend with 2 concurrent workers.\n",
            "[Parallel(n_jobs=-1)]: Done  46 tasks      | elapsed:  9.1min\n",
            "[Parallel(n_jobs=-1)]: Done 100 out of 100 | elapsed: 19.6min finished\n",
            "[Parallel(n_jobs=2)]: Using backend ThreadingBackend with 2 concurrent workers.\n",
            "[Parallel(n_jobs=2)]: Done  46 tasks      | elapsed:    0.2s\n",
            "[Parallel(n_jobs=2)]: Done 100 out of 100 | elapsed:    0.4s finished\n"
          ]
        }
      ]
    },
    {
      "cell_type": "code",
      "source": [
        "# Сравниваем предсказанные значения (y_pred) с реальными (y_test), и смотрим насколько они в среднем отличаются\n",
        "# Метрика называется Mean Absolute Error (MAE) и показывает среднее отклонение предсказанных значений от фактических.\n",
        "print('MAE:', metrics.mean_absolute_error(y_test, y_pred))"
      ],
      "metadata": {
        "execution": {
          "iopub.status.busy": "2022-03-19T17:30:21.885852Z",
          "iopub.execute_input": "2022-03-19T17:30:21.886298Z",
          "iopub.status.idle": "2022-03-19T17:30:21.894335Z",
          "shell.execute_reply.started": "2022-03-19T17:30:21.886243Z",
          "shell.execute_reply": "2022-03-19T17:30:21.893300Z"
        },
        "trusted": true,
        "colab": {
          "base_uri": "https://localhost:8080/"
        },
        "id": "ldxWRW3YQ_JB",
        "outputId": "1596c0b6-4951-4f0a-fd08-5bc05918de1c"
      },
      "execution_count": null,
      "outputs": [
        {
          "output_type": "stream",
          "name": "stdout",
          "text": [
            "MAE: 0.8143065200572482\n"
          ]
        }
      ]
    },
    {
      "cell_type": "code",
      "source": [
        "# в RandomForestRegressor есть возможность вывести самые важные признаки для модели\n",
        "plt.rcParams['figure.figsize'] = (25,10)\n",
        "feat_importances = pd.Series(model.feature_importances_, index=X.columns)\n",
        "\n",
        "plt.subplot(1, 2, 2)\n",
        "feat_importances.nlargest(20).plot(kind='barh')\n",
        "plt.subplot(1, 2, 1)\n",
        "feat_importances.nlargest(10).plot(kind='bar')"
      ],
      "metadata": {
        "execution": {
          "iopub.status.busy": "2022-03-19T17:30:21.896447Z",
          "iopub.execute_input": "2022-03-19T17:30:21.897152Z",
          "iopub.status.idle": "2022-03-19T17:30:22.622646Z",
          "shell.execute_reply.started": "2022-03-19T17:30:21.897091Z",
          "shell.execute_reply": "2022-03-19T17:30:22.621741Z"
        },
        "trusted": true,
        "colab": {
          "base_uri": "https://localhost:8080/",
          "height": 448
        },
        "id": "cUKqoofoQ_JC",
        "outputId": "b9568dff-7539-49ab-861a-eece489a3047"
      },
      "execution_count": null,
      "outputs": [
        {
          "output_type": "execute_result",
          "data": {
            "text/plain": [
              "<matplotlib.axes._subplots.AxesSubplot at 0x7f97fda41950>"
            ]
          },
          "metadata": {},
          "execution_count": 55
        },
        {
          "output_type": "display_data",
          "data": {
            "text/plain": [
              "<Figure size 1800x720 with 2 Axes>"
            ],
            "image/png": "[encoded data removed]"
          },
          "metadata": {
            "needs_background": "light"
          }
        }
      ]
    },
    {
      "cell_type": "code",
      "source": [
        "# Mean Absolute Percentage Error (MAPE)\n",
        "def mean_absolute_percentage_error(y_true, y_pred):\n",
        "    y_true, y_pred = np.array(y_true), np.array(y_pred)\n",
        "    return np.mean(np.abs((y_true - y_pred) / y_true)) * 100"
      ],
      "metadata": {
        "execution": {
          "iopub.status.busy": "2022-03-19T17:30:22.623897Z",
          "iopub.execute_input": "2022-03-19T17:30:22.624184Z",
          "iopub.status.idle": "2022-03-19T17:30:22.629366Z",
          "shell.execute_reply.started": "2022-03-19T17:30:22.624154Z",
          "shell.execute_reply": "2022-03-19T17:30:22.628440Z"
        },
        "trusted": true,
        "id": "sXEhG2hKQ_JC"
      },
      "execution_count": null,
      "outputs": []
    },
    {
      "cell_type": "code",
      "source": [
        "print('MAE:', metrics.mean_absolute_error(y_test, y_pred.round(1)))\n",
        "print('MAPE:', mean_absolute_percentage_error(y_test, y_pred.round(1)))"
      ],
      "metadata": {
        "execution": {
          "iopub.status.busy": "2022-03-19T17:30:22.630715Z",
          "iopub.execute_input": "2022-03-19T17:30:22.631378Z",
          "iopub.status.idle": "2022-03-19T17:30:22.642944Z",
          "shell.execute_reply.started": "2022-03-19T17:30:22.631338Z",
          "shell.execute_reply": "2022-03-19T17:30:22.642026Z"
        },
        "trusted": true,
        "colab": {
          "base_uri": "https://localhost:8080/"
        },
        "id": "MFyuyOI1Q_JC",
        "outputId": "ed62663b-9fd3-413b-cf7c-12cfd6a6b369"
      },
      "execution_count": null,
      "outputs": [
        {
          "output_type": "stream",
          "name": "stdout",
          "text": [
            "MAE: 0.8143852406141142\n",
            "MAPE: 10.838607806602187\n"
          ]
        }
      ]
    }
  ]
}