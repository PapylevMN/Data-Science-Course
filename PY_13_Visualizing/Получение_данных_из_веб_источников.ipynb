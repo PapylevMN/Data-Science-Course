{
  "cells": [
    {
      "cell_type": "markdown",
      "metadata": {
        "id": "GeZHQyA-wmTf"
      },
      "source": [
        "# <center> Парсинг сайтов и основы HTML\n"
      ]
    },
    {
      "cell_type": "markdown",
      "metadata": {
        "id": "xvvXuxHxwnxU"
      },
      "source": [
        "Спикер: Рысистов Андрей\n",
        "\n",
        "Контакты:\n",
        "* Телеграм @Rysistov\n",
        "* Slack @Андрей Рысистов (эксперт)\n",
        "* Почта mr.rysistov@skillfactory.ru\n",
        "\n",
        "\n",
        "\n",
        "[Сообщество по Python](https://yandex.ru/q/loves/pythontalk/) на Кью  \n",
        "[Сообщество по Data Science и анализу данных](https://yandex.ru/q/loves/datatalk/) на Кью "
      ]
    },
    {
      "cell_type": "markdown",
      "metadata": {
        "id": "hZ1OtBQRwmTh"
      },
      "source": [
        "### План занятия\n",
        "0. Что за зверь web scraping?\n",
        "1. Обсудим основы клиент-серверного взаимодействия\n",
        "2. Поговорим о протоколе HTTP и типах его запросов\n",
        "3. Прикоснемся к HTML\n",
        "4. Библиотека requests и простейшие запросы\n",
        "5. Библиотека Beautiful Soup\n",
        "6. Практический пример: напарсим свой датасет"
      ]
    },
    {
      "cell_type": "markdown",
      "metadata": {
        "id": "IxanvYywwmTj"
      },
      "source": [
        "### <center> Web scaping\n",
        "\n",
        "Web scraping — это процесс извлечения информации из Интернета.\n",
        "\n",
        "Когда мы говорим “web scraping” , подразумевается именно автоматизация этого процесса.\n",
        "\n",
        "Зачем нужен web scraping?\n",
        "\n",
        "- можно собирать цены на товары конкурентов для оптимизации своей стратегии ценообразования;\n",
        "- следить за трендами обсуждений в соцмедиа;\n",
        "- собирать отзывы на свои товары/услуги на различных площадках для анализа;\n",
        "- собирать контактные данные пользователей из соцсетей или форумов для дальнейшего взаимодействия с ними;\n",
        "- и еще много всего."
      ]
    },
    {
      "cell_type": "markdown",
      "metadata": {
        "id": "lHrOKmAdwmTk"
      },
      "source": [
        "### <center> Основы клиент-серверного взаимодействия\n",
        "\n",
        "Клиенты и серверы взаимодействуют, обмениваясь одиночными сообщениями \n",
        "(а не потоком данных). \n",
        "\n",
        "Сообщения, отправленные клиентом (например, веб-браузером), называются запросами, а сообщения, отправленные сервером – ответами.\n",
        "\n",
        "Фактически клиент и сервер — это программное обеспечение. \n",
        "\n",
        "Обычно эти программы расположены на разных вычислительных машинах и взаимодействуют между собой через вычислительную сеть посредством сетевых протоколов, но они могут быть расположены также и на одной машине. \n",
        "\n",
        "#### <center> ![Foo](https://raw.githubusercontent.com/alnagaev/reni_land/master/http1-request-response.png)"
      ]
    },
    {
      "cell_type": "markdown",
      "metadata": {
        "id": "8lZV39fIwmTk"
      },
      "source": [
        "### <center> HTTP\n",
        "\n",
        "HTTP — это протокол клиент-серверного взаимодействия, позволяющий получать различные ресурсы, например HTML-документы. Протокол HTTP лежит в основе обмена данными в интернете. \n",
        "    \n",
        "Сердцевиной веб-общения является запрос, который отправляется через Единый указатель ресурсов (URL).\n",
        "\n",
        "Структура URL очень проста и состоит из следующих компонентов\n",
        "\n",
        "![f](https://sitechecker.pro/wp-content/uploads/2017/12/url-structure.jpg)\n",
        "\n",
        "`https://` это протокол. Он отображает, какой протокол браузер должен использовать. Обычно это HTTP-протокол или его безопасная версия - HTTPS. \n",
        "\n",
        "`sitechecker.pro/` это доменное имя. Оно означает, какой веб-сервер должен быть запрошен. В качестве альтернативы может быть использован и IP-адрес, но это делается редко, поскольку запоминать IP сложнее, и это не популярно в интернете.\n",
        "Подробнее про IP и домены https://ru.wikipedia.org/wiki/DNS\n",
        "\n",
        "\n",
        "`/path/to/myfile.html` это адрес ресурса на веб-сервере. В прошлом, адрес отображал местоположение реального файла в реальной директории на веб-сервере. В наши дни это чаще всего абстракция, позволяющая обрабатывать адреса и отображать тот или иной контент из баз данных.\n",
        "\n",
        "`?name=article&topic=seo` это дополнительные параметры, которые браузер сообщает веб-серверу. Эти параметры - список пар ключ/значение, которые разделены символом &. Веб-сервер может использовать эти параметры для исполнения дополнительных команд перед тем как отдать ресурс. \n",
        "\n",
        "`#top` это якорь на другую часть того же самого ресурса. Якорь представляет собой вид \"закладки\" внутри ресурса, которая переадресовывает браузер на \"заложенную\" часть ресурса. В HTML-документе, например, браузер может переместиться в точку, где установлен якорь\n",
        "http://tehnopost.info/html/10-yakor-ankor-na-veb-stranice.html#ssilka_na_drugom_domene\n",
        "    \n",
        "### Методы запросов\n",
        "\n",
        "HTTP методы\n",
        "\n",
        "Для того, чтобы указать серверу на то, какое действие мы хотим произвести с ресурсом, используется тип HTTP-запроса, который также называется HTTP метод. Существует несколько HTTP методов, которые описывают действия с ресурсами. Наиболее часто используемыми являются GET и POST. \n",
        "\n",
        "Подробнее про методы HTTP можно почитать [здесь](https://developer.mozilla.org/ru/docs/Web/HTTP/Methods).\n",
        "\n",
        "### GET — получение ресурса\n",
        "\n",
        "Метод GET запрашивает информацию из указанного источника и не влияет на его содержимое. Запрос доступен для кеширования данных и добавления в закладки. Длина запроса ограничена (макс. длина URL - 2048).\n",
        "\n",
        "Примечание: Строка запроса (имя/значение) отправляется в URL \n",
        "\n",
        "``/login-check.php?argument1=value1&argument2=value2``\n",
        "\n",
        "### POST — создание ресурса\n",
        "\n",
        "Метод POST используется для отправки данных, что может оказывать влияние на содержимое ресурса. В отличие от метода GET запросы POST не могут быть кешированы, они не остаются в истории браузера и их нельзя добавить в закладки. Запросы POST не ограничиваются в объеме.\n",
        "\n",
        "Примечание: Отправляемые данные содержатся в теле запроса. "
      ]
    },
    {
      "cell_type": "markdown",
      "metadata": {
        "id": "opzJqTKbwmTn"
      },
      "source": [
        "### <center> HTML"
      ]
    },
    {
      "cell_type": "markdown",
      "metadata": {
        "id": "f5_nSpgdwmTn"
      },
      "source": [
        "Вот мы получили HTML от сервера. А что это? Это файл, устроенный по определенному принципу.\n",
        "\n",
        "HTML (от англ. HyperText Markup Language — «язык гипертекстовой разметки») —  стандартизированный язык разметки документов в интернете. Большинство веб-страниц содержат описание разметки на языке HTML. Язык HTML интерпретируется браузерами; полученный в результате интерпретации текст отображается на экране монитора компьютера или мобильного устройства.\n",
        "\n",
        "**Тэги**\n",
        "\n",
        "Вся информация о форматировании документа сосредоточена в его фрагментах - тегах - заключенных между знаками «<» и «>».\n",
        "\n",
        "Большинство HTML-тегов — парные, например: `<p> </p>`\n",
        "\n",
        "Между начальным и закрывающим тегами находится содержимое тега — контент.\n",
        "\n",
        "Можно вкладывать элементы внутрь других элементов — это называется вложенностью.\n",
        "`<p><i>Текст</i></p>`\n",
        "\n",
        "При вложении следует соблюдать порядок их закрытия (принцип «матрёшки»), например, следующая запись будет неверной (но все равно рабочей):\n",
        "\n",
        "`<p><i>Текст</p></i>`\n",
        "\n",
        "**Атрибуты тэгов**\n",
        "\n",
        "Атрибуты содержат дополнительную информацию о том, как браузер должен обработать текущий тег.\n",
        "\n",
        "Например, атрибут class позволяет дать элементу идентификационное имя, которое в дальнейшем может быть использовано для обращения к элементу с информацией о стиле и прочими вещами.\n",
        "\n",
        "Каждому элементу можно присвоить несколько значений class и только одно значение id. \n",
        "\n",
        "Множественные значения class записываются через пробел `<div class=\"nav_top\">`\n",
        "\n",
        "Элементы, находящиеся внутри тега `<html>`, \n",
        "образуют дерево документа, так называемую объектную модель документа,\n",
        "DOM (document object model). При этом элемент `<html>` является корневым элементом.\n",
        "\n",
        "\n",
        "#### <center> ![](https://html5book.ru/wp-content/uploads/2014/10/DOM.png)\n",
        "\n",
        "Чтобы разобраться во взаимодействии элементов веб-страницы, необходимо рассмотреть так называемые «родственные отношения» между элементами. Отношения между множественными вложенными элементами подразделяются на родительские, дочерние и сестринские.\n",
        "\n",
        "**Предок** — элемент, который заключает в себе другие элементы. На рисунке 1 предком для всех элементов является `<html>`. В то же время элемент `<body>` является предком для всех содержащихся в нем тегов: `<h1>`, `<p>`, `<span>`, `<nav>` и т.д.\n",
        "\n",
        "**Потомок** — элемент, расположенный внутри одного или более типов элементов. Например, `<body>` является потомком `<html>`, а элемент `<p>` является потомком одновременно для `<body>` и `<html>`"
      ]
    },
    {
      "cell_type": "markdown",
      "metadata": {
        "id": "Dl2itEzAwmTq"
      },
      "source": [
        "### <center> Библиотека requests\n",
        "\n",
        "Requests — это библиотека, которую вы можете использовать для отправки всех видов HTTP-запросов. У нее много функций, начиная от передачи параметров в URL-адресах до отправки пользовательских заголовков и проверки SSL.\n",
        "\n",
        "Документация: https://requests.readthedocs.io/en/master/user/quickstart/"
      ]
    },
    {
      "cell_type": "code",
      "execution_count": 1,
      "metadata": {
        "id": "ydKBmwp3wmTq"
      },
      "outputs": [],
      "source": [
        "import requests\n",
        "import pprint"
      ]
    },
    {
      "cell_type": "code",
      "execution_count": 2,
      "metadata": {
        "colab": {
          "base_uri": "https://localhost:8080/"
        },
        "id": "g78jhkTxwmTr",
        "outputId": "751f81c5-c6e4-4297-fad9-d02ebf6e3779"
      },
      "outputs": [
        {
          "name": "stdout",
          "output_type": "stream",
          "text": [
            "200\n"
          ]
        }
      ],
      "source": [
        "# метод get\n",
        "res = requests.get('https://blog.skillfactory.ru/')\n",
        "# res\n",
        "print(res.status_code)"
      ]
    },
    {
      "cell_type": "code",
      "execution_count": 3,
      "metadata": {
        "colab": {
          "base_uri": "https://localhost:8080/"
        },
        "id": "2CjyLBo8wmTr",
        "outputId": "299924f7-d048-4036-829c-f120ac294c8b"
      },
      "outputs": [
        {
          "name": "stdout",
          "output_type": "stream",
          "text": [
            "('<!doctype html>\\n'\n",
            " '<html lang=\"ru-RU\">\\n'\n",
            " '\\n'\n",
            " '<head>\\n'\n",
            " '\\t\\n'\n",
            " '\\t<!-- Google Tag Manager -->\\n'\n",
            " \"\\t<script>(function(w,d,s,l,i){w[l]=w[l]||[];w[l].push({'gtm.start':\\n\"\n",
            " \"\\tnew Date().getTime(),event:'gtm.js'});var f=d.getElementsByTagName(s)[0],\\n\"\n",
            " \"\\tj=d.createElement(s),dl=l!='dataLayer'?'&l='+l:'';j.async=true;j.src=\\n\"\n",
            " '\\t'\n",
            " \"'https://www.googletagmanager.com/gtm.js?id='+i+dl;f.parentNode.insertBefore(j,f);\\n\"\n",
            " \"\\t})(window,document,'script','dataLayer','GTM-NGNB83G');</script>\\n\"\n",
            " '\\t<!-- End Google Tag Manager -->\\n'\n",
            " '\\n'\n",
            " '\\n'\n",
            " '\\t<meta charset=\"UTF-8\">\\n'\n",
            " '\\t<meta name=\"viewport\" content=\"width=device-width, initial-scale=1.0, '\n",
            " 'maximum-scale=1.0, user-scalable=0\" />\\n'\n",
            " '\\t<meta name=\"robots\" content=\"max-image-preview:large, max-snippet:-1, '\n",
            " 'max-video-preview:-1\">\\n'\n",
            " '\\t\\n'\n",
            " '\\t\\t\\t\\n'\n",
            " '\\t\\n'\n",
            " '\\t\\n'\n",
            " '<style>\\n'\n",
            " '\\t#single-post-style .single-content p {\\n'\n",
            " '\\t\\tfont-size: 20px;\\n'\n",
            " '\\t\\tline-height: 140%;\\n'\n",
            " '\\t}\\n'\n",
            " '\\t#single-post-style .single-content p {\\n'\n",
            " '\\t\\tmargin-bottom: 30px;\\n'\n",
            " '\\t}\\n'\n",
            " '\\t#single-post-style ul,\\n'\n",
            " '\\t#single-post-style ol {\\n'\n",
            " '\\t\\tmargin: -8px 0 40px 0;\\n'\n",
            " '\\t}\\n'\n",
            " '\\t#single-post-style li:not(:last-child) {\\n'\n",
            " '\\t\\tmargin-bot')\n"
          ]
        }
      ],
      "source": [
        "# браузер отрисовал бы страницу на основе данного текста\n",
        "pprint.pprint(res.text[:1000])"
      ]
    },
    {
      "cell_type": "code",
      "execution_count": 4,
      "metadata": {
        "colab": {
          "base_uri": "https://localhost:8080/"
        },
        "id": "vcEaU8tDwmTs",
        "outputId": "0b0eeb1c-4d20-4cc5-cc10-29dbab5c4983"
      },
      "outputs": [
        {
          "name": "stdout",
          "output_type": "stream",
          "text": [
            "404\n",
            "('<!doctype html>\\n'\n",
            " '<html lang=\"ru-RU\">\\n'\n",
            " '\\n'\n",
            " '<head>\\n'\n",
            " '\\t\\n'\n",
            " '\\t<!-- Google Tag Manager -->\\n'\n",
            " \"\\t<script>(function(w,d,s,l,i){w[l]=w[l]||[];w[l].push({'gtm.start':\\n\"\n",
            " \"\\tnew Date().getTime(),event:'gtm.js'});var f=d.getElementsByTagName(s)[0],\\n\"\n",
            " \"\\tj=d.createElement(s),dl=l!='dataLayer'?'&l='+l:'';j.async=true;j.src=\\n\"\n",
            " '\\t'\n",
            " \"'https://www.googletagmanager.com/gtm.js?id='+i+dl;f.parentNode.insertBefore(j,f);\\n\"\n",
            " \"\\t})(window,document,'script','dataLayer','GTM-NGNB83G');</script>\\n\"\n",
            " '\\t<!-- End Google Tag Manager -->\\n'\n",
            " '\\n'\n",
            " '\\n'\n",
            " '\\t<meta charset=\"UTF-8\">\\n'\n",
            " '\\t<meta name=\"viewport\" content=\"width=device-width, initial-scale=1.0, '\n",
            " 'maximum-scale=1.0, user-scalable=0\" />\\n'\n",
            " '\\t<meta name=\"robots\" content=\"max-image-preview:large, max-snippet:-1, '\n",
            " 'max-video-preview:-1\">\\n'\n",
            " '\\t\\n'\n",
            " '\\t\\t\\t\\n'\n",
            " '\\t\\n'\n",
            " '\\t\\n'\n",
            " '<style>\\n'\n",
            " '\\t#single-post-style .single-content p {\\n'\n",
            " '\\t\\tfont-size: 20px;\\n'\n",
            " '\\t\\tline-height: 140%;\\n'\n",
            " '\\t}\\n'\n",
            " '\\t#single-post-style .single-content p {\\n'\n",
            " '\\t\\tmargin-bottom: 30px;\\n'\n",
            " '\\t}\\n'\n",
            " '\\t#single-post-style ul,\\n'\n",
            " '\\t#single-post-style ol {\\n'\n",
            " '\\t\\tmargin: -8px 0 40px 0;\\n'\n",
            " '\\t}\\n'\n",
            " '\\t#single-post-style li:not(:last-child) {\\n'\n",
            " '\\t\\tmargin-bot')\n"
          ]
        }
      ],
      "source": [
        "# получаем плохой статус\n",
        "bad_request = requests.get('https://blog.skillfactory.ru/secret')\n",
        "print(bad_request.status_code)\n",
        "pprint.pprint(res.text[:1000])"
      ]
    },
    {
      "cell_type": "code",
      "execution_count": 5,
      "metadata": {
        "colab": {
          "base_uri": "https://localhost:8080/",
          "height": 193
        },
        "id": "sL2QZt4xwmTt",
        "outputId": "5971ae1e-4011-4faf-eedd-dfdd93a64a59"
      },
      "outputs": [
        {
          "name": "stdout",
          "output_type": "stream",
          "text": [
            "200\n"
          ]
        },
        {
          "data": {
            "text/plain": [
              "'<!doctype html>\\n<html lang=\"ru-RU\">\\n\\n<head>\\n\\t\\n\\t<!-- Google Tag Manager -->\\n\\t<script>(function(w,d,s,l,i){w[l]=w[l]||[];w[l].push({\\'gtm.start\\':\\n\\tnew Date().getTime(),event:\\'gtm.js\\'});var f=d.getElementsByTagName(s)[0],\\n\\tj=d.createElement(s),dl=l!=\\'dataLayer\\'?\\'&l=\\'+l:\\'\\';j.async=true;j.src=\\n\\t\\'https://www.googletagmanager.com/gtm.js?id=\\'+i+dl;f.parentNode.insertBefore(j,f);\\n\\t})(window,document,\\'script\\',\\'dataLayer\\',\\'GTM-NGNB83G\\');</script>\\n\\t<!-- End Google Tag Manager -->\\n\\n\\n\\t<meta charset=\"UTF-8\">\\n\\t<meta name=\"viewport\" content=\"width=device-width, initial-scale=1.0, maximum-scale=1.0, user-scalable=0\" />\\n\\t<meta name=\"robots\" content=\"max-image-preview:large, max-snippet:-1, max-video-preview:-1\">\\n\\t\\n\\t\\t\\t\\t<meta property=\"og:image\" content=\"https://blog.skillfactory.ru/wp-content/uploads/2023/03/325h325-114.png\" />\\n\\t\\t\\n\\t\\n\\t\\n<style>\\n\\t#single-post-style .single-content p {\\n\\t\\tfont-size: 20px;\\n\\t\\tline-height: 140%;\\n\\t}\\n\\t#single-post-style .single-content p {\\n\\t\\tmargin-bottom: 30px;\\n\\t}\\n\\t#single-post-sty'"
            ]
          },
          "execution_count": 5,
          "metadata": {},
          "output_type": "execute_result"
        }
      ],
      "source": [
        "# cформируем поисковый запрос, обратите внимание на его формат\n",
        "URL = 'https://blog.skillfactory.ru/?s=python'\n",
        "res = requests.get(URL)\n",
        "print(res.status_code)\n",
        "res.text[:1000]"
      ]
    },
    {
      "cell_type": "code",
      "execution_count": 6,
      "metadata": {
        "colab": {
          "base_uri": "https://localhost:8080/",
          "height": 176
        },
        "id": "yI7M0EejwmTt",
        "outputId": "0e626c72-0188-4efd-cd4f-ae313bc4b288"
      },
      "outputs": [
        {
          "data": {
            "text/plain": [
              "'<!doctype html>\\n<html lang=\"ru-RU\">\\n\\n<head>\\n\\t\\n\\t<!-- Google Tag Manager -->\\n\\t<script>(function(w,d,s,l,i){w[l]=w[l]||[];w[l].push({\\'gtm.start\\':\\n\\tnew Date().getTime(),event:\\'gtm.js\\'});var f=d.getElementsByTagName(s)[0],\\n\\tj=d.createElement(s),dl=l!=\\'dataLayer\\'?\\'&l=\\'+l:\\'\\';j.async=true;j.src=\\n\\t\\'https://www.googletagmanager.com/gtm.js?id=\\'+i+dl;f.parentNode.insertBefore(j,f);\\n\\t})(window,document,\\'script\\',\\'dataLayer\\',\\'GTM-NGNB83G\\');</script>\\n\\t<!-- End Google Tag Manager -->\\n\\n\\n\\t<meta charset=\"UTF-8\">\\n\\t<meta name=\"viewport\" content=\"width=device-width, initial-scale=1.0, maximum-scale=1.0, user-scalable=0\" />\\n\\t<meta name=\"robots\" content=\"max-image-preview:large, max-snippet:-1, max-video-preview:-1\">\\n\\t\\n\\t\\t\\t\\t<meta property=\"og:image\" content=\"https://blog.skillfactory.ru/wp-content/uploads/2023/03/325h325-114.png\" />\\n\\t\\t\\n\\t\\n\\t\\n<style>\\n\\t#single-post-style .single-content p {\\n\\t\\tfont-size: 20px;\\n\\t\\tline-height: 140%;\\n\\t}\\n\\t#single-post-style .single-content p {\\n\\t\\tmargin-bottom: 30px;\\n\\t}\\n\\t#single-post-sty'"
            ]
          },
          "execution_count": 6,
          "metadata": {},
          "output_type": "execute_result"
        }
      ],
      "source": [
        "# в request можно передать параметры запроса (для get), данные (для post) и заголовки (headers) в виде словарей. \n",
        "# сегодня не будем рассматривать примеры с необходимостью передачи заголовка, \n",
        "# но в практике вам это точно понадобится\n",
        "URL = 'https://blog.skillfactory.ru/'\n",
        "params = {\n",
        "    's': 'python'\n",
        "}\n",
        "headers = {\n",
        "    'user-agent': 'Mozilla/5.0 (Linux; Android 6.0; Nexus 5 Build/MRA58N) AppleWebKit/537.36 (KHTML, like Gecko) Chrome/88.0.4324.152 Mobile Safari/537.36'\n",
        "}\n",
        "\n",
        "req = requests.get(URL, params=params, headers=headers)\n",
        "\n",
        "req.text[:1000]"
      ]
    },
    {
      "cell_type": "markdown",
      "metadata": {
        "id": "_hm8C63hwmTv"
      },
      "source": [
        "### <center> Beautiful Soup\n",
        "\n",
        "Beautiful Soup — это библиотека для извлечения данных из HTML и XML. С ее помощью можно извлечь из сложной структуры разметки нужную информацию. \n",
        "\n",
        "Документация: https://www.crummy.com/software/BeautifulSoup/bs4/doc/"
      ]
    },
    {
      "cell_type": "code",
      "execution_count": 7,
      "metadata": {
        "id": "fGYwRYYywmTv"
      },
      "outputs": [],
      "source": [
        "# как разбирать всю эту полученнную разметку, чтобы достать из нее нужные данные? Поможет BeautifulSoup.\n",
        "from bs4 import BeautifulSoup"
      ]
    },
    {
      "cell_type": "markdown",
      "metadata": {
        "id": "NW5LopgowmTv"
      },
      "source": [
        "### Практика 1. Напишем скрипт, который будет отбирать посты из нужных хабов на habr.com"
      ]
    },
    {
      "cell_type": "code",
      "execution_count": 8,
      "metadata": {
        "id": "7AL7_eZgwmTv"
      },
      "outputs": [],
      "source": [
        "# определяем список хабов, которые нам интересны\n",
        "DESIRED_HUBS = 'нейронные'#['нейронные', 'big data', 'звук', 'финансы в it']"
      ]
    },
    {
      "cell_type": "code",
      "execution_count": 9,
      "metadata": {
        "id": "w2aZ_YScwmTw"
      },
      "outputs": [],
      "source": [
        "# получаем страницу с самыми свежими постами\n",
        "req = requests.get('https://habr.com/ru/all/')\n",
        "\n",
        "# создаем soup-объект и указываем, что работаем с html\n",
        "soup = BeautifulSoup(req.text)"
      ]
    },
    {
      "cell_type": "code",
      "execution_count": 10,
      "metadata": {
        "colab": {
          "base_uri": "https://localhost:8080/"
        },
        "id": "1D6Q-7uuwmTw",
        "outputId": "2b9a81d8-c5fd-48ca-fea7-c6e8ea29f2b9"
      },
      "outputs": [
        {
          "name": "stdout",
          "output_type": "stream",
          "text": [
            "<article class=\"tm-articles-list__item\" data-navigatable=\"\" id=\"732366\" tabindex=\"0\"><div class=\"tm-article-snippet tm-article-snippet\"><div class=\"tm-article-snippet__meta-container\"><div class=\"tm-article-snippet__meta\"><span class=\"tm-user-info tm-article-snippet__author\"><a class=\"tm-user-info__userpic\" href=\"/ru/users/NechkaP/\" title=\"NechkaP\"><div class=\"tm-entity-image\"><img alt=\"\" class=\"tm-entity-image__pic\" height=\"32\" src=\"//habrastorage.org/r/w64/getpro/habr/avatars/cb0/19d/a00/cb019da0030bc25953d2faa3c91086d2.jpg\" width=\"32\"/></div></a> <span class=\"tm-user-info__user tm-user-info__user_appearance-default\"><a class=\"tm-user-info__username\" href=\"/ru/users/NechkaP/\">\n",
            "      NechkaP\n",
            "      <!-- --></a> <span class=\"tm-article-datetime-published\"><time datetime=\"2023-04-28T21:50:36.000Z\" title=\"2023-04-29, 00:50\">33 минуты назад</time></span></span></span></div> <!-- --></div> <h2 class=\"tm-title tm-title_h2\"><a class=\"tm-title__link\" data-article-link=\"true\" data-test-id=\"article-snippet-title-link\" href=\"/ru/articles/732366/\"><span>Василиск Роко: задачка по теории игр или страшное и неизбежное будущее?</span></a></h2> <div class=\"tm-article-snippet__stats\"><div class=\"tm-article-complexity tm-article-complexity_complexity-low\"><span class=\"tm-svg-icon__wrapper tm-article-complexity__icon\"><svg class=\"tm-svg-img tm-svg-icon\" height=\"24\" width=\"24\"><title>Уровень сложности</title> <use xlink:href=\"/img/megazord-v28.261cd701..svg#complexity-low\"></use></svg></span> <span class=\"tm-article-complexity__label\">\n",
            "    Простой\n",
            "  </span></div> <div class=\"tm-article-reading-time\"><span class=\"tm-svg-icon__wrapper tm-article-reading-time__icon\"><svg class=\"tm-svg-img tm-svg-icon\" height=\"24\" width=\"24\"><title>Время на прочтение</title> <use xlink:href=\"/img/megazord-v28.261cd701..svg#clock\"></use></svg></span> <span class=\"tm-article-reading-time__label\">\n",
            "    6 мин\n",
            "  </span></div> <span class=\"tm-icon-counter tm-data-icons__item\"><svg class=\"tm-svg-img tm-icon-counter__icon\" height=\"24\" width=\"24\"><title>Количество просмотров</title> <use xlink:href=\"/img/megazord-v28.261cd701..svg#counter-views\"></use></svg> <span class=\"tm-icon-counter__value\">265</span></span></div> <!-- --> <!-- --> <!-- --> <!-- --></div> <div class=\"tm-data-icons\"><!-- --> <div class=\"tm-votes-meter tm-data-icons__item\"><svg class=\"tm-svg-img tm-votes-meter__icon tm-votes-meter__icon tm-votes-meter__icon_appearance-article\" height=\"24\" width=\"24\"><title>Рейтинг</title> <use xlink:href=\"/img/megazord-v28.261cd701..svg#counter-rating\"></use></svg> <span class=\"tm-votes-meter__value tm-votes-meter__value tm-votes-meter__value_appearance-article tm-votes-meter__value_rating\">0</span></div> <!-- --> <button class=\"bookmarks-button tm-data-icons__item\" title=\"Добавить в закладки\" type=\"button\"><span class=\"tm-svg-icon__wrapper bookmarks-button__icon\"><svg class=\"tm-svg-img tm-svg-icon\" height=\"24\" width=\"24\"><title>Добавить в закладки</title> <use xlink:href=\"/img/megazord-v28.261cd701..svg#counter-favorite\"></use></svg></span> <span class=\"bookmarks-button__counter\" title=\"Количество пользователей, добавивших публикацию в закладки\">\n",
            "    1\n",
            "  </span></button> <div class=\"tm-sharing tm-data-icons__item\" title=\"Поделиться\"><button class=\"tm-sharing__button\" type=\"button\"><svg class=\"tm-sharing__icon\" viewbox=\"0 0 24 24\" xmlns=\"http://www.w3.org/2000/svg\"><path d=\"M13.8 13.8V18l7.2-6.6L13.8 5v3.9C5 8.9 3 18.6 3 18.6c2.5-4.4 6-4.8 10.8-4.8z\" fill=\"currentColor\"></path></svg></button> <div class=\"v-portal\" style=\"display:none;\"></div></div> <div class=\"tm-article-comments-counter-link tm-data-icons__item\" title=\"Читать комментарии\"><a class=\"tm-article-comments-counter-link__link\" href=\"/ru/articles/732366/comments/\"><svg class=\"tm-svg-img tm-article-comments-counter-link__icon\" height=\"24\" width=\"24\"><title>Комментарии</title> <use xlink:href=\"/img/megazord-v28.261cd701..svg#counter-comments\"></use></svg> <span class=\"tm-article-comments-counter-link__value\">\n",
            "      0\n",
            "    </span></a> <!-- --></div> <div class=\"v-portal\" style=\"display:none;\"></div></div></article>\n"
          ]
        }
      ],
      "source": [
        "# извлекаем посты. find_all находит все указанные тэги и возвращает их список (со всеми вложениями)\n",
        "\n",
        "# ищем блоки со статьями\n",
        "posts = soup.find_all('article', class_='tm-articles-list__item')\n",
        "pprint.pprint(posts[0])"
      ]
    },
    {
      "cell_type": "code",
      "execution_count": 11,
      "metadata": {
        "colab": {
          "base_uri": "https://localhost:8080/"
        },
        "id": "LVx-eS4bwmTw",
        "outputId": "c48e01dc-fbd6-410f-b239-d3d23c1a17f6"
      },
      "outputs": [],
      "source": [
        "# добавляем извлечение хабов из постов, чтобы отбирать только нужные\n",
        "for post in posts:\n",
        "    hubs = post.find_all('a', class_='tm-article-snippet__title-link')  # ищем список всех хабов в каждой статье\n",
        "    for hub in hubs:\n",
        "        hub_lower = hub.text.lower().replace('*', '').strip()  # при помощи атрибута text обращаемся к содержимому тэга\n",
        "        #print(hub_lower)\n",
        "        # ищем вхождение хотя бы одного желаемого хаба\n",
        "        if DESIRED_HUBS in hub_lower:\n",
        "            # пост нам интересен - делаем с ним все что захотим:\n",
        "            # можно отправит в телеграм уведомление, можно на почту и т.п.\n",
        "            title_element = post.find('a', class_='tm-article-snippet__title-link')\n",
        "            print(title_element.text, title_element.get('href')) # при помощи get достаем содержимое атрибута href\n",
        "            # так как пост уже нам подошел - дальше нет смысла проверять другие его хабы\n",
        "            break"
      ]
    },
    {
      "cell_type": "markdown",
      "metadata": {
        "id": "M7nsk5t3wmTx"
      },
      "source": [
        "### Практика 2. Напишем скрипт, который будет собирать новости с сайта Коммерсанта"
      ]
    },
    {
      "cell_type": "code",
      "execution_count": 12,
      "metadata": {
        "id": "vmFDIORjwmTx"
      },
      "outputs": [],
      "source": [
        "URL = 'https://www.kommersant.ru/search/results'\n",
        "params = {\n",
        "    'search_query': 'data science',\n",
        "    'sort_type': 1, \n",
        "    'search_full': 1,\n",
        "    'time_range': 1\n",
        "}"
      ]
    },
    {
      "cell_type": "code",
      "execution_count": 13,
      "metadata": {
        "colab": {
          "base_uri": "https://localhost:8080/"
        },
        "id": "_KWOLfqkwmTx",
        "outputId": "ab897efc-177b-4b97-d68d-1d4460a2030e"
      },
      "outputs": [
        {
          "data": {
            "text/plain": [
              "200"
            ]
          },
          "execution_count": 13,
          "metadata": {},
          "output_type": "execute_result"
        }
      ],
      "source": [
        "res = requests.get(URL, params)\n",
        "res.status_code"
      ]
    },
    {
      "cell_type": "code",
      "execution_count": 14,
      "metadata": {
        "colab": {
          "base_uri": "https://localhost:8080/",
          "height": 176
        },
        "id": "_EcjjTQFwmTy",
        "outputId": "00ae176e-c23e-4697-9252-adc3045fb7c9"
      },
      "outputs": [
        {
          "data": {
            "text/plain": [
              "'\\r\\n<!DOCTYPE html>\\r\\n\\r\\n<html class=\"no-js\"  lang=\"ru\">\\r\\n<head>\\r\\n    <title>Коммерсантъ: последние новости России и мира</title>\\r\\n    <meta http-equiv=\"X-UA-Compatible\" content=\"IE=edge, chrome=1\" />\\r\\n    <meta charset=\"utf-8\" />\\r\\n\\r\\n    <meta name=\"format-detection\" content=\"telephone=no\" />\\r\\n    <meta name=\"title\" content=\"Коммерсантъ: последние новости России и мира\" />\\r\\n    <meta name=\"description\" content=\"Актуальные новости, объективный анализ и эксклюзивные комментарии о важнейших событиях и трендах\" />\\r\\n    <meta name=\"keywords\" content=\"Новости,Политика,Экономика,Бизнес,Финансы,Дело,Биржа,Рынок,Акции,Прогнозы,Критика,Интервью,Рейтинги,Документы,Деньги,Власть,Автопилот,Тематические страницы,Первые лица,Деловые новости,Мировая практика,Культура,Спорт,Weekend,Астрологический прогноз,Погода мира,Курсы валют ЦБ РФ\" />\\r\\n\\r\\n    <meta name=\"yandex-verification\" content=\"50df68945a519dbd\" />\\r\\n\\r\\n    \\r\\n<meta name=\"viewport\" content=\"width=device-width, initial-scale=1.0\" />\\r\\n\\r\\n\\r\\n\\r\\n        <me'"
            ]
          },
          "execution_count": 14,
          "metadata": {},
          "output_type": "execute_result"
        }
      ],
      "source": [
        "res.text[:1000]"
      ]
    },
    {
      "cell_type": "code",
      "execution_count": 15,
      "metadata": {
        "id": "sUyiuSAXwmTy"
      },
      "outputs": [],
      "source": [
        "soup = BeautifulSoup(res.text)\n",
        "#soup"
      ]
    },
    {
      "cell_type": "code",
      "execution_count": 16,
      "metadata": {
        "colab": {
          "base_uri": "https://localhost:8080/"
        },
        "id": "EO8e3xHswmTy",
        "outputId": "05b6b700-6079-488c-c45e-e496bf647fed"
      },
      "outputs": [
        {
          "data": {
            "text/plain": [
              "10"
            ]
          },
          "execution_count": 16,
          "metadata": {},
          "output_type": "execute_result"
        }
      ],
      "source": [
        "# добираемся до блоков с новостями\n",
        "news_blocks = soup.find_all('div', class_='uho__text')\n",
        "len(news_blocks)"
      ]
    },
    {
      "cell_type": "code",
      "execution_count": null,
      "metadata": {
        "id": "PzHKMHOV-fJB"
      },
      "outputs": [],
      "source": [
        "#news_blocks"
      ]
    },
    {
      "cell_type": "code",
      "execution_count": 17,
      "metadata": {
        "colab": {
          "base_uri": "https://localhost:8080/"
        },
        "id": "NVvxp8kfwmTy",
        "outputId": "1c8696dd-6eca-4012-ec9d-630968397216"
      },
      "outputs": [
        {
          "data": {
            "text/plain": [
              "[<a class=\"uho__link uho__link--overlay\" href=\"/doc/5100393?query=data%20science\" target=\"_blank\">У вас есть все данные</a>,\n",
              " <a class=\"uho__link uho__link--overlay\" href=\"/doc/5041434?query=data%20science\" target=\"_blank\">«Ростелеком» предлагает малому и среднему бизнесу персонифицированные решения на основе <mark>Data</mark> <mark>Science</mark></a>,\n",
              " <a class=\"uho__link uho__link--overlay\" href=\"/doc/5041567?query=data%20science\" target=\"_blank\">«Ростелеком» предлагает малому и среднему бизнесу персонифицированные решения на основе <mark>Data</mark> <mark>Science</mark></a>,\n",
              " <a class=\"uho__link uho__link--overlay\" href=\"/doc/5560586?query=data%20science\" target=\"_blank\"><mark>Data</mark> Fusion: огромные перспективы больших данных</a>,\n",
              " <a class=\"uho__link uho__link--overlay\" href=\"/doc/5380716?query=data%20science\" target=\"_blank\">Big <mark>Data</mark> на службе мегаполисов</a>,\n",
              " <a class=\"uho__link uho__link--overlay\" href=\"/doc/5100397?query=data%20science\" target=\"_blank\">«Дефицит высококлассных айтишников огромный»</a>,\n",
              " <a class=\"uho__link uho__link--overlay\" href=\"/doc/5546928?query=data%20science\" target=\"_blank\">Музыка искусственного интеллекта</a>,\n",
              " <a class=\"uho__link uho__link--overlay\" href=\"/doc/3712659?query=data%20science\" target=\"_blank\">«М.Видео-Эльдорадо» изучит контакты</a>,\n",
              " <a class=\"uho__link uho__link--overlay\" href=\"/doc/4372673?query=data%20science\" target=\"_blank\">Mail.ru Group потянуло к знаниям</a>,\n",
              " <a class=\"uho__link uho__link--overlay\" href=\"/doc/5707560?query=data%20science\" target=\"_blank\">IT в ресурсе</a>]"
            ]
          },
          "execution_count": 17,
          "metadata": {},
          "output_type": "execute_result"
        }
      ],
      "source": [
        "# добираемся до текста со ссылкой\n",
        "articles_intro = list(map(lambda x: x.find('a', class_='uho__link uho__link--overlay'), news_blocks))\n",
        "articles_intro"
      ]
    },
    {
      "cell_type": "code",
      "execution_count": 18,
      "metadata": {
        "colab": {
          "base_uri": "https://localhost:8080/"
        },
        "id": "VlgxEmH9wmTz",
        "outputId": "2dcf0fb8-20c2-49f4-ac58-3a993beb0174"
      },
      "outputs": [
        {
          "data": {
            "text/plain": [
              "['/doc/5100393?query=data%20science',\n",
              " '/doc/5041434?query=data%20science',\n",
              " '/doc/5041567?query=data%20science',\n",
              " '/doc/5560586?query=data%20science',\n",
              " '/doc/5380716?query=data%20science',\n",
              " '/doc/5100397?query=data%20science',\n",
              " '/doc/5546928?query=data%20science',\n",
              " '/doc/3712659?query=data%20science',\n",
              " '/doc/4372673?query=data%20science',\n",
              " '/doc/5707560?query=data%20science']"
            ]
          },
          "execution_count": 18,
          "metadata": {},
          "output_type": "execute_result"
        }
      ],
      "source": [
        "# добираемся до ссылок\n",
        "a_list = list(map(lambda x: x.get('href'), articles_intro))\n",
        "a_list"
      ]
    },
    {
      "cell_type": "code",
      "execution_count": 19,
      "metadata": {
        "colab": {
          "base_uri": "https://localhost:8080/"
        },
        "id": "GryyXAfywmTz",
        "outputId": "d6c3e459-e770-49d4-b5b8-d3fcfb82a765"
      },
      "outputs": [
        {
          "data": {
            "text/plain": [
              "['https://www.kommersant.ru//doc/5100393?query=data%20science',\n",
              " 'https://www.kommersant.ru//doc/5041434?query=data%20science',\n",
              " 'https://www.kommersant.ru//doc/5041567?query=data%20science',\n",
              " 'https://www.kommersant.ru//doc/5560586?query=data%20science',\n",
              " 'https://www.kommersant.ru//doc/5380716?query=data%20science',\n",
              " 'https://www.kommersant.ru//doc/5100397?query=data%20science',\n",
              " 'https://www.kommersant.ru//doc/5546928?query=data%20science',\n",
              " 'https://www.kommersant.ru//doc/3712659?query=data%20science',\n",
              " 'https://www.kommersant.ru//doc/4372673?query=data%20science',\n",
              " 'https://www.kommersant.ru//doc/5707560?query=data%20science']"
            ]
          },
          "execution_count": 19,
          "metadata": {},
          "output_type": "execute_result"
        }
      ],
      "source": [
        "# формируем полноценные ссылки\n",
        "all_refs = list(map(lambda x: 'https://www.kommersant.ru/' + x, a_list))\n",
        "all_refs"
      ]
    },
    {
      "cell_type": "code",
      "execution_count": 20,
      "metadata": {
        "colab": {
          "base_uri": "https://localhost:8080/"
        },
        "id": "0J-l0NpgwmTz",
        "outputId": "03bb984b-d551-48f1-f643-1d83071865b1"
      },
      "outputs": [
        {
          "data": {
            "text/plain": [
              "['https://www.kommersant.ru//doc/5100393?query=data%20science',\n",
              " 'https://www.kommersant.ru//doc/5041434?query=data%20science',\n",
              " 'https://www.kommersant.ru//doc/5041567?query=data%20science',\n",
              " 'https://www.kommersant.ru//doc/5560586?query=data%20science',\n",
              " 'https://www.kommersant.ru//doc/5380716?query=data%20science',\n",
              " 'https://www.kommersant.ru//doc/5100397?query=data%20science',\n",
              " 'https://www.kommersant.ru//doc/5546928?query=data%20science',\n",
              " 'https://www.kommersant.ru//doc/3712659?query=data%20science',\n",
              " 'https://www.kommersant.ru//doc/4372673?query=data%20science',\n",
              " 'https://www.kommersant.ru//doc/5707560?query=data%20science']"
            ]
          },
          "execution_count": 20,
          "metadata": {},
          "output_type": "execute_result"
        }
      ],
      "source": [
        "# объединим все в одну функцию\n",
        "import time\n",
        "def get_links(url, params, query):\n",
        "    res = requests.get(URL, params)\n",
        "    time.sleep(0.3)\n",
        "    soup = BeautifulSoup(res.text)\n",
        "    news_blocks = soup.find_all('div', class_='uho__text')\n",
        "    articles_intro = list(map(lambda x: x.find('a', class_='uho__link uho__link--overlay'), news_blocks))\n",
        "    a_list = list(map(lambda x: x.get('href'), articles_intro))\n",
        "    all_refs = list(map(lambda x: 'https://www.kommersant.ru/' + x, a_list))\n",
        "\n",
        "    return all_refs\n",
        "\n",
        "URL = 'https://www.kommersant.ru/search/results'\n",
        "params = {\n",
        "    'search_query': 'data science',\n",
        "    'sort_type': 1, \n",
        "    'search_full': 1,\n",
        "    'time_range': 1\n",
        "}\n",
        "all_links = get_links(URL, params, 'data science')\n",
        "all_links"
      ]
    },
    {
      "cell_type": "code",
      "execution_count": 21,
      "metadata": {
        "colab": {
          "base_uri": "https://localhost:8080/"
        },
        "id": "hv-8hJSrwmT0",
        "outputId": "8097790e-670d-4317-cbde-2bb9fa024e2f"
      },
      "outputs": [
        {
          "data": {
            "text/plain": [
              "['https://www.kommersant.ru//doc/5100393?query=data%20science',\n",
              " 'https://www.kommersant.ru//doc/5041434?query=data%20science',\n",
              " 'https://www.kommersant.ru//doc/5041567?query=data%20science',\n",
              " 'https://www.kommersant.ru//doc/5560586?query=data%20science',\n",
              " 'https://www.kommersant.ru//doc/5380716?query=data%20science',\n",
              " 'https://www.kommersant.ru//doc/5100397?query=data%20science',\n",
              " 'https://www.kommersant.ru//doc/5546928?query=data%20science',\n",
              " 'https://www.kommersant.ru//doc/3712659?query=data%20science',\n",
              " 'https://www.kommersant.ru//doc/4372673?query=data%20science',\n",
              " 'https://www.kommersant.ru//doc/5707560?query=data%20science',\n",
              " 'https://www.kommersant.ru//doc/5799264?query=data%20science',\n",
              " 'https://www.kommersant.ru//doc/3779060?query=data%20science']"
            ]
          },
          "execution_count": 21,
          "metadata": {},
          "output_type": "execute_result"
        }
      ],
      "source": [
        "# но мы же собрали только одну страницу? Хотим ВСЕ новости\n",
        "def get_links_from_pages(url, query, pages):\n",
        "    all_refs = []\n",
        "    for i in range(1, pages+1):\n",
        "        params['page'] = i\n",
        "        res = requests.get(URL, params)\n",
        "        time.sleep(0.3)\n",
        "        soup = BeautifulSoup(res.text)\n",
        "        news_blocks = soup.find_all('div', class_='uho__text')\n",
        "        articles_intro = list(map(lambda x: x.find('a', class_='uho__link uho__link--overlay'), news_blocks))\n",
        "        a_list = list(map(lambda x: x.get('href'), articles_intro))\n",
        "        all_refs += list(map(lambda x: 'https://www.kommersant.ru/' + x, a_list))\n",
        "    return all_refs\n",
        "\n",
        "URL = 'https://www.kommersant.ru/search/results'\n",
        "params = {\n",
        "    'search_query': 'data science',\n",
        "    'sort_type': 1, \n",
        "    'search_full': 1,\n",
        "    'time_range': 1\n",
        "}\n",
        "all_links = get_links_from_pages(URL, 'data science', 5)\n",
        "all_links[:12]"
      ]
    },
    {
      "cell_type": "markdown",
      "metadata": {
        "id": "ymNG9skG-fJC"
      },
      "source": [
        "А теперь объединим тексты статей в DataFrame"
      ]
    },
    {
      "cell_type": "code",
      "execution_count": 22,
      "metadata": {
        "id": "Zuwi0aW3wmT0"
      },
      "outputs": [],
      "source": [
        "import pandas as pd"
      ]
    },
    {
      "cell_type": "code",
      "execution_count": 23,
      "metadata": {
        "colab": {
          "base_uri": "https://localhost:8080/",
          "height": 1000
        },
        "id": "dxTj79V7wmT0",
        "outputId": "9abb8d21-5b3f-40fd-b339-bc9ce5f90f32"
      },
      "outputs": [
        {
          "data": {
            "text/html": [
              "<div>\n",
              "<style scoped>\n",
              "    .dataframe tbody tr th:only-of-type {\n",
              "        vertical-align: middle;\n",
              "    }\n",
              "\n",
              "    .dataframe tbody tr th {\n",
              "        vertical-align: top;\n",
              "    }\n",
              "\n",
              "    .dataframe thead th {\n",
              "        text-align: right;\n",
              "    }\n",
              "</style>\n",
              "<table border=\"1\" class=\"dataframe\">\n",
              "  <thead>\n",
              "    <tr style=\"text-align: right;\">\n",
              "      <th></th>\n",
              "      <th>date</th>\n",
              "      <th>title</th>\n",
              "      <th>text</th>\n",
              "    </tr>\n",
              "  </thead>\n",
              "  <tbody>\n",
              "    <tr>\n",
              "      <th>0</th>\n",
              "      <td>2021-12-02</td>\n",
              "      <td>У вас есть все данные</td>\n",
              "      <td>В быстро меняющемся мире точное прогнозировани...</td>\n",
              "    </tr>\n",
              "    <tr>\n",
              "      <th>0</th>\n",
              "      <td>2021-10-21</td>\n",
              "      <td>«Ростелеком» предлагает малому...</td>\n",
              "      <td>На основе интеллектуальной обработки данных (D...</td>\n",
              "    </tr>\n",
              "    <tr>\n",
              "      <th>0</th>\n",
              "      <td>2021-10-21</td>\n",
              "      <td>«Ростелеком» предлагает малому...</td>\n",
              "      <td>На основе интеллектуальной обработки данных (D...</td>\n",
              "    </tr>\n",
              "    <tr>\n",
              "      <th>0</th>\n",
              "      <td>2022-05-31</td>\n",
              "      <td>Big Data на службе мегаполисов...</td>\n",
              "      <td>Как большие данные помогают менять городскую с...</td>\n",
              "    </tr>\n",
              "    <tr>\n",
              "      <th>0</th>\n",
              "      <td>2021-12-02</td>\n",
              "      <td>«Дефицит высококлассных айтишн...</td>\n",
              "      <td>Из-за бума цифровой трансформации бизнес ринул...</td>\n",
              "    </tr>\n",
              "    <tr>\n",
              "      <th>0</th>\n",
              "      <td>2022-09-06</td>\n",
              "      <td>Музыка искусственного интеллек...</td>\n",
              "      <td>На фестивале «Меридиан» прошел финал хакатона ...</td>\n",
              "    </tr>\n",
              "    <tr>\n",
              "      <th>0</th>\n",
              "      <td>2018-08-13</td>\n",
              "      <td>«М.Видео-Эльдорадо» изучит кон...</td>\n",
              "      <td>Крупнейший ритейлер бытовой техники и электрон...</td>\n",
              "    </tr>\n",
              "    <tr>\n",
              "      <th>0</th>\n",
              "      <td>2020-06-08</td>\n",
              "      <td>Mail.ru Group потянуло к знани...</td>\n",
              "      <td>Mail.ru Group получила в залог 40% в образоват...</td>\n",
              "    </tr>\n",
              "    <tr>\n",
              "      <th>0</th>\n",
              "      <td>2022-12-08</td>\n",
              "      <td>IT в ресурсе</td>\n",
              "      <td>Увеличение доли IT-сектора в экономике и перен...</td>\n",
              "    </tr>\n",
              "    <tr>\n",
              "      <th>0</th>\n",
              "      <td>2023-02-03</td>\n",
              "      <td>Уралец недосчитался фундамента...</td>\n",
              "      <td>В Свердловской области суд взыскал с платформы...</td>\n",
              "    </tr>\n",
              "    <tr>\n",
              "      <th>0</th>\n",
              "      <td>2018-10-24</td>\n",
              "      <td>«Мне никогда не нравились поед...</td>\n",
              "      <td>Конфликт акционеров ГМК «Норильский никель», н...</td>\n",
              "    </tr>\n",
              "    <tr>\n",
              "      <th>0</th>\n",
              "      <td>2021-09-23</td>\n",
              "      <td>«При изменении кредитной полит...</td>\n",
              "      <td>Ирина Кремлева, член правления «ФК Открытие», ...</td>\n",
              "    </tr>\n",
              "    <tr>\n",
              "      <th>0</th>\n",
              "      <td>2017-12-20</td>\n",
              "      <td>«Инфосистемы Джет» озвучила ит...</td>\n",
              "      <td>7 ноября в Москве прошел первый Российский фор...</td>\n",
              "    </tr>\n",
              "    <tr>\n",
              "      <th>0</th>\n",
              "      <td>2021-12-02</td>\n",
              "      <td>Обычный рекрутинг тут не работ...</td>\n",
              "      <td>Найти хорошего специалиста по данным сейчас не...</td>\n",
              "    </tr>\n",
              "    <tr>\n",
              "      <th>0</th>\n",
              "      <td>2019-09-03</td>\n",
              "      <td>Что общего у квантовых техноло...</td>\n",
              "      <td>К 2019 году облачные технологии стали не прост...</td>\n",
              "    </tr>\n",
              "    <tr>\n",
              "      <th>0</th>\n",
              "      <td>2016-05-31</td>\n",
              "      <td>Проворная аналитика</td>\n",
              "      <td>Эффективный бизнес — тот, что успевает за мгно...</td>\n",
              "    </tr>\n",
              "    <tr>\n",
              "      <th>0</th>\n",
              "      <td>2022-10-03</td>\n",
              "      <td>Онлайн-учеба взяла академ     ...</td>\n",
              "      <td>Edtech-компании, специализирующиеся на обучени...</td>\n",
              "    </tr>\n",
              "    <tr>\n",
              "      <th>0</th>\n",
              "      <td>2018-10-06</td>\n",
              "      <td>Образование готовят к переходу...</td>\n",
              "      <td>В Москве уже в пятый раз прошла международная ...</td>\n",
              "    </tr>\n",
              "    <tr>\n",
              "      <th>0</th>\n",
              "      <td>2021-10-28</td>\n",
              "      <td>«Сегодня Россия — один из миро...</td>\n",
              "      <td>Розничная торговля стала одной из тех, кто при...</td>\n",
              "    </tr>\n",
              "    <tr>\n",
              "      <th>0</th>\n",
              "      <td>2019-06-26</td>\n",
              "      <td>ID Finance стала резидентом Ск...</td>\n",
              "      <td>Компания IDF Lab (data science центр ID Financ...</td>\n",
              "    </tr>\n",
              "    <tr>\n",
              "      <th>0</th>\n",
              "      <td>2019-12-10</td>\n",
              "      <td>«Мы берем те же атомы, но стро...</td>\n",
              "      <td>Спустя десятилетие, поработав с тех пор на рук...</td>\n",
              "    </tr>\n",
              "    <tr>\n",
              "      <th>0</th>\n",
              "      <td>2018-09-19</td>\n",
              "      <td>\"Бизнес был прибыльным с перво...</td>\n",
              "      <td>Александр Турилин, основатель SkillFactory, од...</td>\n",
              "    </tr>\n",
              "    <tr>\n",
              "      <th>0</th>\n",
              "      <td>2017-10-19</td>\n",
              "      <td>Системный подход</td>\n",
              "      <td>Однажды начав цифровую трансформацию, уже нель...</td>\n",
              "    </tr>\n",
              "    <tr>\n",
              "      <th>0</th>\n",
              "      <td>2019-06-06</td>\n",
              "      <td>Инвестиционные инъекции       ...</td>\n",
              "      <td>Количество новых проектов в медицине растет ка...</td>\n",
              "    </tr>\n",
              "    <tr>\n",
              "      <th>0</th>\n",
              "      <td>2022-01-27</td>\n",
              "      <td>Сразу пять ИТ-проектов банка «...</td>\n",
              "      <td>Проект «Трансформация каналов внутренних комму...</td>\n",
              "    </tr>\n",
              "    <tr>\n",
              "      <th>0</th>\n",
              "      <td>2022-03-23</td>\n",
              "      <td>Расширение штата по всем напра...</td>\n",
              "      <td>МТС объявляет о расширении набора специалистов...</td>\n",
              "    </tr>\n",
              "    <tr>\n",
              "      <th>0</th>\n",
              "      <td>2022-07-22</td>\n",
              "      <td>МТС увеличит количество ИТ-спе...</td>\n",
              "      <td>До конца года компания планирует принять на ра...</td>\n",
              "    </tr>\n",
              "    <tr>\n",
              "      <th>0</th>\n",
              "      <td>2022-09-06</td>\n",
              "      <td>Айтишники в тренде</td>\n",
              "      <td>Аналитики Price.ru и Авито Работы рассказали о...</td>\n",
              "    </tr>\n",
              "    <tr>\n",
              "      <th>0</th>\n",
              "      <td>2017-11-25</td>\n",
              "      <td>«Для нашей профессии очень просто найт...</td>\n",
              "      <td>Команда Harbour.Space: Артур Миндияров, 23 год...</td>\n",
              "    </tr>\n",
              "    <tr>\n",
              "      <th>0</th>\n",
              "      <td>2020-12-08</td>\n",
              "      <td>Избежать рутины</td>\n",
              "      <td>Цифровая трансформация от высокотехнологичных ...</td>\n",
              "    </tr>\n",
              "    <tr>\n",
              "      <th>0</th>\n",
              "      <td>2021-05-31</td>\n",
              "      <td>«Не то, не так, не там и не во...</td>\n",
              "      <td>Зачем в эпоху цифровых технологий наращивать с...</td>\n",
              "    </tr>\n",
              "    <tr>\n",
              "      <th>0</th>\n",
              "      <td>2019-06-25</td>\n",
              "      <td>Образование в два клика       ...</td>\n",
              "      <td>400 млн человек по всему миру в ближайшие деся...</td>\n",
              "    </tr>\n",
              "    <tr>\n",
              "      <th>0</th>\n",
              "      <td>2019-09-03</td>\n",
              "      <td>Что важнее — софт или «железо»...</td>\n",
              "      <td>Почти 90% тех данных, что существуют в мире се...</td>\n",
              "    </tr>\n",
              "    <tr>\n",
              "      <th>0</th>\n",
              "      <td>2019-10-31</td>\n",
              "      <td>Искусственный интеллект для не...</td>\n",
              "      <td>Эволюция идей «Индустрии 4.0» продолжается, хо...</td>\n",
              "    </tr>\n",
              "    <tr>\n",
              "      <th>0</th>\n",
              "      <td>2023-01-12</td>\n",
              "      <td>Вакансии на перспективу       ...</td>\n",
              "      <td>В этом году российские банки планируют расшири...</td>\n",
              "    </tr>\n",
              "    <tr>\n",
              "      <th>0</th>\n",
              "      <td>2023-03-15</td>\n",
              "      <td>GPT-4 учится на картинках     ...</td>\n",
              "      <td>Разработчики ChatGPT представили новую версию ...</td>\n",
              "    </tr>\n",
              "    <tr>\n",
              "      <th>0</th>\n",
              "      <td>2023-03-29</td>\n",
              "      <td>Удаленная работа наращивает ди...</td>\n",
              "      <td>Спустя три года после начала пандемии коронави...</td>\n",
              "    </tr>\n",
              "    <tr>\n",
              "      <th>0</th>\n",
              "      <td>2023-04-21</td>\n",
              "      <td>В IT по требованию</td>\n",
              "      <td>Традиционный дефицит IT-кадров, который наблюд...</td>\n",
              "    </tr>\n",
              "    <tr>\n",
              "      <th>0</th>\n",
              "      <td>2022-06-13</td>\n",
              "      <td>Чат-бот претендует на личность...</td>\n",
              "      <td>Сотрудник Google объявил, что создал нейросеть...</td>\n",
              "    </tr>\n",
              "    <tr>\n",
              "      <th>0</th>\n",
              "      <td>2022-07-14</td>\n",
              "      <td>Малому бизнесу пришел пакет   ...</td>\n",
              "      <td>Крупнейшие универсальные банки активно работаю...</td>\n",
              "    </tr>\n",
              "    <tr>\n",
              "      <th>0</th>\n",
              "      <td>2022-07-29</td>\n",
              "      <td>В строке поиска — Латинская Ам...</td>\n",
              "      <td>«Яндекс», чьи возможности развития в Европе и ...</td>\n",
              "    </tr>\n",
              "    <tr>\n",
              "      <th>0</th>\n",
              "      <td>2022-09-20</td>\n",
              "      <td>Нефтегаз цифруется по-своему  ...</td>\n",
              "      <td>Активное внедрение IT-технологий на предприяти...</td>\n",
              "    </tr>\n",
              "  </tbody>\n",
              "</table>\n",
              "</div>"
            ],
            "text/plain": [
              "         date                                              title  \\\n",
              "0  2021-12-02                  У вас есть все данные               \n",
              "0  2021-10-21                  «Ростелеком» предлагает малому...   \n",
              "0  2021-10-21                  «Ростелеком» предлагает малому...   \n",
              "0  2022-05-31                  Big Data на службе мегаполисов...   \n",
              "0  2021-12-02                  «Дефицит высококлассных айтишн...   \n",
              "0  2022-09-06                  Музыка искусственного интеллек...   \n",
              "0  2018-08-13                  «М.Видео-Эльдорадо» изучит кон...   \n",
              "0  2020-06-08                  Mail.ru Group потянуло к знани...   \n",
              "0  2022-12-08                           IT в ресурсе               \n",
              "0  2023-02-03                  Уралец недосчитался фундамента...   \n",
              "0  2018-10-24                  «Мне никогда не нравились поед...   \n",
              "0  2021-09-23                  «При изменении кредитной полит...   \n",
              "0  2017-12-20                  «Инфосистемы Джет» озвучила ит...   \n",
              "0  2021-12-02                  Обычный рекрутинг тут не работ...   \n",
              "0  2019-09-03                  Что общего у квантовых техноло...   \n",
              "0  2016-05-31                    Проворная аналитика               \n",
              "0  2022-10-03                  Онлайн-учеба взяла академ     ...   \n",
              "0  2018-10-06                  Образование готовят к переходу...   \n",
              "0  2021-10-28                  «Сегодня Россия — один из миро...   \n",
              "0  2019-06-26                  ID Finance стала резидентом Ск...   \n",
              "0  2019-12-10                  «Мы берем те же атомы, но стро...   \n",
              "0  2018-09-19                  \"Бизнес был прибыльным с перво...   \n",
              "0  2017-10-19                       Системный подход               \n",
              "0  2019-06-06                  Инвестиционные инъекции       ...   \n",
              "0  2022-01-27                  Сразу пять ИТ-проектов банка «...   \n",
              "0  2022-03-23                  Расширение штата по всем напра...   \n",
              "0  2022-07-22                  МТС увеличит количество ИТ-спе...   \n",
              "0  2022-09-06                     Айтишники в тренде               \n",
              "0  2017-11-25          «Для нашей профессии очень просто найт...   \n",
              "0  2020-12-08                        Избежать рутины               \n",
              "0  2021-05-31                  «Не то, не так, не там и не во...   \n",
              "0  2019-06-25                  Образование в два клика       ...   \n",
              "0  2019-09-03                  Что важнее — софт или «железо»...   \n",
              "0  2019-10-31                  Искусственный интеллект для не...   \n",
              "0  2023-01-12                  Вакансии на перспективу       ...   \n",
              "0  2023-03-15                  GPT-4 учится на картинках     ...   \n",
              "0  2023-03-29                  Удаленная работа наращивает ди...   \n",
              "0  2023-04-21                     В IT по требованию               \n",
              "0  2022-06-13                  Чат-бот претендует на личность...   \n",
              "0  2022-07-14                  Малому бизнесу пришел пакет   ...   \n",
              "0  2022-07-29                  В строке поиска — Латинская Ам...   \n",
              "0  2022-09-20                  Нефтегаз цифруется по-своему  ...   \n",
              "\n",
              "                                                text  \n",
              "0  В быстро меняющемся мире точное прогнозировани...  \n",
              "0  На основе интеллектуальной обработки данных (D...  \n",
              "0  На основе интеллектуальной обработки данных (D...  \n",
              "0  Как большие данные помогают менять городскую с...  \n",
              "0  Из-за бума цифровой трансформации бизнес ринул...  \n",
              "0  На фестивале «Меридиан» прошел финал хакатона ...  \n",
              "0  Крупнейший ритейлер бытовой техники и электрон...  \n",
              "0  Mail.ru Group получила в залог 40% в образоват...  \n",
              "0  Увеличение доли IT-сектора в экономике и перен...  \n",
              "0  В Свердловской области суд взыскал с платформы...  \n",
              "0  Конфликт акционеров ГМК «Норильский никель», н...  \n",
              "0  Ирина Кремлева, член правления «ФК Открытие», ...  \n",
              "0  7 ноября в Москве прошел первый Российский фор...  \n",
              "0  Найти хорошего специалиста по данным сейчас не...  \n",
              "0  К 2019 году облачные технологии стали не прост...  \n",
              "0  Эффективный бизнес — тот, что успевает за мгно...  \n",
              "0  Edtech-компании, специализирующиеся на обучени...  \n",
              "0  В Москве уже в пятый раз прошла международная ...  \n",
              "0  Розничная торговля стала одной из тех, кто при...  \n",
              "0  Компания IDF Lab (data science центр ID Financ...  \n",
              "0  Спустя десятилетие, поработав с тех пор на рук...  \n",
              "0  Александр Турилин, основатель SkillFactory, од...  \n",
              "0  Однажды начав цифровую трансформацию, уже нель...  \n",
              "0  Количество новых проектов в медицине растет ка...  \n",
              "0  Проект «Трансформация каналов внутренних комму...  \n",
              "0  МТС объявляет о расширении набора специалистов...  \n",
              "0  До конца года компания планирует принять на ра...  \n",
              "0  Аналитики Price.ru и Авито Работы рассказали о...  \n",
              "0  Команда Harbour.Space: Артур Миндияров, 23 год...  \n",
              "0  Цифровая трансформация от высокотехнологичных ...  \n",
              "0  Зачем в эпоху цифровых технологий наращивать с...  \n",
              "0  400 млн человек по всему миру в ближайшие деся...  \n",
              "0  Почти 90% тех данных, что существуют в мире се...  \n",
              "0  Эволюция идей «Индустрии 4.0» продолжается, хо...  \n",
              "0  В этом году российские банки планируют расшири...  \n",
              "0  Разработчики ChatGPT представили новую версию ...  \n",
              "0  Спустя три года после начала пандемии коронави...  \n",
              "0  Традиционный дефицит IT-кадров, который наблюд...  \n",
              "0  Сотрудник Google объявил, что создал нейросеть...  \n",
              "0  Крупнейшие универсальные банки активно работаю...  \n",
              "0  «Яндекс», чьи возможности развития в Европе и ...  \n",
              "0  Активное внедрение IT-технологий на предприяти...  "
            ]
          },
          "execution_count": 23,
          "metadata": {},
          "output_type": "execute_result"
        }
      ],
      "source": [
        "kom_news = pd.DataFrame()\n",
        "for link in all_links:\n",
        "    try:\n",
        "        document = requests.get(link).text\n",
        "        soup = BeautifulSoup(document)\n",
        "        time.sleep(0.3)\n",
        "        date = soup.find('div', class_='doc_header__time').find('time').get('datetime')\n",
        "        date = pd.to_datetime(date, dayfirst=True).date()\n",
        "        #print(date)\n",
        "        title = soup.find('h1', class_='doc_header__name js-search-mark').text\n",
        "        title = title.replace('\\n', '').replace('\\r', '')\n",
        "        #print(title)\n",
        "        text = soup.find('p', class_='doc__text doc__intro').text\n",
        "        #print(text)\n",
        "        text = text.replace('\\n', '').replace('\\r', '')\n",
        "        row = {'date': date, 'title': title, 'text': text}\n",
        "        kom_news = pd.concat([kom_news, pd.DataFrame([row])])  \n",
        "    except AttributeError:\n",
        "        continue\n",
        "kom_news"
      ]
    },
    {
      "cell_type": "markdown",
      "metadata": {
        "id": "q-hVNKYLwmT2"
      },
      "source": [
        "### Проблемы веб-скрапинга\n",
        "\n",
        "1) Огромное многообразие сайтов и у каждого сайта своя структура\n",
        "\n",
        "2) Сайты постоянно меняются\n",
        "\n",
        "3) Контент сайта может формироваться динамически (тогда его содержимое из HTML не достать)\n",
        "\n",
        "4) Сайты могут использовать различные средства для защиты от скрапинга.\n"
      ]
    },
    {
      "cell_type": "markdown",
      "metadata": {
        "id": "7EGuFGDPuVom"
      },
      "source": [
        "### Спасибо за внимание! Буду рад ответить на ваши вопросы\n",
        "Форма ОС: https://forms.gle/y8xaFwJqtbFSjUeG8"
      ]
    }
  ],
  "metadata": {
    "colab": {
      "collapsed_sections": [
        "q-hVNKYLwmT2"
      ],
      "provenance": []
    },
    "kernelspec": {
      "display_name": "Python 3 (ipykernel)",
      "language": "python",
      "name": "python3"
    },
    "language_info": {
      "codemirror_mode": {
        "name": "ipython",
        "version": 3
      },
      "file_extension": ".py",
      "mimetype": "text/x-python",
      "name": "python",
      "nbconvert_exporter": "python",
      "pygments_lexer": "ipython3",
      "version": "3.10.4"
    }
  },
  "nbformat": 4,
  "nbformat_minor": 0
}
